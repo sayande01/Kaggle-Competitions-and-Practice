{
 "cells": [
  {
   "cell_type": "code",
   "execution_count": 1,
   "id": "9399953f",
   "metadata": {
    "_cell_guid": "b1076dfc-b9ad-4769-8c92-a6c4dae69d19",
    "_uuid": "8f2839f25d086af736a60e9eeb907d3b93b6e0e5",
    "execution": {
     "iopub.execute_input": "2024-09-06T19:05:18.827637Z",
     "iopub.status.busy": "2024-09-06T19:05:18.827169Z",
     "iopub.status.idle": "2024-09-06T19:05:21.054613Z",
     "shell.execute_reply": "2024-09-06T19:05:21.053319Z"
    },
    "papermill": {
     "duration": 2.252247,
     "end_time": "2024-09-06T19:05:21.057126",
     "exception": false,
     "start_time": "2024-09-06T19:05:18.804879",
     "status": "completed"
    },
    "tags": []
   },
   "outputs": [
    {
     "name": "stdout",
     "output_type": "stream",
     "text": [
      "/kaggle/input/student-performance-multiple-linear-regression/Student_Performance.csv\n"
     ]
    }
   ],
   "source": [
    "# This Python 3 environment comes with many helpful analytics libraries installed\n",
    "# It is defined by the kaggle/python Docker image: https://github.com/kaggle/docker-python\n",
    "# For example, here's several helpful packages to load\n",
    "\n",
    "import numpy as np # linear algebra\n",
    "import pandas as pd # data processing, CSV file I/O (e.g. pd.read_csv)\n",
    "import matplotlib.pyplot as plt\n",
    "import seaborn as sns\n",
    "import warnings\n",
    "warnings.filterwarnings('ignore')\n",
    "\n",
    "\n",
    "# Input data files are available in the read-only \"../input/\" directory\n",
    "# For example, running this (by clicking run or pressing Shift+Enter) will list all files under the input directory\n",
    "\n",
    "import os\n",
    "for dirname, _, filenames in os.walk('/kaggle/input'):\n",
    "    for filename in filenames:\n",
    "        print(os.path.join(dirname, filename))\n",
    "\n",
    "# You can write up to 20GB to the current directory (/kaggle/working/) that gets preserved as output when you create a version using \"Save & Run All\" \n",
    "# You can also write temporary files to /kaggle/temp/, but they won't be saved outside of the current session"
   ]
  },
  {
   "cell_type": "code",
   "execution_count": 2,
   "id": "c79cef77",
   "metadata": {
    "execution": {
     "iopub.execute_input": "2024-09-06T19:05:21.093880Z",
     "iopub.status.busy": "2024-09-06T19:05:21.093266Z",
     "iopub.status.idle": "2024-09-06T19:05:21.122064Z",
     "shell.execute_reply": "2024-09-06T19:05:21.120909Z"
    },
    "papermill": {
     "duration": 0.050307,
     "end_time": "2024-09-06T19:05:21.124824",
     "exception": false,
     "start_time": "2024-09-06T19:05:21.074517",
     "status": "completed"
    },
    "tags": []
   },
   "outputs": [],
   "source": [
    "df = pd.read_csv('/kaggle/input/student-performance-multiple-linear-regression/Student_Performance.csv')"
   ]
  },
  {
   "cell_type": "markdown",
   "id": "2abec356",
   "metadata": {
    "papermill": {
     "duration": 0.017986,
     "end_time": "2024-09-06T19:05:21.161790",
     "exception": false,
     "start_time": "2024-09-06T19:05:21.143804",
     "status": "completed"
    },
    "tags": []
   },
   "source": [
    "# Data Overview"
   ]
  },
  {
   "cell_type": "code",
   "execution_count": 3,
   "id": "45a38b1f",
   "metadata": {
    "execution": {
     "iopub.execute_input": "2024-09-06T19:05:21.198853Z",
     "iopub.status.busy": "2024-09-06T19:05:21.198412Z",
     "iopub.status.idle": "2024-09-06T19:05:21.224557Z",
     "shell.execute_reply": "2024-09-06T19:05:21.223498Z"
    },
    "papermill": {
     "duration": 0.047611,
     "end_time": "2024-09-06T19:05:21.227037",
     "exception": false,
     "start_time": "2024-09-06T19:05:21.179426",
     "status": "completed"
    },
    "tags": []
   },
   "outputs": [
    {
     "data": {
      "text/html": [
       "<div>\n",
       "<style scoped>\n",
       "    .dataframe tbody tr th:only-of-type {\n",
       "        vertical-align: middle;\n",
       "    }\n",
       "\n",
       "    .dataframe tbody tr th {\n",
       "        vertical-align: top;\n",
       "    }\n",
       "\n",
       "    .dataframe thead th {\n",
       "        text-align: right;\n",
       "    }\n",
       "</style>\n",
       "<table border=\"1\" class=\"dataframe\">\n",
       "  <thead>\n",
       "    <tr style=\"text-align: right;\">\n",
       "      <th></th>\n",
       "      <th>Hours Studied</th>\n",
       "      <th>Previous Scores</th>\n",
       "      <th>Extracurricular Activities</th>\n",
       "      <th>Sleep Hours</th>\n",
       "      <th>Sample Question Papers Practiced</th>\n",
       "      <th>Performance Index</th>\n",
       "    </tr>\n",
       "  </thead>\n",
       "  <tbody>\n",
       "    <tr>\n",
       "      <th>0</th>\n",
       "      <td>7</td>\n",
       "      <td>99</td>\n",
       "      <td>Yes</td>\n",
       "      <td>9</td>\n",
       "      <td>1</td>\n",
       "      <td>91.0</td>\n",
       "    </tr>\n",
       "    <tr>\n",
       "      <th>1</th>\n",
       "      <td>4</td>\n",
       "      <td>82</td>\n",
       "      <td>No</td>\n",
       "      <td>4</td>\n",
       "      <td>2</td>\n",
       "      <td>65.0</td>\n",
       "    </tr>\n",
       "    <tr>\n",
       "      <th>2</th>\n",
       "      <td>8</td>\n",
       "      <td>51</td>\n",
       "      <td>Yes</td>\n",
       "      <td>7</td>\n",
       "      <td>2</td>\n",
       "      <td>45.0</td>\n",
       "    </tr>\n",
       "    <tr>\n",
       "      <th>3</th>\n",
       "      <td>5</td>\n",
       "      <td>52</td>\n",
       "      <td>Yes</td>\n",
       "      <td>5</td>\n",
       "      <td>2</td>\n",
       "      <td>36.0</td>\n",
       "    </tr>\n",
       "    <tr>\n",
       "      <th>4</th>\n",
       "      <td>7</td>\n",
       "      <td>75</td>\n",
       "      <td>No</td>\n",
       "      <td>8</td>\n",
       "      <td>5</td>\n",
       "      <td>66.0</td>\n",
       "    </tr>\n",
       "  </tbody>\n",
       "</table>\n",
       "</div>"
      ],
      "text/plain": [
       "   Hours Studied  Previous Scores Extracurricular Activities  Sleep Hours  \\\n",
       "0              7               99                        Yes            9   \n",
       "1              4               82                         No            4   \n",
       "2              8               51                        Yes            7   \n",
       "3              5               52                        Yes            5   \n",
       "4              7               75                         No            8   \n",
       "\n",
       "   Sample Question Papers Practiced  Performance Index  \n",
       "0                                 1               91.0  \n",
       "1                                 2               65.0  \n",
       "2                                 2               45.0  \n",
       "3                                 2               36.0  \n",
       "4                                 5               66.0  "
      ]
     },
     "execution_count": 3,
     "metadata": {},
     "output_type": "execute_result"
    }
   ],
   "source": [
    "df.head()"
   ]
  },
  {
   "cell_type": "code",
   "execution_count": 4,
   "id": "cb3a0487",
   "metadata": {
    "execution": {
     "iopub.execute_input": "2024-09-06T19:05:21.263966Z",
     "iopub.status.busy": "2024-09-06T19:05:21.263518Z",
     "iopub.status.idle": "2024-09-06T19:05:21.270536Z",
     "shell.execute_reply": "2024-09-06T19:05:21.269465Z"
    },
    "papermill": {
     "duration": 0.028327,
     "end_time": "2024-09-06T19:05:21.272899",
     "exception": false,
     "start_time": "2024-09-06T19:05:21.244572",
     "status": "completed"
    },
    "tags": []
   },
   "outputs": [
    {
     "data": {
      "text/plain": [
       "(10000, 6)"
      ]
     },
     "execution_count": 4,
     "metadata": {},
     "output_type": "execute_result"
    }
   ],
   "source": [
    "df.shape"
   ]
  },
  {
   "cell_type": "code",
   "execution_count": 5,
   "id": "28381df9",
   "metadata": {
    "execution": {
     "iopub.execute_input": "2024-09-06T19:05:21.311382Z",
     "iopub.status.busy": "2024-09-06T19:05:21.310964Z",
     "iopub.status.idle": "2024-09-06T19:05:21.341392Z",
     "shell.execute_reply": "2024-09-06T19:05:21.339909Z"
    },
    "papermill": {
     "duration": 0.053074,
     "end_time": "2024-09-06T19:05:21.344021",
     "exception": false,
     "start_time": "2024-09-06T19:05:21.290947",
     "status": "completed"
    },
    "tags": []
   },
   "outputs": [
    {
     "name": "stdout",
     "output_type": "stream",
     "text": [
      "<class 'pandas.core.frame.DataFrame'>\n",
      "RangeIndex: 10000 entries, 0 to 9999\n",
      "Data columns (total 6 columns):\n",
      " #   Column                            Non-Null Count  Dtype  \n",
      "---  ------                            --------------  -----  \n",
      " 0   Hours Studied                     10000 non-null  int64  \n",
      " 1   Previous Scores                   10000 non-null  int64  \n",
      " 2   Extracurricular Activities        10000 non-null  object \n",
      " 3   Sleep Hours                       10000 non-null  int64  \n",
      " 4   Sample Question Papers Practiced  10000 non-null  int64  \n",
      " 5   Performance Index                 10000 non-null  float64\n",
      "dtypes: float64(1), int64(4), object(1)\n",
      "memory usage: 468.9+ KB\n"
     ]
    }
   ],
   "source": [
    "df.info()"
   ]
  },
  {
   "cell_type": "code",
   "execution_count": 6,
   "id": "2449f646",
   "metadata": {
    "execution": {
     "iopub.execute_input": "2024-09-06T19:05:21.384546Z",
     "iopub.status.busy": "2024-09-06T19:05:21.384095Z",
     "iopub.status.idle": "2024-09-06T19:05:21.395049Z",
     "shell.execute_reply": "2024-09-06T19:05:21.393897Z"
    },
    "papermill": {
     "duration": 0.035168,
     "end_time": "2024-09-06T19:05:21.397732",
     "exception": false,
     "start_time": "2024-09-06T19:05:21.362564",
     "status": "completed"
    },
    "tags": []
   },
   "outputs": [
    {
     "data": {
      "text/plain": [
       "Hours Studied                       0\n",
       "Previous Scores                     0\n",
       "Extracurricular Activities          0\n",
       "Sleep Hours                         0\n",
       "Sample Question Papers Practiced    0\n",
       "Performance Index                   0\n",
       "dtype: int64"
      ]
     },
     "execution_count": 6,
     "metadata": {},
     "output_type": "execute_result"
    }
   ],
   "source": [
    "df.isnull().sum()"
   ]
  },
  {
   "cell_type": "code",
   "execution_count": 7,
   "id": "0a52af84",
   "metadata": {
    "execution": {
     "iopub.execute_input": "2024-09-06T19:05:21.435766Z",
     "iopub.status.busy": "2024-09-06T19:05:21.435334Z",
     "iopub.status.idle": "2024-09-06T19:05:21.469896Z",
     "shell.execute_reply": "2024-09-06T19:05:21.468603Z"
    },
    "papermill": {
     "duration": 0.056311,
     "end_time": "2024-09-06T19:05:21.472347",
     "exception": false,
     "start_time": "2024-09-06T19:05:21.416036",
     "status": "completed"
    },
    "tags": []
   },
   "outputs": [
    {
     "data": {
      "text/html": [
       "<div>\n",
       "<style scoped>\n",
       "    .dataframe tbody tr th:only-of-type {\n",
       "        vertical-align: middle;\n",
       "    }\n",
       "\n",
       "    .dataframe tbody tr th {\n",
       "        vertical-align: top;\n",
       "    }\n",
       "\n",
       "    .dataframe thead th {\n",
       "        text-align: right;\n",
       "    }\n",
       "</style>\n",
       "<table border=\"1\" class=\"dataframe\">\n",
       "  <thead>\n",
       "    <tr style=\"text-align: right;\">\n",
       "      <th></th>\n",
       "      <th>Hours Studied</th>\n",
       "      <th>Previous Scores</th>\n",
       "      <th>Sleep Hours</th>\n",
       "      <th>Sample Question Papers Practiced</th>\n",
       "      <th>Performance Index</th>\n",
       "    </tr>\n",
       "  </thead>\n",
       "  <tbody>\n",
       "    <tr>\n",
       "      <th>count</th>\n",
       "      <td>10000.000000</td>\n",
       "      <td>10000.000000</td>\n",
       "      <td>10000.000000</td>\n",
       "      <td>10000.000000</td>\n",
       "      <td>10000.000000</td>\n",
       "    </tr>\n",
       "    <tr>\n",
       "      <th>mean</th>\n",
       "      <td>4.992900</td>\n",
       "      <td>69.445700</td>\n",
       "      <td>6.530600</td>\n",
       "      <td>4.583300</td>\n",
       "      <td>55.224800</td>\n",
       "    </tr>\n",
       "    <tr>\n",
       "      <th>std</th>\n",
       "      <td>2.589309</td>\n",
       "      <td>17.343152</td>\n",
       "      <td>1.695863</td>\n",
       "      <td>2.867348</td>\n",
       "      <td>19.212558</td>\n",
       "    </tr>\n",
       "    <tr>\n",
       "      <th>min</th>\n",
       "      <td>1.000000</td>\n",
       "      <td>40.000000</td>\n",
       "      <td>4.000000</td>\n",
       "      <td>0.000000</td>\n",
       "      <td>10.000000</td>\n",
       "    </tr>\n",
       "    <tr>\n",
       "      <th>25%</th>\n",
       "      <td>3.000000</td>\n",
       "      <td>54.000000</td>\n",
       "      <td>5.000000</td>\n",
       "      <td>2.000000</td>\n",
       "      <td>40.000000</td>\n",
       "    </tr>\n",
       "    <tr>\n",
       "      <th>50%</th>\n",
       "      <td>5.000000</td>\n",
       "      <td>69.000000</td>\n",
       "      <td>7.000000</td>\n",
       "      <td>5.000000</td>\n",
       "      <td>55.000000</td>\n",
       "    </tr>\n",
       "    <tr>\n",
       "      <th>75%</th>\n",
       "      <td>7.000000</td>\n",
       "      <td>85.000000</td>\n",
       "      <td>8.000000</td>\n",
       "      <td>7.000000</td>\n",
       "      <td>71.000000</td>\n",
       "    </tr>\n",
       "    <tr>\n",
       "      <th>max</th>\n",
       "      <td>9.000000</td>\n",
       "      <td>99.000000</td>\n",
       "      <td>9.000000</td>\n",
       "      <td>9.000000</td>\n",
       "      <td>100.000000</td>\n",
       "    </tr>\n",
       "  </tbody>\n",
       "</table>\n",
       "</div>"
      ],
      "text/plain": [
       "       Hours Studied  Previous Scores   Sleep Hours  \\\n",
       "count   10000.000000     10000.000000  10000.000000   \n",
       "mean        4.992900        69.445700      6.530600   \n",
       "std         2.589309        17.343152      1.695863   \n",
       "min         1.000000        40.000000      4.000000   \n",
       "25%         3.000000        54.000000      5.000000   \n",
       "50%         5.000000        69.000000      7.000000   \n",
       "75%         7.000000        85.000000      8.000000   \n",
       "max         9.000000        99.000000      9.000000   \n",
       "\n",
       "       Sample Question Papers Practiced  Performance Index  \n",
       "count                      10000.000000       10000.000000  \n",
       "mean                           4.583300          55.224800  \n",
       "std                            2.867348          19.212558  \n",
       "min                            0.000000          10.000000  \n",
       "25%                            2.000000          40.000000  \n",
       "50%                            5.000000          55.000000  \n",
       "75%                            7.000000          71.000000  \n",
       "max                            9.000000         100.000000  "
      ]
     },
     "execution_count": 7,
     "metadata": {},
     "output_type": "execute_result"
    }
   ],
   "source": [
    "df.describe()"
   ]
  },
  {
   "cell_type": "code",
   "execution_count": 8,
   "id": "a0915d20",
   "metadata": {
    "execution": {
     "iopub.execute_input": "2024-09-06T19:05:21.512668Z",
     "iopub.status.busy": "2024-09-06T19:05:21.512271Z",
     "iopub.status.idle": "2024-09-06T19:05:21.520090Z",
     "shell.execute_reply": "2024-09-06T19:05:21.518908Z"
    },
    "papermill": {
     "duration": 0.03017,
     "end_time": "2024-09-06T19:05:21.522775",
     "exception": false,
     "start_time": "2024-09-06T19:05:21.492605",
     "status": "completed"
    },
    "tags": []
   },
   "outputs": [
    {
     "data": {
      "text/plain": [
       "Index(['Hours Studied', 'Previous Scores', 'Extracurricular Activities',\n",
       "       'Sleep Hours', 'Sample Question Papers Practiced', 'Performance Index'],\n",
       "      dtype='object')"
      ]
     },
     "execution_count": 8,
     "metadata": {},
     "output_type": "execute_result"
    }
   ],
   "source": [
    "df.columns"
   ]
  },
  {
   "cell_type": "markdown",
   "id": "5ef10769",
   "metadata": {
    "papermill": {
     "duration": 0.019171,
     "end_time": "2024-09-06T19:05:21.560644",
     "exception": false,
     "start_time": "2024-09-06T19:05:21.541473",
     "status": "completed"
    },
    "tags": []
   },
   "source": [
    "# Visualization"
   ]
  },
  {
   "cell_type": "markdown",
   "id": "b22dc749",
   "metadata": {
    "papermill": {
     "duration": 0.018213,
     "end_time": "2024-09-06T19:05:21.597319",
     "exception": false,
     "start_time": "2024-09-06T19:05:21.579106",
     "status": "completed"
    },
    "tags": []
   },
   "source": [
    "**Studying Hours**"
   ]
  },
  {
   "cell_type": "code",
   "execution_count": 9,
   "id": "07113216",
   "metadata": {
    "execution": {
     "iopub.execute_input": "2024-09-06T19:05:21.637085Z",
     "iopub.status.busy": "2024-09-06T19:05:21.636626Z",
     "iopub.status.idle": "2024-09-06T19:05:21.945590Z",
     "shell.execute_reply": "2024-09-06T19:05:21.944435Z"
    },
    "papermill": {
     "duration": 0.331804,
     "end_time": "2024-09-06T19:05:21.948270",
     "exception": false,
     "start_time": "2024-09-06T19:05:21.616466",
     "status": "completed"
    },
    "tags": []
   },
   "outputs": [
    {
     "data": {
      "image/png": "[encoded data removed]",
      "text/plain": [
       "<Figure size 640x480 with 1 Axes>"
      ]
     },
     "metadata": {},
     "output_type": "display_data"
    }
   ],
   "source": [
    "sns.countplot(x = 'Hours Studied', data = df)\n",
    "plt.show()"
   ]
  },
  {
   "cell_type": "markdown",
   "id": "f668abf4",
   "metadata": {
    "papermill": {
     "duration": 0.018539,
     "end_time": "2024-09-06T19:05:21.986164",
     "exception": false,
     "start_time": "2024-09-06T19:05:21.967625",
     "status": "completed"
    },
    "tags": []
   },
   "source": [
    "**Previous Scores**"
   ]
  },
  {
   "cell_type": "code",
   "execution_count": 10,
   "id": "04a35924",
   "metadata": {
    "execution": {
     "iopub.execute_input": "2024-09-06T19:05:22.025504Z",
     "iopub.status.busy": "2024-09-06T19:05:22.025100Z",
     "iopub.status.idle": "2024-09-06T19:05:22.260919Z",
     "shell.execute_reply": "2024-09-06T19:05:22.259694Z"
    },
    "papermill": {
     "duration": 0.258971,
     "end_time": "2024-09-06T19:05:22.263858",
     "exception": false,
     "start_time": "2024-09-06T19:05:22.004887",
     "status": "completed"
    },
    "tags": []
   },
   "outputs": [
    {
     "data": {
      "text/plain": [
       "<Axes: ylabel='Previous Scores'>"
      ]
     },
     "execution_count": 10,
     "metadata": {},
     "output_type": "execute_result"
    },
    {
     "data": {
      "image/png": "[encoded data removed]",
      "text/plain": [
       "<Figure size 640x480 with 1 Axes>"
      ]
     },
     "metadata": {},
     "output_type": "display_data"
    }
   ],
   "source": [
    "sns.boxplot(y = 'Previous Scores', data =df, color='g')"
   ]
  },
  {
   "cell_type": "markdown",
   "id": "fd5071e9",
   "metadata": {
    "papermill": {
     "duration": 0.019539,
     "end_time": "2024-09-06T19:05:22.303409",
     "exception": false,
     "start_time": "2024-09-06T19:05:22.283870",
     "status": "completed"
    },
    "tags": []
   },
   "source": [
    "# Extracurricular Activities"
   ]
  },
  {
   "cell_type": "code",
   "execution_count": 11,
   "id": "7598fd57",
   "metadata": {
    "execution": {
     "iopub.execute_input": "2024-09-06T19:05:22.345180Z",
     "iopub.status.busy": "2024-09-06T19:05:22.344714Z",
     "iopub.status.idle": "2024-09-06T19:05:22.502672Z",
     "shell.execute_reply": "2024-09-06T19:05:22.501053Z"
    },
    "papermill": {
     "duration": 0.185268,
     "end_time": "2024-09-06T19:05:22.508397",
     "exception": false,
     "start_time": "2024-09-06T19:05:22.323129",
     "status": "completed"
    },
    "tags": []
   },
   "outputs": [
    {
     "data": {
      "text/plain": [
       "Text(0, 0.5, '')"
      ]
     },
     "execution_count": 11,
     "metadata": {},
     "output_type": "execute_result"
    },
    {
     "data": {
      "image/png": "[encoded data removed]",
      "text/plain": [
       "<Figure size 640x480 with 1 Axes>"
      ]
     },
     "metadata": {},
     "output_type": "display_data"
    }
   ],
   "source": [
    "df['Extracurricular Activities'].value_counts().plot(kind = 'pie', autopct = '%.1f')\n",
    "plt.ylabel(None)"
   ]
  },
  {
   "cell_type": "markdown",
   "id": "9e75f365",
   "metadata": {
    "papermill": {
     "duration": 0.033219,
     "end_time": "2024-09-06T19:05:22.584168",
     "exception": false,
     "start_time": "2024-09-06T19:05:22.550949",
     "status": "completed"
    },
    "tags": []
   },
   "source": [
    "**Student performance wrt hours studied**"
   ]
  },
  {
   "cell_type": "code",
   "execution_count": 12,
   "id": "6ac89ed7",
   "metadata": {
    "execution": {
     "iopub.execute_input": "2024-09-06T19:05:22.625873Z",
     "iopub.status.busy": "2024-09-06T19:05:22.625443Z",
     "iopub.status.idle": "2024-09-06T19:05:23.015388Z",
     "shell.execute_reply": "2024-09-06T19:05:23.014125Z"
    },
    "papermill": {
     "duration": 0.413978,
     "end_time": "2024-09-06T19:05:23.018189",
     "exception": false,
     "start_time": "2024-09-06T19:05:22.604211",
     "status": "completed"
    },
    "tags": []
   },
   "outputs": [
    {
     "data": {
      "text/plain": [
       "<Axes: xlabel='Hours Studied', ylabel='Performance Index'>"
      ]
     },
     "execution_count": 12,
     "metadata": {},
     "output_type": "execute_result"
    },
    {
     "data": {
      "image/png": "[encoded data removed]",
      "text/plain": [
       "<Figure size 640x480 with 1 Axes>"
      ]
     },
     "metadata": {},
     "output_type": "display_data"
    }
   ],
   "source": [
    "sns.boxplot(x = 'Hours Studied' , y = 'Performance Index', data =df, palette = 'dark')"
   ]
  },
  {
   "cell_type": "code",
   "execution_count": 13,
   "id": "54f64ed0",
   "metadata": {
    "execution": {
     "iopub.execute_input": "2024-09-06T19:05:23.061505Z",
     "iopub.status.busy": "2024-09-06T19:05:23.060750Z",
     "iopub.status.idle": "2024-09-06T19:05:23.393753Z",
     "shell.execute_reply": "2024-09-06T19:05:23.392568Z"
    },
    "papermill": {
     "duration": 0.357828,
     "end_time": "2024-09-06T19:05:23.396281",
     "exception": false,
     "start_time": "2024-09-06T19:05:23.038453",
     "status": "completed"
    },
    "tags": []
   },
   "outputs": [
    {
     "data": {
      "image/png": "[encoded data removed]",
      "text/plain": [
       "<Figure size 640x480 with 1 Axes>"
      ]
     },
     "metadata": {},
     "output_type": "display_data"
    }
   ],
   "source": [
    "df.groupby('Hours Studied')['Performance Index'].mean().plot()\n",
    "plt.xlabel('Hours Studied')\n",
    "plt.ylabel('Performnace Index')\n",
    "plt.grid()"
   ]
  },
  {
   "cell_type": "markdown",
   "id": "8289b829",
   "metadata": {
    "papermill": {
     "duration": 0.020853,
     "end_time": "2024-09-06T19:05:23.438403",
     "exception": false,
     "start_time": "2024-09-06T19:05:23.417550",
     "status": "completed"
    },
    "tags": []
   },
   "source": [
    "**Student Performnace wrt to Extra curricular activities**"
   ]
  },
  {
   "cell_type": "code",
   "execution_count": 14,
   "id": "082585ea",
   "metadata": {
    "execution": {
     "iopub.execute_input": "2024-09-06T19:05:23.482849Z",
     "iopub.status.busy": "2024-09-06T19:05:23.482418Z",
     "iopub.status.idle": "2024-09-06T19:05:23.687951Z",
     "shell.execute_reply": "2024-09-06T19:05:23.686265Z"
    },
    "papermill": {
     "duration": 0.230934,
     "end_time": "2024-09-06T19:05:23.690989",
     "exception": false,
     "start_time": "2024-09-06T19:05:23.460055",
     "status": "completed"
    },
    "tags": []
   },
   "outputs": [
    {
     "data": {
      "text/plain": [
       "<Axes: xlabel='Extracurricular Activities', ylabel='Performance Index'>"
      ]
     },
     "execution_count": 14,
     "metadata": {},
     "output_type": "execute_result"
    },
    {
     "data": {
      "image/png": "[encoded data removed]",
      "text/plain": [
       "<Figure size 640x480 with 1 Axes>"
      ]
     },
     "metadata": {},
     "output_type": "display_data"
    }
   ],
   "source": [
    "sns.boxplot(x = 'Extracurricular Activities', y = 'Performance Index', data = df, palette = 'icefire')"
   ]
  },
  {
   "cell_type": "markdown",
   "id": "122f381c",
   "metadata": {
    "execution": {
     "iopub.execute_input": "2024-09-06T15:27:53.524834Z",
     "iopub.status.busy": "2024-09-06T15:27:53.524341Z",
     "iopub.status.idle": "2024-09-06T15:27:53.530007Z",
     "shell.execute_reply": "2024-09-06T15:27:53.528738Z",
     "shell.execute_reply.started": "2024-09-06T15:27:53.524781Z"
    },
    "papermill": {
     "duration": 0.022233,
     "end_time": "2024-09-06T19:05:23.736151",
     "exception": false,
     "start_time": "2024-09-06T19:05:23.713918",
     "status": "completed"
    },
    "tags": []
   },
   "source": [
    "# Correlation"
   ]
  },
  {
   "cell_type": "code",
   "execution_count": 15,
   "id": "245155a3",
   "metadata": {
    "execution": {
     "iopub.execute_input": "2024-09-06T19:05:23.781467Z",
     "iopub.status.busy": "2024-09-06T19:05:23.781047Z",
     "iopub.status.idle": "2024-09-06T19:05:23.787576Z",
     "shell.execute_reply": "2024-09-06T19:05:23.786318Z"
    },
    "papermill": {
     "duration": 0.032671,
     "end_time": "2024-09-06T19:05:23.790250",
     "exception": false,
     "start_time": "2024-09-06T19:05:23.757579",
     "status": "completed"
    },
    "tags": []
   },
   "outputs": [],
   "source": [
    "df_num = df.select_dtypes(exclude= ['object'])"
   ]
  },
  {
   "cell_type": "code",
   "execution_count": 16,
   "id": "7601e004",
   "metadata": {
    "execution": {
     "iopub.execute_input": "2024-09-06T19:05:23.838107Z",
     "iopub.status.busy": "2024-09-06T19:05:23.837632Z",
     "iopub.status.idle": "2024-09-06T19:05:24.300345Z",
     "shell.execute_reply": "2024-09-06T19:05:24.298573Z"
    },
    "papermill": {
     "duration": 0.491096,
     "end_time": "2024-09-06T19:05:24.303462",
     "exception": false,
     "start_time": "2024-09-06T19:05:23.812366",
     "status": "completed"
    },
    "tags": []
   },
   "outputs": [
    {
     "data": {
      "text/plain": [
       "<Axes: >"
      ]
     },
     "execution_count": 16,
     "metadata": {},
     "output_type": "execute_result"
    },
    {
     "data": {
      "image/png": "[encoded data removed]",
      "text/plain": [
       "<Figure size 640x480 with 2 Axes>"
      ]
     },
     "metadata": {},
     "output_type": "display_data"
    }
   ],
   "source": [
    "sns.heatmap(df_num.corr(), annot = True, cmap = 'viridis', fmt = '.1f')"
   ]
  },
  {
   "cell_type": "markdown",
   "id": "c586ac2f",
   "metadata": {
    "execution": {
     "iopub.execute_input": "2024-09-06T15:29:38.358670Z",
     "iopub.status.busy": "2024-09-06T15:29:38.358216Z",
     "iopub.status.idle": "2024-09-06T15:29:38.365934Z",
     "shell.execute_reply": "2024-09-06T15:29:38.364410Z",
     "shell.execute_reply.started": "2024-09-06T15:29:38.358626Z"
    },
    "papermill": {
     "duration": 0.022344,
     "end_time": "2024-09-06T19:05:24.348380",
     "exception": false,
     "start_time": "2024-09-06T19:05:24.326036",
     "status": "completed"
    },
    "tags": []
   },
   "source": [
    "**Correlation between Hours studied and Perf Index -> 0.4**\n",
    "\n",
    "**Prev Score and Perf Index -> 0.9**"
   ]
  },
  {
   "cell_type": "markdown",
   "id": "834af69c",
   "metadata": {
    "execution": {
     "iopub.execute_input": "2024-09-06T18:32:17.870154Z",
     "iopub.status.busy": "2024-09-06T18:32:17.869690Z",
     "iopub.status.idle": "2024-09-06T18:32:17.879052Z",
     "shell.execute_reply": "2024-09-06T18:32:17.877676Z",
     "shell.execute_reply.started": "2024-09-06T18:32:17.870106Z"
    },
    "papermill": {
     "duration": 0.022077,
     "end_time": "2024-09-06T19:05:24.393364",
     "exception": false,
     "start_time": "2024-09-06T19:05:24.371287",
     "status": "completed"
    },
    "tags": []
   },
   "source": [
    "# Linear Regression"
   ]
  },
  {
   "cell_type": "markdown",
   "id": "8f450248",
   "metadata": {
    "execution": {
     "iopub.execute_input": "2024-09-06T18:33:04.456817Z",
     "iopub.status.busy": "2024-09-06T18:33:04.456404Z",
     "iopub.status.idle": "2024-09-06T18:33:04.462233Z",
     "shell.execute_reply": "2024-09-06T18:33:04.460775Z",
     "shell.execute_reply.started": "2024-09-06T18:33:04.456779Z"
    },
    "papermill": {
     "duration": 0.022609,
     "end_time": "2024-09-06T19:05:24.439149",
     "exception": false,
     "start_time": "2024-09-06T19:05:24.416540",
     "status": "completed"
    },
    "tags": []
   },
   "source": [
    "**Data Preprocessing**"
   ]
  },
  {
   "cell_type": "code",
   "execution_count": 17,
   "id": "38823d74",
   "metadata": {
    "execution": {
     "iopub.execute_input": "2024-09-06T19:05:24.487839Z",
     "iopub.status.busy": "2024-09-06T19:05:24.486762Z",
     "iopub.status.idle": "2024-09-06T19:05:24.653924Z",
     "shell.execute_reply": "2024-09-06T19:05:24.652865Z"
    },
    "papermill": {
     "duration": 0.194754,
     "end_time": "2024-09-06T19:05:24.656712",
     "exception": false,
     "start_time": "2024-09-06T19:05:24.461958",
     "status": "completed"
    },
    "tags": []
   },
   "outputs": [],
   "source": [
    "from sklearn.preprocessing import StandardScaler, LabelEncoder"
   ]
  },
  {
   "cell_type": "code",
   "execution_count": 18,
   "id": "71225a3c",
   "metadata": {
    "execution": {
     "iopub.execute_input": "2024-09-06T19:05:24.704855Z",
     "iopub.status.busy": "2024-09-06T19:05:24.704400Z",
     "iopub.status.idle": "2024-09-06T19:05:24.710374Z",
     "shell.execute_reply": "2024-09-06T19:05:24.708530Z"
    },
    "papermill": {
     "duration": 0.032803,
     "end_time": "2024-09-06T19:05:24.712963",
     "exception": false,
     "start_time": "2024-09-06T19:05:24.680160",
     "status": "completed"
    },
    "tags": []
   },
   "outputs": [],
   "source": [
    "scaler = StandardScaler()\n",
    "le = LabelEncoder()"
   ]
  },
  {
   "cell_type": "code",
   "execution_count": 19,
   "id": "20092cb8",
   "metadata": {
    "execution": {
     "iopub.execute_input": "2024-09-06T19:05:24.761722Z",
     "iopub.status.busy": "2024-09-06T19:05:24.761279Z",
     "iopub.status.idle": "2024-09-06T19:05:24.770852Z",
     "shell.execute_reply": "2024-09-06T19:05:24.769581Z"
    },
    "papermill": {
     "duration": 0.037936,
     "end_time": "2024-09-06T19:05:24.773521",
     "exception": false,
     "start_time": "2024-09-06T19:05:24.735585",
     "status": "completed"
    },
    "tags": []
   },
   "outputs": [],
   "source": [
    "df['Extracurricular Activities'] = le.fit_transform(df['Extracurricular Activities'])"
   ]
  },
  {
   "cell_type": "code",
   "execution_count": 20,
   "id": "2aa45b98",
   "metadata": {
    "execution": {
     "iopub.execute_input": "2024-09-06T19:05:24.820730Z",
     "iopub.status.busy": "2024-09-06T19:05:24.820309Z",
     "iopub.status.idle": "2024-09-06T19:05:24.835623Z",
     "shell.execute_reply": "2024-09-06T19:05:24.834157Z"
    },
    "papermill": {
     "duration": 0.041851,
     "end_time": "2024-09-06T19:05:24.838234",
     "exception": false,
     "start_time": "2024-09-06T19:05:24.796383",
     "status": "completed"
    },
    "tags": []
   },
   "outputs": [
    {
     "data": {
      "text/html": [
       "<div>\n",
       "<style scoped>\n",
       "    .dataframe tbody tr th:only-of-type {\n",
       "        vertical-align: middle;\n",
       "    }\n",
       "\n",
       "    .dataframe tbody tr th {\n",
       "        vertical-align: top;\n",
       "    }\n",
       "\n",
       "    .dataframe thead th {\n",
       "        text-align: right;\n",
       "    }\n",
       "</style>\n",
       "<table border=\"1\" class=\"dataframe\">\n",
       "  <thead>\n",
       "    <tr style=\"text-align: right;\">\n",
       "      <th></th>\n",
       "      <th>Hours Studied</th>\n",
       "      <th>Previous Scores</th>\n",
       "      <th>Extracurricular Activities</th>\n",
       "      <th>Sleep Hours</th>\n",
       "      <th>Sample Question Papers Practiced</th>\n",
       "      <th>Performance Index</th>\n",
       "    </tr>\n",
       "  </thead>\n",
       "  <tbody>\n",
       "    <tr>\n",
       "      <th>0</th>\n",
       "      <td>7</td>\n",
       "      <td>99</td>\n",
       "      <td>1</td>\n",
       "      <td>9</td>\n",
       "      <td>1</td>\n",
       "      <td>91.0</td>\n",
       "    </tr>\n",
       "    <tr>\n",
       "      <th>1</th>\n",
       "      <td>4</td>\n",
       "      <td>82</td>\n",
       "      <td>0</td>\n",
       "      <td>4</td>\n",
       "      <td>2</td>\n",
       "      <td>65.0</td>\n",
       "    </tr>\n",
       "    <tr>\n",
       "      <th>2</th>\n",
       "      <td>8</td>\n",
       "      <td>51</td>\n",
       "      <td>1</td>\n",
       "      <td>7</td>\n",
       "      <td>2</td>\n",
       "      <td>45.0</td>\n",
       "    </tr>\n",
       "    <tr>\n",
       "      <th>3</th>\n",
       "      <td>5</td>\n",
       "      <td>52</td>\n",
       "      <td>1</td>\n",
       "      <td>5</td>\n",
       "      <td>2</td>\n",
       "      <td>36.0</td>\n",
       "    </tr>\n",
       "    <tr>\n",
       "      <th>4</th>\n",
       "      <td>7</td>\n",
       "      <td>75</td>\n",
       "      <td>0</td>\n",
       "      <td>8</td>\n",
       "      <td>5</td>\n",
       "      <td>66.0</td>\n",
       "    </tr>\n",
       "  </tbody>\n",
       "</table>\n",
       "</div>"
      ],
      "text/plain": [
       "   Hours Studied  Previous Scores  Extracurricular Activities  Sleep Hours  \\\n",
       "0              7               99                           1            9   \n",
       "1              4               82                           0            4   \n",
       "2              8               51                           1            7   \n",
       "3              5               52                           1            5   \n",
       "4              7               75                           0            8   \n",
       "\n",
       "   Sample Question Papers Practiced  Performance Index  \n",
       "0                                 1               91.0  \n",
       "1                                 2               65.0  \n",
       "2                                 2               45.0  \n",
       "3                                 2               36.0  \n",
       "4                                 5               66.0  "
      ]
     },
     "execution_count": 20,
     "metadata": {},
     "output_type": "execute_result"
    }
   ],
   "source": [
    "df.head()"
   ]
  },
  {
   "cell_type": "markdown",
   "id": "7d780ca5",
   "metadata": {
    "papermill": {
     "duration": 0.022492,
     "end_time": "2024-09-06T19:05:24.884495",
     "exception": false,
     "start_time": "2024-09-06T19:05:24.862003",
     "status": "completed"
    },
    "tags": []
   },
   "source": [
    "# Feature Target selection"
   ]
  },
  {
   "cell_type": "code",
   "execution_count": 21,
   "id": "baecb253",
   "metadata": {
    "execution": {
     "iopub.execute_input": "2024-09-06T19:05:24.932897Z",
     "iopub.status.busy": "2024-09-06T19:05:24.931869Z",
     "iopub.status.idle": "2024-09-06T19:05:24.938705Z",
     "shell.execute_reply": "2024-09-06T19:05:24.937578Z"
    },
    "papermill": {
     "duration": 0.033525,
     "end_time": "2024-09-06T19:05:24.941079",
     "exception": false,
     "start_time": "2024-09-06T19:05:24.907554",
     "status": "completed"
    },
    "tags": []
   },
   "outputs": [],
   "source": [
    "x = df.drop('Performance Index', axis = 1)\n",
    "y = df['Performance Index']"
   ]
  },
  {
   "cell_type": "markdown",
   "id": "bbaa2743",
   "metadata": {
    "papermill": {
     "duration": 0.022395,
     "end_time": "2024-09-06T19:05:24.986593",
     "exception": false,
     "start_time": "2024-09-06T19:05:24.964198",
     "status": "completed"
    },
    "tags": []
   },
   "source": [
    "# Standardization"
   ]
  },
  {
   "cell_type": "code",
   "execution_count": 22,
   "id": "145cdc3e",
   "metadata": {
    "execution": {
     "iopub.execute_input": "2024-09-06T19:05:25.034819Z",
     "iopub.status.busy": "2024-09-06T19:05:25.034376Z",
     "iopub.status.idle": "2024-09-06T19:05:25.045860Z",
     "shell.execute_reply": "2024-09-06T19:05:25.044881Z"
    },
    "papermill": {
     "duration": 0.039073,
     "end_time": "2024-09-06T19:05:25.048437",
     "exception": false,
     "start_time": "2024-09-06T19:05:25.009364",
     "status": "completed"
    },
    "tags": []
   },
   "outputs": [],
   "source": [
    "x[x.columns] = scaler.fit_transform(x[x.columns])"
   ]
  },
  {
   "cell_type": "code",
   "execution_count": 23,
   "id": "403aef48",
   "metadata": {
    "execution": {
     "iopub.execute_input": "2024-09-06T19:05:25.164746Z",
     "iopub.status.busy": "2024-09-06T19:05:25.163739Z",
     "iopub.status.idle": "2024-09-06T19:05:25.180367Z",
     "shell.execute_reply": "2024-09-06T19:05:25.179331Z"
    },
    "papermill": {
     "duration": 0.111473,
     "end_time": "2024-09-06T19:05:25.182771",
     "exception": false,
     "start_time": "2024-09-06T19:05:25.071298",
     "status": "completed"
    },
    "tags": []
   },
   "outputs": [
    {
     "data": {
      "text/html": [
       "<div>\n",
       "<style scoped>\n",
       "    .dataframe tbody tr th:only-of-type {\n",
       "        vertical-align: middle;\n",
       "    }\n",
       "\n",
       "    .dataframe tbody tr th {\n",
       "        vertical-align: top;\n",
       "    }\n",
       "\n",
       "    .dataframe thead th {\n",
       "        text-align: right;\n",
       "    }\n",
       "</style>\n",
       "<table border=\"1\" class=\"dataframe\">\n",
       "  <thead>\n",
       "    <tr style=\"text-align: right;\">\n",
       "      <th></th>\n",
       "      <th>Hours Studied</th>\n",
       "      <th>Previous Scores</th>\n",
       "      <th>Extracurricular Activities</th>\n",
       "      <th>Sleep Hours</th>\n",
       "      <th>Sample Question Papers Practiced</th>\n",
       "    </tr>\n",
       "  </thead>\n",
       "  <tbody>\n",
       "    <tr>\n",
       "      <th>0</th>\n",
       "      <td>0.775188</td>\n",
       "      <td>1.704176</td>\n",
       "      <td>1.010455</td>\n",
       "      <td>1.456205</td>\n",
       "      <td>-1.249754</td>\n",
       "    </tr>\n",
       "    <tr>\n",
       "      <th>1</th>\n",
       "      <td>-0.383481</td>\n",
       "      <td>0.723913</td>\n",
       "      <td>-0.989654</td>\n",
       "      <td>-1.492294</td>\n",
       "      <td>-0.900982</td>\n",
       "    </tr>\n",
       "    <tr>\n",
       "      <th>2</th>\n",
       "      <td>1.161410</td>\n",
       "      <td>-1.063626</td>\n",
       "      <td>1.010455</td>\n",
       "      <td>0.276805</td>\n",
       "      <td>-0.900982</td>\n",
       "    </tr>\n",
       "    <tr>\n",
       "      <th>3</th>\n",
       "      <td>0.002742</td>\n",
       "      <td>-1.005963</td>\n",
       "      <td>1.010455</td>\n",
       "      <td>-0.902594</td>\n",
       "      <td>-0.900982</td>\n",
       "    </tr>\n",
       "    <tr>\n",
       "      <th>4</th>\n",
       "      <td>0.775188</td>\n",
       "      <td>0.320275</td>\n",
       "      <td>-0.989654</td>\n",
       "      <td>0.866505</td>\n",
       "      <td>0.145333</td>\n",
       "    </tr>\n",
       "  </tbody>\n",
       "</table>\n",
       "</div>"
      ],
      "text/plain": [
       "   Hours Studied  Previous Scores  Extracurricular Activities  Sleep Hours  \\\n",
       "0       0.775188         1.704176                    1.010455     1.456205   \n",
       "1      -0.383481         0.723913                   -0.989654    -1.492294   \n",
       "2       1.161410        -1.063626                    1.010455     0.276805   \n",
       "3       0.002742        -1.005963                    1.010455    -0.902594   \n",
       "4       0.775188         0.320275                   -0.989654     0.866505   \n",
       "\n",
       "   Sample Question Papers Practiced  \n",
       "0                         -1.249754  \n",
       "1                         -0.900982  \n",
       "2                         -0.900982  \n",
       "3                         -0.900982  \n",
       "4                          0.145333  "
      ]
     },
     "execution_count": 23,
     "metadata": {},
     "output_type": "execute_result"
    }
   ],
   "source": [
    "x.head()"
   ]
  },
  {
   "cell_type": "markdown",
   "id": "e2583473",
   "metadata": {
    "papermill": {
     "duration": 0.026554,
     "end_time": "2024-09-06T19:05:25.233105",
     "exception": false,
     "start_time": "2024-09-06T19:05:25.206551",
     "status": "completed"
    },
    "tags": []
   },
   "source": [
    "# Train test split"
   ]
  },
  {
   "cell_type": "code",
   "execution_count": 24,
   "id": "8a73d790",
   "metadata": {
    "execution": {
     "iopub.execute_input": "2024-09-06T19:05:25.301337Z",
     "iopub.status.busy": "2024-09-06T19:05:25.300510Z",
     "iopub.status.idle": "2024-09-06T19:05:25.406384Z",
     "shell.execute_reply": "2024-09-06T19:05:25.405186Z"
    },
    "papermill": {
     "duration": 0.14004,
     "end_time": "2024-09-06T19:05:25.409445",
     "exception": false,
     "start_time": "2024-09-06T19:05:25.269405",
     "status": "completed"
    },
    "tags": []
   },
   "outputs": [],
   "source": [
    "from sklearn.model_selection import train_test_split"
   ]
  },
  {
   "cell_type": "code",
   "execution_count": 25,
   "id": "2d6c69e4",
   "metadata": {
    "execution": {
     "iopub.execute_input": "2024-09-06T19:05:25.469238Z",
     "iopub.status.busy": "2024-09-06T19:05:25.468747Z",
     "iopub.status.idle": "2024-09-06T19:05:25.479063Z",
     "shell.execute_reply": "2024-09-06T19:05:25.477898Z"
    },
    "papermill": {
     "duration": 0.044489,
     "end_time": "2024-09-06T19:05:25.482286",
     "exception": false,
     "start_time": "2024-09-06T19:05:25.437797",
     "status": "completed"
    },
    "tags": []
   },
   "outputs": [],
   "source": [
    "x_train,x_test,y_train,y_test = train_test_split(x,y,test_size=0.2,random_state=42)"
   ]
  },
  {
   "cell_type": "code",
   "execution_count": 26,
   "id": "1870e189",
   "metadata": {
    "execution": {
     "iopub.execute_input": "2024-09-06T19:05:25.537061Z",
     "iopub.status.busy": "2024-09-06T19:05:25.536625Z",
     "iopub.status.idle": "2024-09-06T19:05:25.544134Z",
     "shell.execute_reply": "2024-09-06T19:05:25.543009Z"
    },
    "papermill": {
     "duration": 0.036969,
     "end_time": "2024-09-06T19:05:25.546624",
     "exception": false,
     "start_time": "2024-09-06T19:05:25.509655",
     "status": "completed"
    },
    "tags": []
   },
   "outputs": [
    {
     "data": {
      "text/plain": [
       "((8000, 5), (2000, 5))"
      ]
     },
     "execution_count": 26,
     "metadata": {},
     "output_type": "execute_result"
    }
   ],
   "source": [
    "x_train.shape,x_test.shape"
   ]
  },
  {
   "cell_type": "markdown",
   "id": "f4886118",
   "metadata": {
    "papermill": {
     "duration": 0.023378,
     "end_time": "2024-09-06T19:05:25.593040",
     "exception": false,
     "start_time": "2024-09-06T19:05:25.569662",
     "status": "completed"
    },
    "tags": []
   },
   "source": [
    "# Model Training"
   ]
  },
  {
   "cell_type": "code",
   "execution_count": 27,
   "id": "cfc1e9bb",
   "metadata": {
    "execution": {
     "iopub.execute_input": "2024-09-06T19:05:25.640789Z",
     "iopub.status.busy": "2024-09-06T19:05:25.640389Z",
     "iopub.status.idle": "2024-09-06T19:05:25.734693Z",
     "shell.execute_reply": "2024-09-06T19:05:25.733605Z"
    },
    "papermill": {
     "duration": 0.121521,
     "end_time": "2024-09-06T19:05:25.737496",
     "exception": false,
     "start_time": "2024-09-06T19:05:25.615975",
     "status": "completed"
    },
    "tags": []
   },
   "outputs": [],
   "source": [
    "from sklearn.linear_model import LinearRegression\n",
    "from sklearn.metrics import mean_squared_error,mean_absolute_error"
   ]
  },
  {
   "cell_type": "code",
   "execution_count": 28,
   "id": "9fbc998e",
   "metadata": {
    "execution": {
     "iopub.execute_input": "2024-09-06T19:05:25.790938Z",
     "iopub.status.busy": "2024-09-06T19:05:25.789649Z",
     "iopub.status.idle": "2024-09-06T19:05:25.824335Z",
     "shell.execute_reply": "2024-09-06T19:05:25.823066Z"
    },
    "papermill": {
     "duration": 0.066521,
     "end_time": "2024-09-06T19:05:25.827423",
     "exception": false,
     "start_time": "2024-09-06T19:05:25.760902",
     "status": "completed"
    },
    "tags": []
   },
   "outputs": [
    {
     "data": {
      "text/html": [
       "<style>#sk-container-id-1 {color: black;background-color: white;}#sk-container-id-1 pre{padding: 0;}#sk-container-id-1 div.sk-toggleable {background-color: white;}#sk-container-id-1 label.sk-toggleable__label {cursor: pointer;display: block;width: 100%;margin-bottom: 0;padding: 0.3em;box-sizing: border-box;text-align: center;}#sk-container-id-1 label.sk-toggleable__label-arrow:before {content: \"▸\";float: left;margin-right: 0.25em;color: #696969;}#sk-container-id-1 label.sk-toggleable__label-arrow:hover:before {color: black;}#sk-container-id-1 div.sk-estimator:hover label.sk-toggleable__label-arrow:before {color: black;}#sk-container-id-1 div.sk-toggleable__content {max-height: 0;max-width: 0;overflow: hidden;text-align: left;background-color: #f0f8ff;}#sk-container-id-1 div.sk-toggleable__content pre {margin: 0.2em;color: black;border-radius: 0.25em;background-color: #f0f8ff;}#sk-container-id-1 input.sk-toggleable__control:checked~div.sk-toggleable__content {max-height: 200px;max-width: 100%;overflow: auto;}#sk-container-id-1 input.sk-toggleable__control:checked~label.sk-toggleable__label-arrow:before {content: \"▾\";}#sk-container-id-1 div.sk-estimator input.sk-toggleable__control:checked~label.sk-toggleable__label {background-color: #d4ebff;}#sk-container-id-1 div.sk-label input.sk-toggleable__control:checked~label.sk-toggleable__label {background-color: #d4ebff;}#sk-container-id-1 input.sk-hidden--visually {border: 0;clip: rect(1px 1px 1px 1px);clip: rect(1px, 1px, 1px, 1px);height: 1px;margin: -1px;overflow: hidden;padding: 0;position: absolute;width: 1px;}#sk-container-id-1 div.sk-estimator {font-family: monospace;background-color: #f0f8ff;border: 1px dotted black;border-radius: 0.25em;box-sizing: border-box;margin-bottom: 0.5em;}#sk-container-id-1 div.sk-estimator:hover {background-color: #d4ebff;}#sk-container-id-1 div.sk-parallel-item::after {content: \"\";width: 100%;border-bottom: 1px solid gray;flex-grow: 1;}#sk-container-id-1 div.sk-label:hover label.sk-toggleable__label {background-color: #d4ebff;}#sk-container-id-1 div.sk-serial::before {content: \"\";position: absolute;border-left: 1px solid gray;box-sizing: border-box;top: 0;bottom: 0;left: 50%;z-index: 0;}#sk-container-id-1 div.sk-serial {display: flex;flex-direction: column;align-items: center;background-color: white;padding-right: 0.2em;padding-left: 0.2em;position: relative;}#sk-container-id-1 div.sk-item {position: relative;z-index: 1;}#sk-container-id-1 div.sk-parallel {display: flex;align-items: stretch;justify-content: center;background-color: white;position: relative;}#sk-container-id-1 div.sk-item::before, #sk-container-id-1 div.sk-parallel-item::before {content: \"\";position: absolute;border-left: 1px solid gray;box-sizing: border-box;top: 0;bottom: 0;left: 50%;z-index: -1;}#sk-container-id-1 div.sk-parallel-item {display: flex;flex-direction: column;z-index: 1;position: relative;background-color: white;}#sk-container-id-1 div.sk-parallel-item:first-child::after {align-self: flex-end;width: 50%;}#sk-container-id-1 div.sk-parallel-item:last-child::after {align-self: flex-start;width: 50%;}#sk-container-id-1 div.sk-parallel-item:only-child::after {width: 0;}#sk-container-id-1 div.sk-dashed-wrapped {border: 1px dashed gray;margin: 0 0.4em 0.5em 0.4em;box-sizing: border-box;padding-bottom: 0.4em;background-color: white;}#sk-container-id-1 div.sk-label label {font-family: monospace;font-weight: bold;display: inline-block;line-height: 1.2em;}#sk-container-id-1 div.sk-label-container {text-align: center;}#sk-container-id-1 div.sk-container {/* jupyter's `normalize.less` sets `[hidden] { display: none; }` but bootstrap.min.css set `[hidden] { display: none !important; }` so we also need the `!important` here to be able to override the default hidden behavior on the sphinx rendered scikit-learn.org. See: https://github.com/scikit-learn/scikit-learn/issues/21755 */display: inline-block !important;position: relative;}#sk-container-id-1 div.sk-text-repr-fallback {display: none;}</style><div id=\"sk-container-id-1\" class=\"sk-top-container\"><div class=\"sk-text-repr-fallback\"><pre>LinearRegression()</pre><b>In a Jupyter environment, please rerun this cell to show the HTML representation or trust the notebook. <br />On GitHub, the HTML representation is unable to render, please try loading this page with nbviewer.org.</b></div><div class=\"sk-container\" hidden><div class=\"sk-item\"><div class=\"sk-estimator sk-toggleable\"><input class=\"sk-toggleable__control sk-hidden--visually\" id=\"sk-estimator-id-1\" type=\"checkbox\" checked><label for=\"sk-estimator-id-1\" class=\"sk-toggleable__label sk-toggleable__label-arrow\">LinearRegression</label><div class=\"sk-toggleable__content\"><pre>LinearRegression()</pre></div></div></div></div></div>"
      ],
      "text/plain": [
       "LinearRegression()"
      ]
     },
     "execution_count": 28,
     "metadata": {},
     "output_type": "execute_result"
    }
   ],
   "source": [
    "lr = LinearRegression()\n",
    "lr.fit(x_train,y_train)"
   ]
  },
  {
   "cell_type": "markdown",
   "id": "1b4351cd",
   "metadata": {
    "papermill": {
     "duration": 0.022835,
     "end_time": "2024-09-06T19:05:25.876218",
     "exception": false,
     "start_time": "2024-09-06T19:05:25.853383",
     "status": "completed"
    },
    "tags": []
   },
   "source": [
    "# Prediction Accuracy"
   ]
  },
  {
   "cell_type": "code",
   "execution_count": 29,
   "id": "ead319b7",
   "metadata": {
    "execution": {
     "iopub.execute_input": "2024-09-06T19:05:25.925037Z",
     "iopub.status.busy": "2024-09-06T19:05:25.924587Z",
     "iopub.status.idle": "2024-09-06T19:05:25.934787Z",
     "shell.execute_reply": "2024-09-06T19:05:25.932382Z"
    },
    "papermill": {
     "duration": 0.03915,
     "end_time": "2024-09-06T19:05:25.939132",
     "exception": false,
     "start_time": "2024-09-06T19:05:25.899982",
     "status": "completed"
    },
    "tags": []
   },
   "outputs": [],
   "source": [
    "y_pred = lr.predict(x_test)"
   ]
  },
  {
   "cell_type": "code",
   "execution_count": 30,
   "id": "e2f80a90",
   "metadata": {
    "execution": {
     "iopub.execute_input": "2024-09-06T19:05:26.038095Z",
     "iopub.status.busy": "2024-09-06T19:05:26.037359Z",
     "iopub.status.idle": "2024-09-06T19:05:26.053751Z",
     "shell.execute_reply": "2024-09-06T19:05:26.052420Z"
    },
    "papermill": {
     "duration": 0.068546,
     "end_time": "2024-09-06T19:05:26.056150",
     "exception": false,
     "start_time": "2024-09-06T19:05:25.987604",
     "status": "completed"
    },
    "tags": []
   },
   "outputs": [
    {
     "data": {
      "text/plain": [
       "array([54.71185392, 22.61551294, 47.90314471])"
      ]
     },
     "execution_count": 30,
     "metadata": {},
     "output_type": "execute_result"
    }
   ],
   "source": [
    "y_pred[0:3]"
   ]
  },
  {
   "cell_type": "code",
   "execution_count": 31,
   "id": "c2eb840c",
   "metadata": {
    "execution": {
     "iopub.execute_input": "2024-09-06T19:05:26.106216Z",
     "iopub.status.busy": "2024-09-06T19:05:26.105248Z",
     "iopub.status.idle": "2024-09-06T19:05:26.114437Z",
     "shell.execute_reply": "2024-09-06T19:05:26.113340Z"
    },
    "papermill": {
     "duration": 0.036526,
     "end_time": "2024-09-06T19:05:26.116907",
     "exception": false,
     "start_time": "2024-09-06T19:05:26.080381",
     "status": "completed"
    },
    "tags": []
   },
   "outputs": [
    {
     "data": {
      "text/plain": [
       "6252    51.0\n",
       "4684    20.0\n",
       "1731    46.0\n",
       "Name: Performance Index, dtype: float64"
      ]
     },
     "execution_count": 31,
     "metadata": {},
     "output_type": "execute_result"
    }
   ],
   "source": [
    "y_test.head(3)"
   ]
  },
  {
   "cell_type": "code",
   "execution_count": 32,
   "id": "57af939f",
   "metadata": {
    "execution": {
     "iopub.execute_input": "2024-09-06T19:05:26.169960Z",
     "iopub.status.busy": "2024-09-06T19:05:26.168807Z",
     "iopub.status.idle": "2024-09-06T19:05:26.462421Z",
     "shell.execute_reply": "2024-09-06T19:05:26.461145Z"
    },
    "papermill": {
     "duration": 0.324499,
     "end_time": "2024-09-06T19:05:26.465425",
     "exception": false,
     "start_time": "2024-09-06T19:05:26.140926",
     "status": "completed"
    },
    "tags": []
   },
   "outputs": [
    {
     "data": {
      "text/plain": [
       "<matplotlib.collections.PathCollection at 0x7c866bb523e0>"
      ]
     },
     "execution_count": 32,
     "metadata": {},
     "output_type": "execute_result"
    },
    {
     "data": {
      "image/png": "[encoded data removed]",
      "text/plain": [
       "<Figure size 640x480 with 1 Axes>"
      ]
     },
     "metadata": {},
     "output_type": "display_data"
    }
   ],
   "source": [
    "plt.scatter(y_test,y_pred)"
   ]
  },
  {
   "cell_type": "markdown",
   "id": "0e9d748e",
   "metadata": {
    "papermill": {
     "duration": 0.026787,
     "end_time": "2024-09-06T19:05:26.518207",
     "exception": false,
     "start_time": "2024-09-06T19:05:26.491420",
     "status": "completed"
    },
    "tags": []
   },
   "source": [
    "**The Predictions are quite close :)**"
   ]
  },
  {
   "cell_type": "code",
   "execution_count": 33,
   "id": "1645e422",
   "metadata": {
    "execution": {
     "iopub.execute_input": "2024-09-06T19:05:26.569654Z",
     "iopub.status.busy": "2024-09-06T19:05:26.568726Z",
     "iopub.status.idle": "2024-09-06T19:05:26.577629Z",
     "shell.execute_reply": "2024-09-06T19:05:26.576139Z"
    },
    "papermill": {
     "duration": 0.037315,
     "end_time": "2024-09-06T19:05:26.580312",
     "exception": false,
     "start_time": "2024-09-06T19:05:26.542997",
     "status": "completed"
    },
    "tags": []
   },
   "outputs": [
    {
     "data": {
      "text/plain": [
       "4.082628398521855"
      ]
     },
     "execution_count": 33,
     "metadata": {},
     "output_type": "execute_result"
    }
   ],
   "source": [
    "# mean squared error(MSE)\n",
    "mse = mean_squared_error(y_test,y_pred)\n",
    "mse"
   ]
  },
  {
   "cell_type": "code",
   "execution_count": 34,
   "id": "0170f110",
   "metadata": {
    "execution": {
     "iopub.execute_input": "2024-09-06T19:05:26.632132Z",
     "iopub.status.busy": "2024-09-06T19:05:26.631685Z",
     "iopub.status.idle": "2024-09-06T19:05:26.638792Z",
     "shell.execute_reply": "2024-09-06T19:05:26.637689Z"
    },
    "papermill": {
     "duration": 0.036076,
     "end_time": "2024-09-06T19:05:26.641273",
     "exception": false,
     "start_time": "2024-09-06T19:05:26.605197",
     "status": "completed"
    },
    "tags": []
   },
   "outputs": [
    {
     "data": {
      "text/plain": [
       "2.020551508505006"
      ]
     },
     "execution_count": 34,
     "metadata": {},
     "output_type": "execute_result"
    }
   ],
   "source": [
    "# root mean squared error(RMSE)\n",
    "mse**0.5"
   ]
  },
  {
   "cell_type": "code",
   "execution_count": 35,
   "id": "a46fa716",
   "metadata": {
    "execution": {
     "iopub.execute_input": "2024-09-06T19:05:26.692107Z",
     "iopub.status.busy": "2024-09-06T19:05:26.691638Z",
     "iopub.status.idle": "2024-09-06T19:05:26.700289Z",
     "shell.execute_reply": "2024-09-06T19:05:26.698864Z"
    },
    "papermill": {
     "duration": 0.037267,
     "end_time": "2024-09-06T19:05:26.703026",
     "exception": false,
     "start_time": "2024-09-06T19:05:26.665759",
     "status": "completed"
    },
    "tags": []
   },
   "outputs": [
    {
     "data": {
      "text/plain": [
       "1.6111213463123046"
      ]
     },
     "execution_count": 35,
     "metadata": {},
     "output_type": "execute_result"
    }
   ],
   "source": [
    "# mean absolute error(MAE)\n",
    "mean_absolute_error(y_test,y_pred)"
   ]
  },
  {
   "cell_type": "markdown",
   "id": "17cda43d",
   "metadata": {
    "papermill": {
     "duration": 0.025382,
     "end_time": "2024-09-06T19:05:26.753806",
     "exception": false,
     "start_time": "2024-09-06T19:05:26.728424",
     "status": "completed"
    },
    "tags": []
   },
   "source": [
    "# OLS"
   ]
  },
  {
   "cell_type": "code",
   "execution_count": 36,
   "id": "2415eb00",
   "metadata": {
    "execution": {
     "iopub.execute_input": "2024-09-06T19:05:26.809740Z",
     "iopub.status.busy": "2024-09-06T19:05:26.809307Z",
     "iopub.status.idle": "2024-09-06T19:05:26.816512Z",
     "shell.execute_reply": "2024-09-06T19:05:26.815288Z"
    },
    "papermill": {
     "duration": 0.038094,
     "end_time": "2024-09-06T19:05:26.819068",
     "exception": false,
     "start_time": "2024-09-06T19:05:26.780974",
     "status": "completed"
    },
    "tags": []
   },
   "outputs": [],
   "source": [
    "df.rename(columns={\n",
    "    'Hours Studied': 'Hours',\n",
    "    'Previous Scores': 'Prev_Scores',\n",
    "    'Extracurricular Activities': 'Extra_Activities',\n",
    "    'Sleep Hours': 'Sleep',\n",
    "    'Sample Question Papers Practiced': 'Papers_Practiced',\n",
    "    'Performance Index': 'Perf_Index'\n",
    "}, inplace=True)"
   ]
  },
  {
   "cell_type": "code",
   "execution_count": 37,
   "id": "6474e81f",
   "metadata": {
    "execution": {
     "iopub.execute_input": "2024-09-06T19:05:26.875707Z",
     "iopub.status.busy": "2024-09-06T19:05:26.875256Z",
     "iopub.status.idle": "2024-09-06T19:05:26.891180Z",
     "shell.execute_reply": "2024-09-06T19:05:26.889922Z"
    },
    "papermill": {
     "duration": 0.047103,
     "end_time": "2024-09-06T19:05:26.893747",
     "exception": false,
     "start_time": "2024-09-06T19:05:26.846644",
     "status": "completed"
    },
    "tags": []
   },
   "outputs": [
    {
     "data": {
      "text/html": [
       "<div>\n",
       "<style scoped>\n",
       "    .dataframe tbody tr th:only-of-type {\n",
       "        vertical-align: middle;\n",
       "    }\n",
       "\n",
       "    .dataframe tbody tr th {\n",
       "        vertical-align: top;\n",
       "    }\n",
       "\n",
       "    .dataframe thead th {\n",
       "        text-align: right;\n",
       "    }\n",
       "</style>\n",
       "<table border=\"1\" class=\"dataframe\">\n",
       "  <thead>\n",
       "    <tr style=\"text-align: right;\">\n",
       "      <th></th>\n",
       "      <th>Hours</th>\n",
       "      <th>Prev_Scores</th>\n",
       "      <th>Extra_Activities</th>\n",
       "      <th>Sleep</th>\n",
       "      <th>Papers_Practiced</th>\n",
       "      <th>Perf_Index</th>\n",
       "    </tr>\n",
       "  </thead>\n",
       "  <tbody>\n",
       "    <tr>\n",
       "      <th>0</th>\n",
       "      <td>7</td>\n",
       "      <td>99</td>\n",
       "      <td>1</td>\n",
       "      <td>9</td>\n",
       "      <td>1</td>\n",
       "      <td>91.0</td>\n",
       "    </tr>\n",
       "    <tr>\n",
       "      <th>1</th>\n",
       "      <td>4</td>\n",
       "      <td>82</td>\n",
       "      <td>0</td>\n",
       "      <td>4</td>\n",
       "      <td>2</td>\n",
       "      <td>65.0</td>\n",
       "    </tr>\n",
       "    <tr>\n",
       "      <th>2</th>\n",
       "      <td>8</td>\n",
       "      <td>51</td>\n",
       "      <td>1</td>\n",
       "      <td>7</td>\n",
       "      <td>2</td>\n",
       "      <td>45.0</td>\n",
       "    </tr>\n",
       "    <tr>\n",
       "      <th>3</th>\n",
       "      <td>5</td>\n",
       "      <td>52</td>\n",
       "      <td>1</td>\n",
       "      <td>5</td>\n",
       "      <td>2</td>\n",
       "      <td>36.0</td>\n",
       "    </tr>\n",
       "    <tr>\n",
       "      <th>4</th>\n",
       "      <td>7</td>\n",
       "      <td>75</td>\n",
       "      <td>0</td>\n",
       "      <td>8</td>\n",
       "      <td>5</td>\n",
       "      <td>66.0</td>\n",
       "    </tr>\n",
       "  </tbody>\n",
       "</table>\n",
       "</div>"
      ],
      "text/plain": [
       "   Hours  Prev_Scores  Extra_Activities  Sleep  Papers_Practiced  Perf_Index\n",
       "0      7           99                 1      9                 1        91.0\n",
       "1      4           82                 0      4                 2        65.0\n",
       "2      8           51                 1      7                 2        45.0\n",
       "3      5           52                 1      5                 2        36.0\n",
       "4      7           75                 0      8                 5        66.0"
      ]
     },
     "execution_count": 37,
     "metadata": {},
     "output_type": "execute_result"
    }
   ],
   "source": [
    "df.head()"
   ]
  },
  {
   "cell_type": "code",
   "execution_count": 38,
   "id": "f6cb30ce",
   "metadata": {
    "execution": {
     "iopub.execute_input": "2024-09-06T19:05:26.946542Z",
     "iopub.status.busy": "2024-09-06T19:05:26.945752Z",
     "iopub.status.idle": "2024-09-06T19:05:27.503764Z",
     "shell.execute_reply": "2024-09-06T19:05:27.502321Z"
    },
    "papermill": {
     "duration": 0.587917,
     "end_time": "2024-09-06T19:05:27.506856",
     "exception": false,
     "start_time": "2024-09-06T19:05:26.918939",
     "status": "completed"
    },
    "tags": []
   },
   "outputs": [],
   "source": [
    "import statsmodels.formula.api as smf"
   ]
  },
  {
   "cell_type": "code",
   "execution_count": 39,
   "id": "eafc3448",
   "metadata": {
    "execution": {
     "iopub.execute_input": "2024-09-06T19:05:27.562515Z",
     "iopub.status.busy": "2024-09-06T19:05:27.560890Z",
     "iopub.status.idle": "2024-09-06T19:05:27.595921Z",
     "shell.execute_reply": "2024-09-06T19:05:27.594017Z"
    },
    "papermill": {
     "duration": 0.067726,
     "end_time": "2024-09-06T19:05:27.600634",
     "exception": false,
     "start_time": "2024-09-06T19:05:27.532908",
     "status": "completed"
    },
    "tags": []
   },
   "outputs": [],
   "source": [
    "model = smf.ols('Perf_Index ~ Hours + Prev_Scores + Papers_Practiced + Extra_Activities + Sleep', data=df)\n",
    "results = model.fit()"
   ]
  },
  {
   "cell_type": "code",
   "execution_count": 40,
   "id": "e1618fd5",
   "metadata": {
    "execution": {
     "iopub.execute_input": "2024-09-06T19:05:27.711771Z",
     "iopub.status.busy": "2024-09-06T19:05:27.710997Z",
     "iopub.status.idle": "2024-09-06T19:05:27.767334Z",
     "shell.execute_reply": "2024-09-06T19:05:27.765743Z"
    },
    "papermill": {
     "duration": 0.117697,
     "end_time": "2024-09-06T19:05:27.773188",
     "exception": false,
     "start_time": "2024-09-06T19:05:27.655491",
     "status": "completed"
    },
    "tags": []
   },
   "outputs": [
    {
     "name": "stdout",
     "output_type": "stream",
     "text": [
      "                            OLS Regression Results                            \n",
      "==============================================================================\n",
      "Dep. Variable:             Perf_Index   R-squared:                       0.989\n",
      "Model:                            OLS   Adj. R-squared:                  0.989\n",
      "Method:                 Least Squares   F-statistic:                 1.757e+05\n",
      "Date:                Fri, 06 Sep 2024   Prob (F-statistic):               0.00\n",
      "Time:                        19:05:27   Log-Likelihood:                -21307.\n",
      "No. Observations:               10000   AIC:                         4.263e+04\n",
      "Df Residuals:                    9994   BIC:                         4.267e+04\n",
      "Df Model:                           5                                         \n",
      "Covariance Type:            nonrobust                                         \n",
      "====================================================================================\n",
      "                       coef    std err          t      P>|t|      [0.025      0.975]\n",
      "------------------------------------------------------------------------------------\n",
      "Intercept          -34.0756      0.127   -268.010      0.000     -34.325     -33.826\n",
      "Hours                2.8530      0.008    362.353      0.000       2.838       2.868\n",
      "Prev_Scores          1.0184      0.001    866.450      0.000       1.016       1.021\n",
      "Papers_Practiced     0.1938      0.007     27.257      0.000       0.180       0.208\n",
      "Extra_Activities     0.6129      0.041     15.029      0.000       0.533       0.693\n",
      "Sleep                0.4806      0.012     39.972      0.000       0.457       0.504\n",
      "==============================================================================\n",
      "Omnibus:                        3.851   Durbin-Watson:                   2.001\n",
      "Prob(Omnibus):                  0.146   Jarque-Bera (JB):                4.036\n",
      "Skew:                           0.013   Prob(JB):                        0.133\n",
      "Kurtosis:                       3.095   Cond. No.                         452.\n",
      "==============================================================================\n",
      "\n",
      "Notes:\n",
      "[1] Standard Errors assume that the covariance matrix of the errors is correctly specified.\n"
     ]
    }
   ],
   "source": [
    "print(results.summary())"
   ]
  },
  {
   "cell_type": "markdown",
   "id": "476ef20a",
   "metadata": {
    "papermill": {
     "duration": 0.038173,
     "end_time": "2024-09-06T19:05:27.866562",
     "exception": false,
     "start_time": "2024-09-06T19:05:27.828389",
     "status": "completed"
    },
    "tags": []
   },
   "source": [
    "**Equation of our multiple linear regression model is :**\n",
    "\n",
    "Performance Index = 2.85 × Hours Studied + 1.02 × Previous Scores + 0.61 × Extracurricular Activities + 0.48 × Sleep Hours + 0.19 × Sample Question Papers Practiced - 33.92"
   ]
  },
  {
   "cell_type": "markdown",
   "id": "3a431512",
   "metadata": {
    "papermill": {
     "duration": 0.024923,
     "end_time": "2024-09-06T19:05:27.917225",
     "exception": false,
     "start_time": "2024-09-06T19:05:27.892302",
     "status": "completed"
    },
    "tags": []
   },
   "source": [
    "# Interpretation"
   ]
  },
  {
   "cell_type": "markdown",
   "id": "323b13a1",
   "metadata": {
    "papermill": {
     "duration": 0.025025,
     "end_time": "2024-09-06T19:05:27.967520",
     "exception": false,
     "start_time": "2024-09-06T19:05:27.942495",
     "status": "completed"
    },
    "tags": []
   },
   "source": [
    "Based on the OLS Regression Results displayed in the image:\n",
    "\n",
    "### Key Metrics:\n",
    "1. **Dependent Variable**: `Perf_Index`\n",
    "2. **R-squared**: 0.989 – This suggests that 98.9% of the variability in the performance index is explained by the independent variables in the model. This is a very high value, indicating a strong fit of the model.\n",
    "3. **Adj. R-squared**: 0.989 – The adjusted R-squared is close to the R-squared value, confirming that the model remains strong even after adjusting for the number of predictors.\n",
    "4. **F-statistic**: 1.757e+05 – This value indicates that the overall model is statistically significant.\n",
    "5. **Prob (F-statistic)**: 0.00 – The model's overall significance (P-value) is very low, indicating that the predictors collectively influence the `Perf_Index`.\n",
    "\n",
    "### Coefficients:\n",
    "1. **Intercept**: -34.0756 – When all independent variables are zero, the `Perf_Index` would be approximately -34.08.\n",
    "2. **Hours**: 2.8530 – For every additional hour studied, the performance index increases by 2.85 units. This is highly significant (`P>|t| = 0.000`).\n",
    "3. **Prev_Scores**: 1.0184 – For each unit increase in previous scores, the performance index increases by 1.02 units, with a very significant impact (`P>|t| = 0.000`).\n",
    "4. **Papers_Practiced**: 0.1938 – Practicing more sample question papers increases the performance index by 0.19 units, which is statistically significant.\n",
    "5. **Extra_Activities**: 0.6129 – Participation in extracurricular activities is associated with a 0.61 unit increase in the performance index.\n",
    "6. **Sleep**: 0.4806 – Additional sleep hours positively affect performance, with a 0.48 unit increase per extra hour of sleep.\n",
    "\n",
    "### Statistical Significance:\n",
    "All variables (hours studied, previous scores, papers practiced, extracurricular activities, and sleep hours) are statistically significant (`P>|t|` values are all 0.000), meaning they have a significant effect on the performance index.\n",
    "\n",
    "### Residual Analysis:\n",
    "1. **Durbin-Watson**: 2.001 – This value suggests that there is no significant autocorrelation in the residuals.\n",
    "2. **Omnibus/Prob(Omnibus)**: A slightly high value suggests the residuals are normally distributed.\n",
    "3. **Jarque-Bera (JB)**: Prob(JB) = 0.133 – Since this value is greater than 0.05, the assumption of normality holds.\n",
    "\n",
    "### Summary:\n",
    "The model is a strong predictor of `Perf_Index` with all independent variables showing significant positive relationships. The model fit is excellent, with an R-squared of 0.989. Key influencers of performance include hours studied, previous scores, and extracurricular activities."
   ]
  },
  {
   "cell_type": "code",
   "execution_count": null,
   "id": "1078a985",
   "metadata": {
    "papermill": {
     "duration": 0.024829,
     "end_time": "2024-09-06T19:05:28.017879",
     "exception": false,
     "start_time": "2024-09-06T19:05:27.993050",
     "status": "completed"
    },
    "tags": []
   },
   "outputs": [],
   "source": []
  }
 ],
 "metadata": {
  "kaggle": {
   "accelerator": "none",
   "dataSources": [
    {
     "datasetId": 3462333,
     "sourceId": 6051848,
     "sourceType": "datasetVersion"
    }
   ],
   "dockerImageVersionId": 30761,
   "isGpuEnabled": false,
   "isInternetEnabled": true,
   "language": "python",
   "sourceType": "notebook"
  },
  "kernelspec": {
   "display_name": "Python 3",
   "language": "python",
   "name": "python3"
  },
  "language_info": {
   "codemirror_mode": {
    "name": "ipython",
    "version": 3
   },
   "file_extension": ".py",
   "mimetype": "text/x-python",
   "name": "python",
   "nbconvert_exporter": "python",
   "pygments_lexer": "ipython3",
   "version": "3.10.14"
  },
  "papermill": {
   "default_parameters": {},
   "duration": 12.973958,
   "end_time": "2024-09-06T19:05:28.765387",
   "environment_variables": {},
   "exception": null,
   "input_path": "__notebook__.ipynb",
   "output_path": "__notebook__.ipynb",
   "parameters": {},
   "start_time": "2024-09-06T19:05:15.791429",
   "version": "2.6.0"
  }
 },
 "nbformat": 4,
 "nbformat_minor": 5
}

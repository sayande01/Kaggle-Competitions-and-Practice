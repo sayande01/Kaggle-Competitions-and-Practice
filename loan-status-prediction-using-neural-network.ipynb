{
 "cells": [
  {
   "cell_type": "code",
   "execution_count": 1,
   "id": "5c387765",
   "metadata": {
    "_cell_guid": "b1076dfc-b9ad-4769-8c92-a6c4dae69d19",
    "_uuid": "8f2839f25d086af736a60e9eeb907d3b93b6e0e5",
    "execution": {
     "iopub.execute_input": "2024-09-20T14:53:09.782852Z",
     "iopub.status.busy": "2024-09-20T14:53:09.782420Z",
     "iopub.status.idle": "2024-09-20T14:53:11.676700Z",
     "shell.execute_reply": "2024-09-20T14:53:11.675638Z"
    },
    "papermill": {
     "duration": 1.91029,
     "end_time": "2024-09-20T14:53:11.679286",
     "exception": false,
     "start_time": "2024-09-20T14:53:09.768996",
     "status": "completed"
    },
    "tags": []
   },
   "outputs": [
    {
     "name": "stdout",
     "output_type": "stream",
     "text": [
      "/kaggle/input/loan-approval-prediction-dataset/loan_approval_dataset.csv\n"
     ]
    }
   ],
   "source": [
    "# This Python 3 environment comes with many helpful analytics libraries installed\n",
    "# It is defined by the kaggle/python Docker image: https://github.com/kaggle/docker-python\n",
    "# For example, here's several helpful packages to load\n",
    "\n",
    "import numpy as np # linear algebra\n",
    "import pandas as pd # data processing, CSV file I/O (e.g. pd.read_csv)\n",
    "import matplotlib.pyplot as plt\n",
    "import seaborn as sns\n",
    "\n",
    "# Input data files are available in the read-only \"../input/\" directory\n",
    "# For example, running this (by clicking run or pressing Shift+Enter) will list all files under the input directory\n",
    "\n",
    "import os\n",
    "for dirname, _, filenames in os.walk('/kaggle/input'):\n",
    "    for filename in filenames:\n",
    "        print(os.path.join(dirname, filename))\n",
    "\n",
    "# You can write up to 20GB to the current directory (/kaggle/working/) that gets preserved as output when you create a version using \"Save & Run All\" \n",
    "# You can also write temporary files to /kaggle/temp/, but they won't be saved outside of the current session"
   ]
  },
  {
   "cell_type": "code",
   "execution_count": 2,
   "id": "35025a65",
   "metadata": {
    "execution": {
     "iopub.execute_input": "2024-09-20T14:53:11.703997Z",
     "iopub.status.busy": "2024-09-20T14:53:11.702990Z",
     "iopub.status.idle": "2024-09-20T14:53:11.738900Z",
     "shell.execute_reply": "2024-09-20T14:53:11.738096Z"
    },
    "papermill": {
     "duration": 0.050625,
     "end_time": "2024-09-20T14:53:11.741292",
     "exception": false,
     "start_time": "2024-09-20T14:53:11.690667",
     "status": "completed"
    },
    "tags": []
   },
   "outputs": [],
   "source": [
    "df = pd.read_csv('/kaggle/input/loan-approval-prediction-dataset/loan_approval_dataset.csv')"
   ]
  },
  {
   "cell_type": "code",
   "execution_count": 3,
   "id": "263e13a4",
   "metadata": {
    "execution": {
     "iopub.execute_input": "2024-09-20T14:53:11.766293Z",
     "iopub.status.busy": "2024-09-20T14:53:11.765410Z",
     "iopub.status.idle": "2024-09-20T14:53:11.788260Z",
     "shell.execute_reply": "2024-09-20T14:53:11.787288Z"
    },
    "papermill": {
     "duration": 0.037882,
     "end_time": "2024-09-20T14:53:11.790582",
     "exception": false,
     "start_time": "2024-09-20T14:53:11.752700",
     "status": "completed"
    },
    "tags": []
   },
   "outputs": [
    {
     "data": {
      "text/html": [
       "<div>\n",
       "<style scoped>\n",
       "    .dataframe tbody tr th:only-of-type {\n",
       "        vertical-align: middle;\n",
       "    }\n",
       "\n",
       "    .dataframe tbody tr th {\n",
       "        vertical-align: top;\n",
       "    }\n",
       "\n",
       "    .dataframe thead th {\n",
       "        text-align: right;\n",
       "    }\n",
       "</style>\n",
       "<table border=\"1\" class=\"dataframe\">\n",
       "  <thead>\n",
       "    <tr style=\"text-align: right;\">\n",
       "      <th></th>\n",
       "      <th>loan_id</th>\n",
       "      <th>no_of_dependents</th>\n",
       "      <th>education</th>\n",
       "      <th>self_employed</th>\n",
       "      <th>income_annum</th>\n",
       "      <th>loan_amount</th>\n",
       "      <th>loan_term</th>\n",
       "      <th>cibil_score</th>\n",
       "      <th>residential_assets_value</th>\n",
       "      <th>commercial_assets_value</th>\n",
       "      <th>luxury_assets_value</th>\n",
       "      <th>bank_asset_value</th>\n",
       "      <th>loan_status</th>\n",
       "    </tr>\n",
       "  </thead>\n",
       "  <tbody>\n",
       "    <tr>\n",
       "      <th>0</th>\n",
       "      <td>1</td>\n",
       "      <td>2</td>\n",
       "      <td>Graduate</td>\n",
       "      <td>No</td>\n",
       "      <td>9600000</td>\n",
       "      <td>29900000</td>\n",
       "      <td>12</td>\n",
       "      <td>778</td>\n",
       "      <td>2400000</td>\n",
       "      <td>17600000</td>\n",
       "      <td>22700000</td>\n",
       "      <td>8000000</td>\n",
       "      <td>Approved</td>\n",
       "    </tr>\n",
       "    <tr>\n",
       "      <th>1</th>\n",
       "      <td>2</td>\n",
       "      <td>0</td>\n",
       "      <td>Not Graduate</td>\n",
       "      <td>Yes</td>\n",
       "      <td>4100000</td>\n",
       "      <td>12200000</td>\n",
       "      <td>8</td>\n",
       "      <td>417</td>\n",
       "      <td>2700000</td>\n",
       "      <td>2200000</td>\n",
       "      <td>8800000</td>\n",
       "      <td>3300000</td>\n",
       "      <td>Rejected</td>\n",
       "    </tr>\n",
       "    <tr>\n",
       "      <th>2</th>\n",
       "      <td>3</td>\n",
       "      <td>3</td>\n",
       "      <td>Graduate</td>\n",
       "      <td>No</td>\n",
       "      <td>9100000</td>\n",
       "      <td>29700000</td>\n",
       "      <td>20</td>\n",
       "      <td>506</td>\n",
       "      <td>7100000</td>\n",
       "      <td>4500000</td>\n",
       "      <td>33300000</td>\n",
       "      <td>12800000</td>\n",
       "      <td>Rejected</td>\n",
       "    </tr>\n",
       "    <tr>\n",
       "      <th>3</th>\n",
       "      <td>4</td>\n",
       "      <td>3</td>\n",
       "      <td>Graduate</td>\n",
       "      <td>No</td>\n",
       "      <td>8200000</td>\n",
       "      <td>30700000</td>\n",
       "      <td>8</td>\n",
       "      <td>467</td>\n",
       "      <td>18200000</td>\n",
       "      <td>3300000</td>\n",
       "      <td>23300000</td>\n",
       "      <td>7900000</td>\n",
       "      <td>Rejected</td>\n",
       "    </tr>\n",
       "    <tr>\n",
       "      <th>4</th>\n",
       "      <td>5</td>\n",
       "      <td>5</td>\n",
       "      <td>Not Graduate</td>\n",
       "      <td>Yes</td>\n",
       "      <td>9800000</td>\n",
       "      <td>24200000</td>\n",
       "      <td>20</td>\n",
       "      <td>382</td>\n",
       "      <td>12400000</td>\n",
       "      <td>8200000</td>\n",
       "      <td>29400000</td>\n",
       "      <td>5000000</td>\n",
       "      <td>Rejected</td>\n",
       "    </tr>\n",
       "  </tbody>\n",
       "</table>\n",
       "</div>"
      ],
      "text/plain": [
       "   loan_id   no_of_dependents      education  self_employed   income_annum  \\\n",
       "0        1                  2       Graduate             No        9600000   \n",
       "1        2                  0   Not Graduate            Yes        4100000   \n",
       "2        3                  3       Graduate             No        9100000   \n",
       "3        4                  3       Graduate             No        8200000   \n",
       "4        5                  5   Not Graduate            Yes        9800000   \n",
       "\n",
       "    loan_amount   loan_term   cibil_score   residential_assets_value  \\\n",
       "0      29900000          12           778                    2400000   \n",
       "1      12200000           8           417                    2700000   \n",
       "2      29700000          20           506                    7100000   \n",
       "3      30700000           8           467                   18200000   \n",
       "4      24200000          20           382                   12400000   \n",
       "\n",
       "    commercial_assets_value   luxury_assets_value   bank_asset_value  \\\n",
       "0                  17600000              22700000            8000000   \n",
       "1                   2200000               8800000            3300000   \n",
       "2                   4500000              33300000           12800000   \n",
       "3                   3300000              23300000            7900000   \n",
       "4                   8200000              29400000            5000000   \n",
       "\n",
       "   loan_status  \n",
       "0     Approved  \n",
       "1     Rejected  \n",
       "2     Rejected  \n",
       "3     Rejected  \n",
       "4     Rejected  "
      ]
     },
     "execution_count": 3,
     "metadata": {},
     "output_type": "execute_result"
    }
   ],
   "source": [
    "df.head()"
   ]
  },
  {
   "cell_type": "code",
   "execution_count": 4,
   "id": "5fd3d503",
   "metadata": {
    "execution": {
     "iopub.execute_input": "2024-09-20T14:53:11.815710Z",
     "iopub.status.busy": "2024-09-20T14:53:11.814970Z",
     "iopub.status.idle": "2024-09-20T14:53:11.821109Z",
     "shell.execute_reply": "2024-09-20T14:53:11.820196Z"
    },
    "papermill": {
     "duration": 0.020916,
     "end_time": "2024-09-20T14:53:11.823100",
     "exception": false,
     "start_time": "2024-09-20T14:53:11.802184",
     "status": "completed"
    },
    "tags": []
   },
   "outputs": [
    {
     "data": {
      "text/plain": [
       "(4269, 13)"
      ]
     },
     "execution_count": 4,
     "metadata": {},
     "output_type": "execute_result"
    }
   ],
   "source": [
    "df.shape"
   ]
  },
  {
   "cell_type": "code",
   "execution_count": 5,
   "id": "ca800c23",
   "metadata": {
    "execution": {
     "iopub.execute_input": "2024-09-20T14:53:11.847799Z",
     "iopub.status.busy": "2024-09-20T14:53:11.847404Z",
     "iopub.status.idle": "2024-09-20T14:53:11.870049Z",
     "shell.execute_reply": "2024-09-20T14:53:11.868674Z"
    },
    "papermill": {
     "duration": 0.037693,
     "end_time": "2024-09-20T14:53:11.872390",
     "exception": false,
     "start_time": "2024-09-20T14:53:11.834697",
     "status": "completed"
    },
    "tags": []
   },
   "outputs": [
    {
     "name": "stdout",
     "output_type": "stream",
     "text": [
      "<class 'pandas.core.frame.DataFrame'>\n",
      "RangeIndex: 4269 entries, 0 to 4268\n",
      "Data columns (total 13 columns):\n",
      " #   Column                     Non-Null Count  Dtype \n",
      "---  ------                     --------------  ----- \n",
      " 0   loan_id                    4269 non-null   int64 \n",
      " 1    no_of_dependents          4269 non-null   int64 \n",
      " 2    education                 4269 non-null   object\n",
      " 3    self_employed             4269 non-null   object\n",
      " 4    income_annum              4269 non-null   int64 \n",
      " 5    loan_amount               4269 non-null   int64 \n",
      " 6    loan_term                 4269 non-null   int64 \n",
      " 7    cibil_score               4269 non-null   int64 \n",
      " 8    residential_assets_value  4269 non-null   int64 \n",
      " 9    commercial_assets_value   4269 non-null   int64 \n",
      " 10   luxury_assets_value       4269 non-null   int64 \n",
      " 11   bank_asset_value          4269 non-null   int64 \n",
      " 12   loan_status               4269 non-null   object\n",
      "dtypes: int64(10), object(3)\n",
      "memory usage: 433.7+ KB\n"
     ]
    }
   ],
   "source": [
    "df.info()"
   ]
  },
  {
   "cell_type": "code",
   "execution_count": 6,
   "id": "27400140",
   "metadata": {
    "execution": {
     "iopub.execute_input": "2024-09-20T14:53:11.897263Z",
     "iopub.status.busy": "2024-09-20T14:53:11.896662Z",
     "iopub.status.idle": "2024-09-20T14:53:11.905234Z",
     "shell.execute_reply": "2024-09-20T14:53:11.904326Z"
    },
    "papermill": {
     "duration": 0.023253,
     "end_time": "2024-09-20T14:53:11.907411",
     "exception": false,
     "start_time": "2024-09-20T14:53:11.884158",
     "status": "completed"
    },
    "tags": []
   },
   "outputs": [
    {
     "data": {
      "text/plain": [
       "loan_id                      0\n",
       " no_of_dependents            0\n",
       " education                   0\n",
       " self_employed               0\n",
       " income_annum                0\n",
       " loan_amount                 0\n",
       " loan_term                   0\n",
       " cibil_score                 0\n",
       " residential_assets_value    0\n",
       " commercial_assets_value     0\n",
       " luxury_assets_value         0\n",
       " bank_asset_value            0\n",
       " loan_status                 0\n",
       "dtype: int64"
      ]
     },
     "execution_count": 6,
     "metadata": {},
     "output_type": "execute_result"
    }
   ],
   "source": [
    "df.isnull().sum()"
   ]
  },
  {
   "cell_type": "markdown",
   "id": "3ef76a92",
   "metadata": {
    "execution": {
     "iopub.execute_input": "2024-09-20T11:30:46.224340Z",
     "iopub.status.busy": "2024-09-20T11:30:46.223910Z",
     "iopub.status.idle": "2024-09-20T11:30:46.230285Z",
     "shell.execute_reply": "2024-09-20T11:30:46.228947Z",
     "shell.execute_reply.started": "2024-09-20T11:30:46.224290Z"
    },
    "papermill": {
     "duration": 0.011294,
     "end_time": "2024-09-20T14:53:11.930317",
     "exception": false,
     "start_time": "2024-09-20T14:53:11.919023",
     "status": "completed"
    },
    "tags": []
   },
   "source": [
    "# Data Preprocessing"
   ]
  },
  {
   "cell_type": "code",
   "execution_count": 7,
   "id": "a3cdbbb3",
   "metadata": {
    "execution": {
     "iopub.execute_input": "2024-09-20T14:53:11.955404Z",
     "iopub.status.busy": "2024-09-20T14:53:11.954548Z",
     "iopub.status.idle": "2024-09-20T14:53:11.961362Z",
     "shell.execute_reply": "2024-09-20T14:53:11.960596Z"
    },
    "papermill": {
     "duration": 0.021399,
     "end_time": "2024-09-20T14:53:11.963358",
     "exception": false,
     "start_time": "2024-09-20T14:53:11.941959",
     "status": "completed"
    },
    "tags": []
   },
   "outputs": [],
   "source": [
    "df.drop('loan_id', axis = 1, inplace = True)"
   ]
  },
  {
   "cell_type": "code",
   "execution_count": 8,
   "id": "42358a10",
   "metadata": {
    "execution": {
     "iopub.execute_input": "2024-09-20T14:53:11.988801Z",
     "iopub.status.busy": "2024-09-20T14:53:11.987958Z",
     "iopub.status.idle": "2024-09-20T14:53:12.142038Z",
     "shell.execute_reply": "2024-09-20T14:53:12.141075Z"
    },
    "papermill": {
     "duration": 0.169056,
     "end_time": "2024-09-20T14:53:12.144262",
     "exception": false,
     "start_time": "2024-09-20T14:53:11.975206",
     "status": "completed"
    },
    "tags": []
   },
   "outputs": [],
   "source": [
    "from sklearn.preprocessing import LabelEncoder\n",
    "le = LabelEncoder()"
   ]
  },
  {
   "cell_type": "code",
   "execution_count": 9,
   "id": "2d5808c8",
   "metadata": {
    "execution": {
     "iopub.execute_input": "2024-09-20T14:53:12.169654Z",
     "iopub.status.busy": "2024-09-20T14:53:12.168960Z",
     "iopub.status.idle": "2024-09-20T14:53:12.175464Z",
     "shell.execute_reply": "2024-09-20T14:53:12.174535Z"
    },
    "papermill": {
     "duration": 0.021675,
     "end_time": "2024-09-20T14:53:12.177808",
     "exception": false,
     "start_time": "2024-09-20T14:53:12.156133",
     "status": "completed"
    },
    "tags": []
   },
   "outputs": [
    {
     "data": {
      "text/plain": [
       "Index([' no_of_dependents', ' education', ' self_employed', ' income_annum',\n",
       "       ' loan_amount', ' loan_term', ' cibil_score',\n",
       "       ' residential_assets_value', ' commercial_assets_value',\n",
       "       ' luxury_assets_value', ' bank_asset_value', ' loan_status'],\n",
       "      dtype='object')"
      ]
     },
     "execution_count": 9,
     "metadata": {},
     "output_type": "execute_result"
    }
   ],
   "source": [
    "df.columns"
   ]
  },
  {
   "cell_type": "code",
   "execution_count": 10,
   "id": "e8e8c862",
   "metadata": {
    "execution": {
     "iopub.execute_input": "2024-09-20T14:53:12.204101Z",
     "iopub.status.busy": "2024-09-20T14:53:12.203270Z",
     "iopub.status.idle": "2024-09-20T14:53:12.207712Z",
     "shell.execute_reply": "2024-09-20T14:53:12.206791Z"
    },
    "papermill": {
     "duration": 0.020014,
     "end_time": "2024-09-20T14:53:12.209951",
     "exception": false,
     "start_time": "2024-09-20T14:53:12.189937",
     "status": "completed"
    },
    "tags": []
   },
   "outputs": [],
   "source": [
    "df_obj = [' education', ' self_employed']"
   ]
  },
  {
   "cell_type": "code",
   "execution_count": 11,
   "id": "1666497b",
   "metadata": {
    "execution": {
     "iopub.execute_input": "2024-09-20T14:53:12.235728Z",
     "iopub.status.busy": "2024-09-20T14:53:12.235274Z",
     "iopub.status.idle": "2024-09-20T14:53:12.243261Z",
     "shell.execute_reply": "2024-09-20T14:53:12.242166Z"
    },
    "papermill": {
     "duration": 0.023104,
     "end_time": "2024-09-20T14:53:12.245329",
     "exception": false,
     "start_time": "2024-09-20T14:53:12.222225",
     "status": "completed"
    },
    "tags": []
   },
   "outputs": [],
   "source": [
    "# converting categorical variables\n",
    "for col in df_obj:\n",
    "    df[col] = le.fit_transform(df[col])"
   ]
  },
  {
   "cell_type": "code",
   "execution_count": 12,
   "id": "e4c5f40f",
   "metadata": {
    "execution": {
     "iopub.execute_input": "2024-09-20T14:53:12.270236Z",
     "iopub.status.busy": "2024-09-20T14:53:12.269869Z",
     "iopub.status.idle": "2024-09-20T14:53:12.276717Z",
     "shell.execute_reply": "2024-09-20T14:53:12.275486Z"
    },
    "papermill": {
     "duration": 0.021694,
     "end_time": "2024-09-20T14:53:12.278779",
     "exception": false,
     "start_time": "2024-09-20T14:53:12.257085",
     "status": "completed"
    },
    "tags": []
   },
   "outputs": [],
   "source": [
    "df[' loan_status'] = df[' loan_status'].map({' Approved': 1, ' Rejected': 0})\n",
    "# Approved = 1, Rejected = 0"
   ]
  },
  {
   "cell_type": "code",
   "execution_count": 13,
   "id": "9bf3ab92",
   "metadata": {
    "execution": {
     "iopub.execute_input": "2024-09-20T14:53:12.303659Z",
     "iopub.status.busy": "2024-09-20T14:53:12.303236Z",
     "iopub.status.idle": "2024-09-20T14:53:12.315947Z",
     "shell.execute_reply": "2024-09-20T14:53:12.314810Z"
    },
    "papermill": {
     "duration": 0.027606,
     "end_time": "2024-09-20T14:53:12.318029",
     "exception": false,
     "start_time": "2024-09-20T14:53:12.290423",
     "status": "completed"
    },
    "tags": []
   },
   "outputs": [
    {
     "data": {
      "text/html": [
       "<div>\n",
       "<style scoped>\n",
       "    .dataframe tbody tr th:only-of-type {\n",
       "        vertical-align: middle;\n",
       "    }\n",
       "\n",
       "    .dataframe tbody tr th {\n",
       "        vertical-align: top;\n",
       "    }\n",
       "\n",
       "    .dataframe thead th {\n",
       "        text-align: right;\n",
       "    }\n",
       "</style>\n",
       "<table border=\"1\" class=\"dataframe\">\n",
       "  <thead>\n",
       "    <tr style=\"text-align: right;\">\n",
       "      <th></th>\n",
       "      <th>no_of_dependents</th>\n",
       "      <th>education</th>\n",
       "      <th>self_employed</th>\n",
       "      <th>income_annum</th>\n",
       "      <th>loan_amount</th>\n",
       "      <th>loan_term</th>\n",
       "      <th>cibil_score</th>\n",
       "      <th>residential_assets_value</th>\n",
       "      <th>commercial_assets_value</th>\n",
       "      <th>luxury_assets_value</th>\n",
       "      <th>bank_asset_value</th>\n",
       "      <th>loan_status</th>\n",
       "    </tr>\n",
       "  </thead>\n",
       "  <tbody>\n",
       "    <tr>\n",
       "      <th>0</th>\n",
       "      <td>2</td>\n",
       "      <td>0</td>\n",
       "      <td>0</td>\n",
       "      <td>9600000</td>\n",
       "      <td>29900000</td>\n",
       "      <td>12</td>\n",
       "      <td>778</td>\n",
       "      <td>2400000</td>\n",
       "      <td>17600000</td>\n",
       "      <td>22700000</td>\n",
       "      <td>8000000</td>\n",
       "      <td>1</td>\n",
       "    </tr>\n",
       "    <tr>\n",
       "      <th>1</th>\n",
       "      <td>0</td>\n",
       "      <td>1</td>\n",
       "      <td>1</td>\n",
       "      <td>4100000</td>\n",
       "      <td>12200000</td>\n",
       "      <td>8</td>\n",
       "      <td>417</td>\n",
       "      <td>2700000</td>\n",
       "      <td>2200000</td>\n",
       "      <td>8800000</td>\n",
       "      <td>3300000</td>\n",
       "      <td>0</td>\n",
       "    </tr>\n",
       "    <tr>\n",
       "      <th>2</th>\n",
       "      <td>3</td>\n",
       "      <td>0</td>\n",
       "      <td>0</td>\n",
       "      <td>9100000</td>\n",
       "      <td>29700000</td>\n",
       "      <td>20</td>\n",
       "      <td>506</td>\n",
       "      <td>7100000</td>\n",
       "      <td>4500000</td>\n",
       "      <td>33300000</td>\n",
       "      <td>12800000</td>\n",
       "      <td>0</td>\n",
       "    </tr>\n",
       "  </tbody>\n",
       "</table>\n",
       "</div>"
      ],
      "text/plain": [
       "   no_of_dependents  education  self_employed  income_annum  loan_amount  \\\n",
       "0                 2          0              0       9600000     29900000   \n",
       "1                 0          1              1       4100000     12200000   \n",
       "2                 3          0              0       9100000     29700000   \n",
       "\n",
       "   loan_term  cibil_score  residential_assets_value  commercial_assets_value  \\\n",
       "0         12          778                   2400000                 17600000   \n",
       "1          8          417                   2700000                  2200000   \n",
       "2         20          506                   7100000                  4500000   \n",
       "\n",
       "   luxury_assets_value  bank_asset_value  loan_status  \n",
       "0             22700000           8000000            1  \n",
       "1              8800000           3300000            0  \n",
       "2             33300000          12800000            0  "
      ]
     },
     "execution_count": 13,
     "metadata": {},
     "output_type": "execute_result"
    }
   ],
   "source": [
    "df.head(3)"
   ]
  },
  {
   "cell_type": "code",
   "execution_count": 14,
   "id": "e79529ab",
   "metadata": {
    "execution": {
     "iopub.execute_input": "2024-09-20T14:53:12.343934Z",
     "iopub.status.busy": "2024-09-20T14:53:12.343176Z",
     "iopub.status.idle": "2024-09-20T14:53:12.347882Z",
     "shell.execute_reply": "2024-09-20T14:53:12.346963Z"
    },
    "papermill": {
     "duration": 0.019832,
     "end_time": "2024-09-20T14:53:12.349890",
     "exception": false,
     "start_time": "2024-09-20T14:53:12.330058",
     "status": "completed"
    },
    "tags": []
   },
   "outputs": [],
   "source": [
    "df_num = [' no_of_dependents', ' income_annum',\n",
    "       ' loan_amount', ' loan_term', ' cibil_score',\n",
    "       ' residential_assets_value', ' commercial_assets_value',\n",
    "       ' luxury_assets_value', ' bank_asset_value']"
   ]
  },
  {
   "cell_type": "code",
   "execution_count": 15,
   "id": "3357435d",
   "metadata": {
    "execution": {
     "iopub.execute_input": "2024-09-20T14:53:12.375703Z",
     "iopub.status.busy": "2024-09-20T14:53:12.374796Z",
     "iopub.status.idle": "2024-09-20T14:53:12.379870Z",
     "shell.execute_reply": "2024-09-20T14:53:12.378854Z"
    },
    "papermill": {
     "duration": 0.020094,
     "end_time": "2024-09-20T14:53:12.381871",
     "exception": false,
     "start_time": "2024-09-20T14:53:12.361777",
     "status": "completed"
    },
    "tags": []
   },
   "outputs": [],
   "source": [
    "# Standardization\n",
    "from sklearn.preprocessing import MinMaxScaler\n",
    "scale = MinMaxScaler()"
   ]
  },
  {
   "cell_type": "code",
   "execution_count": 16,
   "id": "e26302ed",
   "metadata": {
    "execution": {
     "iopub.execute_input": "2024-09-20T14:53:12.409138Z",
     "iopub.status.busy": "2024-09-20T14:53:12.408361Z",
     "iopub.status.idle": "2024-09-20T14:53:12.441729Z",
     "shell.execute_reply": "2024-09-20T14:53:12.440688Z"
    },
    "papermill": {
     "duration": 0.049084,
     "end_time": "2024-09-20T14:53:12.444091",
     "exception": false,
     "start_time": "2024-09-20T14:53:12.395007",
     "status": "completed"
    },
    "tags": []
   },
   "outputs": [],
   "source": [
    "for col in df_num:\n",
    "    df[col] = scale.fit_transform(df[[col]])"
   ]
  },
  {
   "cell_type": "code",
   "execution_count": 17,
   "id": "495c5567",
   "metadata": {
    "execution": {
     "iopub.execute_input": "2024-09-20T14:53:12.470241Z",
     "iopub.status.busy": "2024-09-20T14:53:12.469319Z",
     "iopub.status.idle": "2024-09-20T14:53:12.485058Z",
     "shell.execute_reply": "2024-09-20T14:53:12.484024Z"
    },
    "papermill": {
     "duration": 0.030946,
     "end_time": "2024-09-20T14:53:12.487146",
     "exception": false,
     "start_time": "2024-09-20T14:53:12.456200",
     "status": "completed"
    },
    "tags": []
   },
   "outputs": [
    {
     "data": {
      "text/html": [
       "<div>\n",
       "<style scoped>\n",
       "    .dataframe tbody tr th:only-of-type {\n",
       "        vertical-align: middle;\n",
       "    }\n",
       "\n",
       "    .dataframe tbody tr th {\n",
       "        vertical-align: top;\n",
       "    }\n",
       "\n",
       "    .dataframe thead th {\n",
       "        text-align: right;\n",
       "    }\n",
       "</style>\n",
       "<table border=\"1\" class=\"dataframe\">\n",
       "  <thead>\n",
       "    <tr style=\"text-align: right;\">\n",
       "      <th></th>\n",
       "      <th>no_of_dependents</th>\n",
       "      <th>education</th>\n",
       "      <th>self_employed</th>\n",
       "      <th>income_annum</th>\n",
       "      <th>loan_amount</th>\n",
       "      <th>loan_term</th>\n",
       "      <th>cibil_score</th>\n",
       "      <th>residential_assets_value</th>\n",
       "      <th>commercial_assets_value</th>\n",
       "      <th>luxury_assets_value</th>\n",
       "      <th>bank_asset_value</th>\n",
       "      <th>loan_status</th>\n",
       "    </tr>\n",
       "  </thead>\n",
       "  <tbody>\n",
       "    <tr>\n",
       "      <th>0</th>\n",
       "      <td>0.4</td>\n",
       "      <td>0</td>\n",
       "      <td>0</td>\n",
       "      <td>0.969072</td>\n",
       "      <td>0.755102</td>\n",
       "      <td>0.555556</td>\n",
       "      <td>0.796667</td>\n",
       "      <td>0.085616</td>\n",
       "      <td>0.907216</td>\n",
       "      <td>0.575835</td>\n",
       "      <td>0.544218</td>\n",
       "      <td>1</td>\n",
       "    </tr>\n",
       "    <tr>\n",
       "      <th>1</th>\n",
       "      <td>0.0</td>\n",
       "      <td>1</td>\n",
       "      <td>1</td>\n",
       "      <td>0.402062</td>\n",
       "      <td>0.303571</td>\n",
       "      <td>0.333333</td>\n",
       "      <td>0.195000</td>\n",
       "      <td>0.095890</td>\n",
       "      <td>0.113402</td>\n",
       "      <td>0.218509</td>\n",
       "      <td>0.224490</td>\n",
       "      <td>0</td>\n",
       "    </tr>\n",
       "    <tr>\n",
       "      <th>2</th>\n",
       "      <td>0.6</td>\n",
       "      <td>0</td>\n",
       "      <td>0</td>\n",
       "      <td>0.917526</td>\n",
       "      <td>0.750000</td>\n",
       "      <td>1.000000</td>\n",
       "      <td>0.343333</td>\n",
       "      <td>0.246575</td>\n",
       "      <td>0.231959</td>\n",
       "      <td>0.848329</td>\n",
       "      <td>0.870748</td>\n",
       "      <td>0</td>\n",
       "    </tr>\n",
       "    <tr>\n",
       "      <th>3</th>\n",
       "      <td>0.6</td>\n",
       "      <td>0</td>\n",
       "      <td>0</td>\n",
       "      <td>0.824742</td>\n",
       "      <td>0.775510</td>\n",
       "      <td>0.333333</td>\n",
       "      <td>0.278333</td>\n",
       "      <td>0.626712</td>\n",
       "      <td>0.170103</td>\n",
       "      <td>0.591260</td>\n",
       "      <td>0.537415</td>\n",
       "      <td>0</td>\n",
       "    </tr>\n",
       "    <tr>\n",
       "      <th>4</th>\n",
       "      <td>1.0</td>\n",
       "      <td>1</td>\n",
       "      <td>1</td>\n",
       "      <td>0.989691</td>\n",
       "      <td>0.609694</td>\n",
       "      <td>1.000000</td>\n",
       "      <td>0.136667</td>\n",
       "      <td>0.428082</td>\n",
       "      <td>0.422680</td>\n",
       "      <td>0.748072</td>\n",
       "      <td>0.340136</td>\n",
       "      <td>0</td>\n",
       "    </tr>\n",
       "  </tbody>\n",
       "</table>\n",
       "</div>"
      ],
      "text/plain": [
       "   no_of_dependents  education  self_employed  income_annum  loan_amount  \\\n",
       "0               0.4          0              0      0.969072     0.755102   \n",
       "1               0.0          1              1      0.402062     0.303571   \n",
       "2               0.6          0              0      0.917526     0.750000   \n",
       "3               0.6          0              0      0.824742     0.775510   \n",
       "4               1.0          1              1      0.989691     0.609694   \n",
       "\n",
       "   loan_term  cibil_score  residential_assets_value  commercial_assets_value  \\\n",
       "0   0.555556     0.796667                  0.085616                 0.907216   \n",
       "1   0.333333     0.195000                  0.095890                 0.113402   \n",
       "2   1.000000     0.343333                  0.246575                 0.231959   \n",
       "3   0.333333     0.278333                  0.626712                 0.170103   \n",
       "4   1.000000     0.136667                  0.428082                 0.422680   \n",
       "\n",
       "   luxury_assets_value  bank_asset_value  loan_status  \n",
       "0             0.575835          0.544218            1  \n",
       "1             0.218509          0.224490            0  \n",
       "2             0.848329          0.870748            0  \n",
       "3             0.591260          0.537415            0  \n",
       "4             0.748072          0.340136            0  "
      ]
     },
     "execution_count": 17,
     "metadata": {},
     "output_type": "execute_result"
    }
   ],
   "source": [
    "df.head(5)"
   ]
  },
  {
   "cell_type": "markdown",
   "id": "991f7924",
   "metadata": {
    "papermill": {
     "duration": 0.011804,
     "end_time": "2024-09-20T14:53:12.511265",
     "exception": false,
     "start_time": "2024-09-20T14:53:12.499461",
     "status": "completed"
    },
    "tags": []
   },
   "source": [
    "# Building the Neural Network"
   ]
  },
  {
   "cell_type": "code",
   "execution_count": 18,
   "id": "df79fed8",
   "metadata": {
    "execution": {
     "iopub.execute_input": "2024-09-20T14:53:12.537221Z",
     "iopub.status.busy": "2024-09-20T14:53:12.536842Z",
     "iopub.status.idle": "2024-09-20T14:53:12.543230Z",
     "shell.execute_reply": "2024-09-20T14:53:12.542269Z"
    },
    "papermill": {
     "duration": 0.022046,
     "end_time": "2024-09-20T14:53:12.545296",
     "exception": false,
     "start_time": "2024-09-20T14:53:12.523250",
     "status": "completed"
    },
    "tags": []
   },
   "outputs": [],
   "source": [
    "# feature and target segregation\n",
    "x = df.drop(' loan_status', axis = 1)\n",
    "y = df[' loan_status']"
   ]
  },
  {
   "cell_type": "code",
   "execution_count": 19,
   "id": "464dbc4a",
   "metadata": {
    "execution": {
     "iopub.execute_input": "2024-09-20T14:53:12.571786Z",
     "iopub.status.busy": "2024-09-20T14:53:12.570931Z",
     "iopub.status.idle": "2024-09-20T14:53:12.663546Z",
     "shell.execute_reply": "2024-09-20T14:53:12.662540Z"
    },
    "papermill": {
     "duration": 0.108272,
     "end_time": "2024-09-20T14:53:12.665921",
     "exception": false,
     "start_time": "2024-09-20T14:53:12.557649",
     "status": "completed"
    },
    "tags": []
   },
   "outputs": [],
   "source": [
    "from sklearn.model_selection import train_test_split"
   ]
  },
  {
   "cell_type": "markdown",
   "id": "3efd053c",
   "metadata": {
    "papermill": {
     "duration": 0.012439,
     "end_time": "2024-09-20T14:53:12.690932",
     "exception": false,
     "start_time": "2024-09-20T14:53:12.678493",
     "status": "completed"
    },
    "tags": []
   },
   "source": []
  },
  {
   "cell_type": "code",
   "execution_count": 20,
   "id": "3999db46",
   "metadata": {
    "execution": {
     "iopub.execute_input": "2024-09-20T14:53:12.717203Z",
     "iopub.status.busy": "2024-09-20T14:53:12.716825Z",
     "iopub.status.idle": "2024-09-20T14:53:12.727187Z",
     "shell.execute_reply": "2024-09-20T14:53:12.726421Z"
    },
    "papermill": {
     "duration": 0.025881,
     "end_time": "2024-09-20T14:53:12.729313",
     "exception": false,
     "start_time": "2024-09-20T14:53:12.703432",
     "status": "completed"
    },
    "tags": []
   },
   "outputs": [],
   "source": [
    "x_train,x_test,y_train,y_test = train_test_split(x,y,stratify=df[' loan_status'], test_size=0.2, random_state=42)"
   ]
  },
  {
   "cell_type": "code",
   "execution_count": 21,
   "id": "b639da34",
   "metadata": {
    "execution": {
     "iopub.execute_input": "2024-09-20T14:53:12.755510Z",
     "iopub.status.busy": "2024-09-20T14:53:12.754936Z",
     "iopub.status.idle": "2024-09-20T14:53:12.760987Z",
     "shell.execute_reply": "2024-09-20T14:53:12.760059Z"
    },
    "papermill": {
     "duration": 0.021495,
     "end_time": "2024-09-20T14:53:12.763024",
     "exception": false,
     "start_time": "2024-09-20T14:53:12.741529",
     "status": "completed"
    },
    "tags": []
   },
   "outputs": [
    {
     "data": {
      "text/plain": [
       "((3415, 11), (854, 11))"
      ]
     },
     "execution_count": 21,
     "metadata": {},
     "output_type": "execute_result"
    }
   ],
   "source": [
    "x_train.shape, x_test.shape"
   ]
  },
  {
   "cell_type": "code",
   "execution_count": 22,
   "id": "3d1b1f57",
   "metadata": {
    "execution": {
     "iopub.execute_input": "2024-09-20T14:53:12.790234Z",
     "iopub.status.busy": "2024-09-20T14:53:12.789360Z",
     "iopub.status.idle": "2024-09-20T14:53:24.912278Z",
     "shell.execute_reply": "2024-09-20T14:53:24.911276Z"
    },
    "papermill": {
     "duration": 12.138893,
     "end_time": "2024-09-20T14:53:24.914722",
     "exception": false,
     "start_time": "2024-09-20T14:53:12.775829",
     "status": "completed"
    },
    "tags": []
   },
   "outputs": [],
   "source": [
    "# defining the architecture of the model\n",
    "import keras\n",
    "import tensorflow as tf"
   ]
  },
  {
   "attachments": {
    "0e5619e8-5479-43fd-b1fe-1049d2ad5f40.png": {
     "image/png": "[encoded data removed]"
    }
   },
   "cell_type": "markdown",
   "id": "c2892a6b",
   "metadata": {
    "papermill": {
     "duration": 0.011952,
     "end_time": "2024-09-20T14:53:24.939091",
     "exception": false,
     "start_time": "2024-09-20T14:53:24.927139",
     "status": "completed"
    },
    "tags": []
   },
   "source": [
    "![image.png](attachment:0e5619e8-5479-43fd-b1fe-1049d2ad5f40.png)"
   ]
  },
  {
   "cell_type": "code",
   "execution_count": 23,
   "id": "19880ec0",
   "metadata": {
    "execution": {
     "iopub.execute_input": "2024-09-20T14:53:24.966410Z",
     "iopub.status.busy": "2024-09-20T14:53:24.965163Z",
     "iopub.status.idle": "2024-09-20T14:53:24.970549Z",
     "shell.execute_reply": "2024-09-20T14:53:24.969724Z"
    },
    "papermill": {
     "duration": 0.020926,
     "end_time": "2024-09-20T14:53:24.972632",
     "exception": false,
     "start_time": "2024-09-20T14:53:24.951706",
     "status": "completed"
    },
    "tags": []
   },
   "outputs": [],
   "source": [
    "#importing the sequential model - No of layers and no of Neurons\n",
    "from keras.models import Sequential"
   ]
  },
  {
   "cell_type": "code",
   "execution_count": 24,
   "id": "33e9ad8e",
   "metadata": {
    "execution": {
     "iopub.execute_input": "2024-09-20T14:53:24.998111Z",
     "iopub.status.busy": "2024-09-20T14:53:24.997752Z",
     "iopub.status.idle": "2024-09-20T14:53:25.003276Z",
     "shell.execute_reply": "2024-09-20T14:53:25.002517Z"
    },
    "papermill": {
     "duration": 0.020529,
     "end_time": "2024-09-20T14:53:25.005169",
     "exception": false,
     "start_time": "2024-09-20T14:53:24.984640",
     "status": "completed"
    },
    "tags": []
   },
   "outputs": [],
   "source": [
    "# Input layers and Hidden Layers\n",
    "from keras.layers import InputLayer, Dense"
   ]
  },
  {
   "attachments": {
    "62696c04-e51a-4f26-ac1f-07e19aa29c66.png": {
     "image/png": "[encoded data removed]"
    }
   },
   "cell_type": "markdown",
   "id": "f9eb50d2",
   "metadata": {
    "papermill": {
     "duration": 0.011958,
     "end_time": "2024-09-20T14:53:25.029259",
     "exception": false,
     "start_time": "2024-09-20T14:53:25.017301",
     "status": "completed"
    },
    "tags": []
   },
   "source": [
    "![image.png](attachment:62696c04-e51a-4f26-ac1f-07e19aa29c66.png)"
   ]
  },
  {
   "cell_type": "code",
   "execution_count": 25,
   "id": "31fd0883",
   "metadata": {
    "execution": {
     "iopub.execute_input": "2024-09-20T14:53:25.055645Z",
     "iopub.status.busy": "2024-09-20T14:53:25.054886Z",
     "iopub.status.idle": "2024-09-20T14:53:25.060919Z",
     "shell.execute_reply": "2024-09-20T14:53:25.059990Z"
    },
    "papermill": {
     "duration": 0.021395,
     "end_time": "2024-09-20T14:53:25.062892",
     "exception": false,
     "start_time": "2024-09-20T14:53:25.041497",
     "status": "completed"
    },
    "tags": []
   },
   "outputs": [
    {
     "data": {
      "text/plain": [
       "(3415, 11)"
      ]
     },
     "execution_count": 25,
     "metadata": {},
     "output_type": "execute_result"
    }
   ],
   "source": [
    "x_train.shape"
   ]
  },
  {
   "cell_type": "code",
   "execution_count": 26,
   "id": "e755ca6a",
   "metadata": {
    "execution": {
     "iopub.execute_input": "2024-09-20T14:53:25.089217Z",
     "iopub.status.busy": "2024-09-20T14:53:25.088393Z",
     "iopub.status.idle": "2024-09-20T14:53:25.094462Z",
     "shell.execute_reply": "2024-09-20T14:53:25.093502Z"
    },
    "papermill": {
     "duration": 0.021269,
     "end_time": "2024-09-20T14:53:25.096411",
     "exception": false,
     "start_time": "2024-09-20T14:53:25.075142",
     "status": "completed"
    },
    "tags": []
   },
   "outputs": [
    {
     "data": {
      "text/plain": [
       "11"
      ]
     },
     "execution_count": 26,
     "metadata": {},
     "output_type": "execute_result"
    }
   ],
   "source": [
    "x_train.shape[1]"
   ]
  },
  {
   "cell_type": "code",
   "execution_count": 27,
   "id": "137943a1",
   "metadata": {
    "execution": {
     "iopub.execute_input": "2024-09-20T14:53:25.122668Z",
     "iopub.status.busy": "2024-09-20T14:53:25.122266Z",
     "iopub.status.idle": "2024-09-20T14:53:25.126975Z",
     "shell.execute_reply": "2024-09-20T14:53:25.125911Z"
    },
    "papermill": {
     "duration": 0.020088,
     "end_time": "2024-09-20T14:53:25.128892",
     "exception": false,
     "start_time": "2024-09-20T14:53:25.108804",
     "status": "completed"
    },
    "tags": []
   },
   "outputs": [],
   "source": [
    "# defining i/p neurons\n",
    "input_neurons = x_train.shape[1]"
   ]
  },
  {
   "cell_type": "code",
   "execution_count": 28,
   "id": "09da5a50",
   "metadata": {
    "execution": {
     "iopub.execute_input": "2024-09-20T14:53:25.155101Z",
     "iopub.status.busy": "2024-09-20T14:53:25.154705Z",
     "iopub.status.idle": "2024-09-20T14:53:25.158979Z",
     "shell.execute_reply": "2024-09-20T14:53:25.158063Z"
    },
    "papermill": {
     "duration": 0.019703,
     "end_time": "2024-09-20T14:53:25.160879",
     "exception": false,
     "start_time": "2024-09-20T14:53:25.141176",
     "status": "completed"
    },
    "tags": []
   },
   "outputs": [],
   "source": [
    "# No of O/P neurons\n",
    "# Binary classification 0 or 1\n",
    "\n",
    "output_neurons = 1"
   ]
  },
  {
   "cell_type": "code",
   "execution_count": 29,
   "id": "804ac651",
   "metadata": {
    "execution": {
     "iopub.execute_input": "2024-09-20T14:53:25.186881Z",
     "iopub.status.busy": "2024-09-20T14:53:25.186471Z",
     "iopub.status.idle": "2024-09-20T14:53:25.190816Z",
     "shell.execute_reply": "2024-09-20T14:53:25.189868Z"
    },
    "papermill": {
     "duration": 0.019602,
     "end_time": "2024-09-20T14:53:25.192803",
     "exception": false,
     "start_time": "2024-09-20T14:53:25.173201",
     "status": "completed"
    },
    "tags": []
   },
   "outputs": [],
   "source": [
    "# Setting the No of hidden layers\n",
    "number_of_hidden_layers = 2\n",
    "neuron_hidden_layer_1 = 10\n",
    "neuron_hidden_layer_2 = 5"
   ]
  },
  {
   "cell_type": "code",
   "execution_count": 30,
   "id": "8d585f09",
   "metadata": {
    "execution": {
     "iopub.execute_input": "2024-09-20T14:53:25.219109Z",
     "iopub.status.busy": "2024-09-20T14:53:25.218735Z",
     "iopub.status.idle": "2024-09-20T14:53:25.303707Z",
     "shell.execute_reply": "2024-09-20T14:53:25.302609Z"
    },
    "papermill": {
     "duration": 0.100974,
     "end_time": "2024-09-20T14:53:25.306063",
     "exception": false,
     "start_time": "2024-09-20T14:53:25.205089",
     "status": "completed"
    },
    "tags": []
   },
   "outputs": [
    {
     "name": "stderr",
     "output_type": "stream",
     "text": [
      "/opt/conda/lib/python3.10/site-packages/keras/src/layers/core/input_layer.py:25: UserWarning: Argument `input_shape` is deprecated. Use `shape` instead.\n",
      "  warnings.warn(\n"
     ]
    }
   ],
   "source": [
    "# Activation function\n",
    "model = Sequential()\n",
    "model.add(InputLayer(input_shape=(input_neurons,)))\n",
    "model.add(Dense(units = neuron_hidden_layer_1, activation='relu'))\n",
    "model.add(Dense(units = neuron_hidden_layer_2, activation='relu'))\n",
    "model.add(Dense(units = output_neurons, activation='sigmoid'))"
   ]
  },
  {
   "cell_type": "code",
   "execution_count": 31,
   "id": "1f1b3b30",
   "metadata": {
    "execution": {
     "iopub.execute_input": "2024-09-20T14:53:25.333396Z",
     "iopub.status.busy": "2024-09-20T14:53:25.332478Z",
     "iopub.status.idle": "2024-09-20T14:53:25.351180Z",
     "shell.execute_reply": "2024-09-20T14:53:25.350123Z"
    },
    "papermill": {
     "duration": 0.034714,
     "end_time": "2024-09-20T14:53:25.353341",
     "exception": false,
     "start_time": "2024-09-20T14:53:25.318627",
     "status": "completed"
    },
    "tags": []
   },
   "outputs": [
    {
     "data": {
      "text/html": [
       "<pre style=\"white-space:pre;overflow-x:auto;line-height:normal;font-family:Menlo,'DejaVu Sans Mono',consolas,'Courier New',monospace\"><span style=\"font-weight: bold\">Model: \"sequential\"</span>\n",
       "</pre>\n"
      ],
      "text/plain": [
       "\u001b[1mModel: \"sequential\"\u001b[0m\n"
      ]
     },
     "metadata": {},
     "output_type": "display_data"
    },
    {
     "data": {
      "text/html": [
       "<pre style=\"white-space:pre;overflow-x:auto;line-height:normal;font-family:Menlo,'DejaVu Sans Mono',consolas,'Courier New',monospace\">┏━━━━━━━━━━━━━━━━━━━━━━━━━━━━━━━━━┳━━━━━━━━━━━━━━━━━━━━━━━━┳━━━━━━━━━━━━━━━┓\n",
       "┃<span style=\"font-weight: bold\"> Layer (type)                    </span>┃<span style=\"font-weight: bold\"> Output Shape           </span>┃<span style=\"font-weight: bold\">       Param # </span>┃\n",
       "┡━━━━━━━━━━━━━━━━━━━━━━━━━━━━━━━━━╇━━━━━━━━━━━━━━━━━━━━━━━━╇━━━━━━━━━━━━━━━┩\n",
       "│ dense (<span style=\"color: #0087ff; text-decoration-color: #0087ff\">Dense</span>)                   │ (<span style=\"color: #00d7ff; text-decoration-color: #00d7ff\">None</span>, <span style=\"color: #00af00; text-decoration-color: #00af00\">10</span>)             │           <span style=\"color: #00af00; text-decoration-color: #00af00\">120</span> │\n",
       "├─────────────────────────────────┼────────────────────────┼───────────────┤\n",
       "│ dense_1 (<span style=\"color: #0087ff; text-decoration-color: #0087ff\">Dense</span>)                 │ (<span style=\"color: #00d7ff; text-decoration-color: #00d7ff\">None</span>, <span style=\"color: #00af00; text-decoration-color: #00af00\">5</span>)              │            <span style=\"color: #00af00; text-decoration-color: #00af00\">55</span> │\n",
       "├─────────────────────────────────┼────────────────────────┼───────────────┤\n",
       "│ dense_2 (<span style=\"color: #0087ff; text-decoration-color: #0087ff\">Dense</span>)                 │ (<span style=\"color: #00d7ff; text-decoration-color: #00d7ff\">None</span>, <span style=\"color: #00af00; text-decoration-color: #00af00\">1</span>)              │             <span style=\"color: #00af00; text-decoration-color: #00af00\">6</span> │\n",
       "└─────────────────────────────────┴────────────────────────┴───────────────┘\n",
       "</pre>\n"
      ],
      "text/plain": [
       "┏━━━━━━━━━━━━━━━━━━━━━━━━━━━━━━━━━┳━━━━━━━━━━━━━━━━━━━━━━━━┳━━━━━━━━━━━━━━━┓\n",
       "┃\u001b[1m \u001b[0m\u001b[1mLayer (type)                   \u001b[0m\u001b[1m \u001b[0m┃\u001b[1m \u001b[0m\u001b[1mOutput Shape          \u001b[0m\u001b[1m \u001b[0m┃\u001b[1m \u001b[0m\u001b[1m      Param #\u001b[0m\u001b[1m \u001b[0m┃\n",
       "┡━━━━━━━━━━━━━━━━━━━━━━━━━━━━━━━━━╇━━━━━━━━━━━━━━━━━━━━━━━━╇━━━━━━━━━━━━━━━┩\n",
       "│ dense (\u001b[38;5;33mDense\u001b[0m)                   │ (\u001b[38;5;45mNone\u001b[0m, \u001b[38;5;34m10\u001b[0m)             │           \u001b[38;5;34m120\u001b[0m │\n",
       "├─────────────────────────────────┼────────────────────────┼───────────────┤\n",
       "│ dense_1 (\u001b[38;5;33mDense\u001b[0m)                 │ (\u001b[38;5;45mNone\u001b[0m, \u001b[38;5;34m5\u001b[0m)              │            \u001b[38;5;34m55\u001b[0m │\n",
       "├─────────────────────────────────┼────────────────────────┼───────────────┤\n",
       "│ dense_2 (\u001b[38;5;33mDense\u001b[0m)                 │ (\u001b[38;5;45mNone\u001b[0m, \u001b[38;5;34m1\u001b[0m)              │             \u001b[38;5;34m6\u001b[0m │\n",
       "└─────────────────────────────────┴────────────────────────┴───────────────┘\n"
      ]
     },
     "metadata": {},
     "output_type": "display_data"
    },
    {
     "data": {
      "text/html": [
       "<pre style=\"white-space:pre;overflow-x:auto;line-height:normal;font-family:Menlo,'DejaVu Sans Mono',consolas,'Courier New',monospace\"><span style=\"font-weight: bold\"> Total params: </span><span style=\"color: #00af00; text-decoration-color: #00af00\">181</span> (724.00 B)\n",
       "</pre>\n"
      ],
      "text/plain": [
       "\u001b[1m Total params: \u001b[0m\u001b[38;5;34m181\u001b[0m (724.00 B)\n"
      ]
     },
     "metadata": {},
     "output_type": "display_data"
    },
    {
     "data": {
      "text/html": [
       "<pre style=\"white-space:pre;overflow-x:auto;line-height:normal;font-family:Menlo,'DejaVu Sans Mono',consolas,'Courier New',monospace\"><span style=\"font-weight: bold\"> Trainable params: </span><span style=\"color: #00af00; text-decoration-color: #00af00\">181</span> (724.00 B)\n",
       "</pre>\n"
      ],
      "text/plain": [
       "\u001b[1m Trainable params: \u001b[0m\u001b[38;5;34m181\u001b[0m (724.00 B)\n"
      ]
     },
     "metadata": {},
     "output_type": "display_data"
    },
    {
     "data": {
      "text/html": [
       "<pre style=\"white-space:pre;overflow-x:auto;line-height:normal;font-family:Menlo,'DejaVu Sans Mono',consolas,'Courier New',monospace\"><span style=\"font-weight: bold\"> Non-trainable params: </span><span style=\"color: #00af00; text-decoration-color: #00af00\">0</span> (0.00 B)\n",
       "</pre>\n"
      ],
      "text/plain": [
       "\u001b[1m Non-trainable params: \u001b[0m\u001b[38;5;34m0\u001b[0m (0.00 B)\n"
      ]
     },
     "metadata": {},
     "output_type": "display_data"
    }
   ],
   "source": [
    "model.summary()"
   ]
  },
  {
   "cell_type": "markdown",
   "id": "067bfd07",
   "metadata": {
    "papermill": {
     "duration": 0.013567,
     "end_time": "2024-09-20T14:53:25.381494",
     "exception": false,
     "start_time": "2024-09-20T14:53:25.367927",
     "status": "completed"
    },
    "tags": []
   },
   "source": [
    "How the value of trainable parameters came ?"
   ]
  },
  {
   "cell_type": "code",
   "execution_count": 32,
   "id": "a79ae3ff",
   "metadata": {
    "execution": {
     "iopub.execute_input": "2024-09-20T14:53:25.461531Z",
     "iopub.status.busy": "2024-09-20T14:53:25.460600Z",
     "iopub.status.idle": "2024-09-20T14:53:25.466717Z",
     "shell.execute_reply": "2024-09-20T14:53:25.465803Z"
    },
    "papermill": {
     "duration": 0.073391,
     "end_time": "2024-09-20T14:53:25.468725",
     "exception": false,
     "start_time": "2024-09-20T14:53:25.395334",
     "status": "completed"
    },
    "tags": []
   },
   "outputs": [
    {
     "data": {
      "text/plain": [
       "110"
      ]
     },
     "execution_count": 32,
     "metadata": {},
     "output_type": "execute_result"
    }
   ],
   "source": [
    "# no of params between i/p  and first hidden layer\n",
    "input_neurons*neuron_hidden_layer_1"
   ]
  },
  {
   "cell_type": "code",
   "execution_count": 33,
   "id": "d3d02a15",
   "metadata": {
    "execution": {
     "iopub.execute_input": "2024-09-20T14:53:25.497767Z",
     "iopub.status.busy": "2024-09-20T14:53:25.496935Z",
     "iopub.status.idle": "2024-09-20T14:53:25.502824Z",
     "shell.execute_reply": "2024-09-20T14:53:25.501927Z"
    },
    "papermill": {
     "duration": 0.022449,
     "end_time": "2024-09-20T14:53:25.504817",
     "exception": false,
     "start_time": "2024-09-20T14:53:25.482368",
     "status": "completed"
    },
    "tags": []
   },
   "outputs": [
    {
     "data": {
      "text/plain": [
       "120"
      ]
     },
     "execution_count": 33,
     "metadata": {},
     "output_type": "execute_result"
    }
   ],
   "source": [
    "# adding the bias for each neuron in first hidden layer(10*1)\n",
    "input_neurons*neuron_hidden_layer_1 + 10"
   ]
  },
  {
   "cell_type": "code",
   "execution_count": 34,
   "id": "d038d6f9",
   "metadata": {
    "execution": {
     "iopub.execute_input": "2024-09-20T14:53:25.534141Z",
     "iopub.status.busy": "2024-09-20T14:53:25.533756Z",
     "iopub.status.idle": "2024-09-20T14:53:25.547352Z",
     "shell.execute_reply": "2024-09-20T14:53:25.546392Z"
    },
    "papermill": {
     "duration": 0.030709,
     "end_time": "2024-09-20T14:53:25.549473",
     "exception": false,
     "start_time": "2024-09-20T14:53:25.518764",
     "status": "completed"
    },
    "tags": []
   },
   "outputs": [],
   "source": [
    "# Compiling the Model\n",
    "model.compile(loss='binary_crossentropy', optimizer = 'adam', metrics = ['accuracy'])"
   ]
  },
  {
   "cell_type": "code",
   "execution_count": 35,
   "id": "865cb3d0",
   "metadata": {
    "execution": {
     "iopub.execute_input": "2024-09-20T14:53:25.577994Z",
     "iopub.status.busy": "2024-09-20T14:53:25.577626Z",
     "iopub.status.idle": "2024-09-20T14:53:37.103433Z",
     "shell.execute_reply": "2024-09-20T14:53:37.102446Z"
    },
    "papermill": {
     "duration": 11.542357,
     "end_time": "2024-09-20T14:53:37.105605",
     "exception": false,
     "start_time": "2024-09-20T14:53:25.563248",
     "status": "completed"
    },
    "tags": []
   },
   "outputs": [
    {
     "name": "stdout",
     "output_type": "stream",
     "text": [
      "Epoch 1/50\n",
      "\u001b[1m107/107\u001b[0m \u001b[32m━━━━━━━━━━━━━━━━━━━━\u001b[0m\u001b[37m\u001b[0m \u001b[1m2s\u001b[0m 3ms/step - accuracy: 0.6306 - loss: 0.6527 - val_accuracy: 0.6522 - val_loss: 0.5743\n",
      "Epoch 2/50\n",
      "\u001b[1m107/107\u001b[0m \u001b[32m━━━━━━━━━━━━━━━━━━━━\u001b[0m\u001b[37m\u001b[0m \u001b[1m0s\u001b[0m 2ms/step - accuracy: 0.7142 - loss: 0.5435 - val_accuracy: 0.8255 - val_loss: 0.4343\n",
      "Epoch 3/50\n",
      "\u001b[1m107/107\u001b[0m \u001b[32m━━━━━━━━━━━━━━━━━━━━\u001b[0m\u001b[37m\u001b[0m \u001b[1m0s\u001b[0m 2ms/step - accuracy: 0.8300 - loss: 0.4198 - val_accuracy: 0.8735 - val_loss: 0.3367\n",
      "Epoch 4/50\n",
      "\u001b[1m107/107\u001b[0m \u001b[32m━━━━━━━━━━━━━━━━━━━━\u001b[0m\u001b[37m\u001b[0m \u001b[1m0s\u001b[0m 2ms/step - accuracy: 0.8756 - loss: 0.3345 - val_accuracy: 0.8993 - val_loss: 0.2789\n",
      "Epoch 5/50\n",
      "\u001b[1m107/107\u001b[0m \u001b[32m━━━━━━━━━━━━━━━━━━━━\u001b[0m\u001b[37m\u001b[0m \u001b[1m0s\u001b[0m 2ms/step - accuracy: 0.8948 - loss: 0.2821 - val_accuracy: 0.9122 - val_loss: 0.2476\n",
      "Epoch 6/50\n",
      "\u001b[1m107/107\u001b[0m \u001b[32m━━━━━━━━━━━━━━━━━━━━\u001b[0m\u001b[37m\u001b[0m \u001b[1m0s\u001b[0m 2ms/step - accuracy: 0.9029 - loss: 0.2591 - val_accuracy: 0.9110 - val_loss: 0.2308\n",
      "Epoch 7/50\n",
      "\u001b[1m107/107\u001b[0m \u001b[32m━━━━━━━━━━━━━━━━━━━━\u001b[0m\u001b[37m\u001b[0m \u001b[1m0s\u001b[0m 2ms/step - accuracy: 0.9075 - loss: 0.2461 - val_accuracy: 0.9098 - val_loss: 0.2242\n",
      "Epoch 8/50\n",
      "\u001b[1m107/107\u001b[0m \u001b[32m━━━━━━━━━━━━━━━━━━━━\u001b[0m\u001b[37m\u001b[0m \u001b[1m0s\u001b[0m 2ms/step - accuracy: 0.9124 - loss: 0.2384 - val_accuracy: 0.9169 - val_loss: 0.2104\n",
      "Epoch 9/50\n",
      "\u001b[1m107/107\u001b[0m \u001b[32m━━━━━━━━━━━━━━━━━━━━\u001b[0m\u001b[37m\u001b[0m \u001b[1m0s\u001b[0m 2ms/step - accuracy: 0.9145 - loss: 0.2343 - val_accuracy: 0.9169 - val_loss: 0.2047\n",
      "Epoch 10/50\n",
      "\u001b[1m107/107\u001b[0m \u001b[32m━━━━━━━━━━━━━━━━━━━━\u001b[0m\u001b[37m\u001b[0m \u001b[1m0s\u001b[0m 2ms/step - accuracy: 0.9201 - loss: 0.2209 - val_accuracy: 0.9227 - val_loss: 0.1989\n",
      "Epoch 11/50\n",
      "\u001b[1m107/107\u001b[0m \u001b[32m━━━━━━━━━━━━━━━━━━━━\u001b[0m\u001b[37m\u001b[0m \u001b[1m0s\u001b[0m 2ms/step - accuracy: 0.9094 - loss: 0.2323 - val_accuracy: 0.9239 - val_loss: 0.1945\n",
      "Epoch 12/50\n",
      "\u001b[1m107/107\u001b[0m \u001b[32m━━━━━━━━━━━━━━━━━━━━\u001b[0m\u001b[37m\u001b[0m \u001b[1m0s\u001b[0m 2ms/step - accuracy: 0.9255 - loss: 0.2146 - val_accuracy: 0.9321 - val_loss: 0.1939\n",
      "Epoch 13/50\n",
      "\u001b[1m107/107\u001b[0m \u001b[32m━━━━━━━━━━━━━━━━━━━━\u001b[0m\u001b[37m\u001b[0m \u001b[1m0s\u001b[0m 2ms/step - accuracy: 0.9232 - loss: 0.2145 - val_accuracy: 0.9333 - val_loss: 0.1928\n",
      "Epoch 14/50\n",
      "\u001b[1m107/107\u001b[0m \u001b[32m━━━━━━━━━━━━━━━━━━━━\u001b[0m\u001b[37m\u001b[0m \u001b[1m0s\u001b[0m 2ms/step - accuracy: 0.9210 - loss: 0.2186 - val_accuracy: 0.9356 - val_loss: 0.1843\n",
      "Epoch 15/50\n",
      "\u001b[1m107/107\u001b[0m \u001b[32m━━━━━━━━━━━━━━━━━━━━\u001b[0m\u001b[37m\u001b[0m \u001b[1m0s\u001b[0m 2ms/step - accuracy: 0.9256 - loss: 0.2038 - val_accuracy: 0.9297 - val_loss: 0.1814\n",
      "Epoch 16/50\n",
      "\u001b[1m107/107\u001b[0m \u001b[32m━━━━━━━━━━━━━━━━━━━━\u001b[0m\u001b[37m\u001b[0m \u001b[1m0s\u001b[0m 2ms/step - accuracy: 0.9325 - loss: 0.2003 - val_accuracy: 0.9333 - val_loss: 0.1798\n",
      "Epoch 17/50\n",
      "\u001b[1m107/107\u001b[0m \u001b[32m━━━━━━━━━━━━━━━━━━━━\u001b[0m\u001b[37m\u001b[0m \u001b[1m0s\u001b[0m 2ms/step - accuracy: 0.9310 - loss: 0.1887 - val_accuracy: 0.9415 - val_loss: 0.1770\n",
      "Epoch 18/50\n",
      "\u001b[1m107/107\u001b[0m \u001b[32m━━━━━━━━━━━━━━━━━━━━\u001b[0m\u001b[37m\u001b[0m \u001b[1m0s\u001b[0m 2ms/step - accuracy: 0.9312 - loss: 0.2003 - val_accuracy: 0.9344 - val_loss: 0.1746\n",
      "Epoch 19/50\n",
      "\u001b[1m107/107\u001b[0m \u001b[32m━━━━━━━━━━━━━━━━━━━━\u001b[0m\u001b[37m\u001b[0m \u001b[1m0s\u001b[0m 2ms/step - accuracy: 0.9382 - loss: 0.1871 - val_accuracy: 0.9415 - val_loss: 0.1728\n",
      "Epoch 20/50\n",
      "\u001b[1m107/107\u001b[0m \u001b[32m━━━━━━━━━━━━━━━━━━━━\u001b[0m\u001b[37m\u001b[0m \u001b[1m0s\u001b[0m 2ms/step - accuracy: 0.9317 - loss: 0.1895 - val_accuracy: 0.9415 - val_loss: 0.1712\n",
      "Epoch 21/50\n",
      "\u001b[1m107/107\u001b[0m \u001b[32m━━━━━━━━━━━━━━━━━━━━\u001b[0m\u001b[37m\u001b[0m \u001b[1m0s\u001b[0m 2ms/step - accuracy: 0.9309 - loss: 0.1925 - val_accuracy: 0.9415 - val_loss: 0.1718\n",
      "Epoch 22/50\n",
      "\u001b[1m107/107\u001b[0m \u001b[32m━━━━━━━━━━━━━━━━━━━━\u001b[0m\u001b[37m\u001b[0m \u001b[1m0s\u001b[0m 2ms/step - accuracy: 0.9280 - loss: 0.1974 - val_accuracy: 0.9368 - val_loss: 0.1656\n",
      "Epoch 23/50\n",
      "\u001b[1m107/107\u001b[0m \u001b[32m━━━━━━━━━━━━━━━━━━━━\u001b[0m\u001b[37m\u001b[0m \u001b[1m0s\u001b[0m 2ms/step - accuracy: 0.9293 - loss: 0.1867 - val_accuracy: 0.9379 - val_loss: 0.1652\n",
      "Epoch 24/50\n",
      "\u001b[1m107/107\u001b[0m \u001b[32m━━━━━━━━━━━━━━━━━━━━\u001b[0m\u001b[37m\u001b[0m \u001b[1m0s\u001b[0m 2ms/step - accuracy: 0.9376 - loss: 0.1761 - val_accuracy: 0.9450 - val_loss: 0.1630\n",
      "Epoch 25/50\n",
      "\u001b[1m107/107\u001b[0m \u001b[32m━━━━━━━━━━━━━━━━━━━━\u001b[0m\u001b[37m\u001b[0m \u001b[1m0s\u001b[0m 2ms/step - accuracy: 0.9406 - loss: 0.1729 - val_accuracy: 0.9438 - val_loss: 0.1605\n",
      "Epoch 26/50\n",
      "\u001b[1m107/107\u001b[0m \u001b[32m━━━━━━━━━━━━━━━━━━━━\u001b[0m\u001b[37m\u001b[0m \u001b[1m0s\u001b[0m 2ms/step - accuracy: 0.9349 - loss: 0.1852 - val_accuracy: 0.9450 - val_loss: 0.1601\n",
      "Epoch 27/50\n",
      "\u001b[1m107/107\u001b[0m \u001b[32m━━━━━━━━━━━━━━━━━━━━\u001b[0m\u001b[37m\u001b[0m \u001b[1m0s\u001b[0m 2ms/step - accuracy: 0.9436 - loss: 0.1690 - val_accuracy: 0.9473 - val_loss: 0.1523\n",
      "Epoch 28/50\n",
      "\u001b[1m107/107\u001b[0m \u001b[32m━━━━━━━━━━━━━━━━━━━━\u001b[0m\u001b[37m\u001b[0m \u001b[1m0s\u001b[0m 2ms/step - accuracy: 0.9418 - loss: 0.1579 - val_accuracy: 0.9473 - val_loss: 0.1521\n",
      "Epoch 29/50\n",
      "\u001b[1m107/107\u001b[0m \u001b[32m━━━━━━━━━━━━━━━━━━━━\u001b[0m\u001b[37m\u001b[0m \u001b[1m0s\u001b[0m 2ms/step - accuracy: 0.9397 - loss: 0.1691 - val_accuracy: 0.9450 - val_loss: 0.1482\n",
      "Epoch 30/50\n",
      "\u001b[1m107/107\u001b[0m \u001b[32m━━━━━━━━━━━━━━━━━━━━\u001b[0m\u001b[37m\u001b[0m \u001b[1m0s\u001b[0m 2ms/step - accuracy: 0.9427 - loss: 0.1564 - val_accuracy: 0.9485 - val_loss: 0.1468\n",
      "Epoch 31/50\n",
      "\u001b[1m107/107\u001b[0m \u001b[32m━━━━━━━━━━━━━━━━━━━━\u001b[0m\u001b[37m\u001b[0m \u001b[1m0s\u001b[0m 2ms/step - accuracy: 0.9442 - loss: 0.1754 - val_accuracy: 0.9485 - val_loss: 0.1445\n",
      "Epoch 32/50\n",
      "\u001b[1m107/107\u001b[0m \u001b[32m━━━━━━━━━━━━━━━━━━━━\u001b[0m\u001b[37m\u001b[0m \u001b[1m0s\u001b[0m 2ms/step - accuracy: 0.9392 - loss: 0.1696 - val_accuracy: 0.9473 - val_loss: 0.1432\n",
      "Epoch 33/50\n",
      "\u001b[1m107/107\u001b[0m \u001b[32m━━━━━━━━━━━━━━━━━━━━\u001b[0m\u001b[37m\u001b[0m \u001b[1m0s\u001b[0m 2ms/step - accuracy: 0.9431 - loss: 0.1515 - val_accuracy: 0.9496 - val_loss: 0.1412\n",
      "Epoch 34/50\n",
      "\u001b[1m107/107\u001b[0m \u001b[32m━━━━━━━━━━━━━━━━━━━━\u001b[0m\u001b[37m\u001b[0m \u001b[1m0s\u001b[0m 2ms/step - accuracy: 0.9463 - loss: 0.1444 - val_accuracy: 0.9496 - val_loss: 0.1417\n",
      "Epoch 35/50\n",
      "\u001b[1m107/107\u001b[0m \u001b[32m━━━━━━━━━━━━━━━━━━━━\u001b[0m\u001b[37m\u001b[0m \u001b[1m0s\u001b[0m 2ms/step - accuracy: 0.9368 - loss: 0.1609 - val_accuracy: 0.9532 - val_loss: 0.1367\n",
      "Epoch 36/50\n",
      "\u001b[1m107/107\u001b[0m \u001b[32m━━━━━━━━━━━━━━━━━━━━\u001b[0m\u001b[37m\u001b[0m \u001b[1m0s\u001b[0m 2ms/step - accuracy: 0.9454 - loss: 0.1527 - val_accuracy: 0.9508 - val_loss: 0.1380\n",
      "Epoch 37/50\n",
      "\u001b[1m107/107\u001b[0m \u001b[32m━━━━━━━━━━━━━━━━━━━━\u001b[0m\u001b[37m\u001b[0m \u001b[1m0s\u001b[0m 2ms/step - accuracy: 0.9454 - loss: 0.1508 - val_accuracy: 0.9532 - val_loss: 0.1330\n",
      "Epoch 38/50\n",
      "\u001b[1m107/107\u001b[0m \u001b[32m━━━━━━━━━━━━━━━━━━━━\u001b[0m\u001b[37m\u001b[0m \u001b[1m0s\u001b[0m 2ms/step - accuracy: 0.9386 - loss: 0.1570 - val_accuracy: 0.9532 - val_loss: 0.1301\n",
      "Epoch 39/50\n",
      "\u001b[1m107/107\u001b[0m \u001b[32m━━━━━━━━━━━━━━━━━━━━\u001b[0m\u001b[37m\u001b[0m \u001b[1m0s\u001b[0m 2ms/step - accuracy: 0.9503 - loss: 0.1375 - val_accuracy: 0.9555 - val_loss: 0.1293\n",
      "Epoch 40/50\n",
      "\u001b[1m107/107\u001b[0m \u001b[32m━━━━━━━━━━━━━━━━━━━━\u001b[0m\u001b[37m\u001b[0m \u001b[1m0s\u001b[0m 2ms/step - accuracy: 0.9496 - loss: 0.1371 - val_accuracy: 0.9555 - val_loss: 0.1285\n",
      "Epoch 41/50\n",
      "\u001b[1m107/107\u001b[0m \u001b[32m━━━━━━━━━━━━━━━━━━━━\u001b[0m\u001b[37m\u001b[0m \u001b[1m0s\u001b[0m 2ms/step - accuracy: 0.9412 - loss: 0.1549 - val_accuracy: 0.9520 - val_loss: 0.1284\n",
      "Epoch 42/50\n",
      "\u001b[1m107/107\u001b[0m \u001b[32m━━━━━━━━━━━━━━━━━━━━\u001b[0m\u001b[37m\u001b[0m \u001b[1m0s\u001b[0m 2ms/step - accuracy: 0.9487 - loss: 0.1460 - val_accuracy: 0.9543 - val_loss: 0.1253\n",
      "Epoch 43/50\n",
      "\u001b[1m107/107\u001b[0m \u001b[32m━━━━━━━━━━━━━━━━━━━━\u001b[0m\u001b[37m\u001b[0m \u001b[1m0s\u001b[0m 2ms/step - accuracy: 0.9429 - loss: 0.1522 - val_accuracy: 0.9555 - val_loss: 0.1241\n",
      "Epoch 44/50\n",
      "\u001b[1m107/107\u001b[0m \u001b[32m━━━━━━━━━━━━━━━━━━━━\u001b[0m\u001b[37m\u001b[0m \u001b[1m0s\u001b[0m 2ms/step - accuracy: 0.9511 - loss: 0.1353 - val_accuracy: 0.9532 - val_loss: 0.1239\n",
      "Epoch 45/50\n",
      "\u001b[1m107/107\u001b[0m \u001b[32m━━━━━━━━━━━━━━━━━━━━\u001b[0m\u001b[37m\u001b[0m \u001b[1m0s\u001b[0m 2ms/step - accuracy: 0.9494 - loss: 0.1324 - val_accuracy: 0.9508 - val_loss: 0.1232\n",
      "Epoch 46/50\n",
      "\u001b[1m107/107\u001b[0m \u001b[32m━━━━━━━━━━━━━━━━━━━━\u001b[0m\u001b[37m\u001b[0m \u001b[1m0s\u001b[0m 2ms/step - accuracy: 0.9498 - loss: 0.1320 - val_accuracy: 0.9567 - val_loss: 0.1202\n",
      "Epoch 47/50\n",
      "\u001b[1m107/107\u001b[0m \u001b[32m━━━━━━━━━━━━━━━━━━━━\u001b[0m\u001b[37m\u001b[0m \u001b[1m0s\u001b[0m 2ms/step - accuracy: 0.9538 - loss: 0.1361 - val_accuracy: 0.9555 - val_loss: 0.1181\n",
      "Epoch 48/50\n",
      "\u001b[1m107/107\u001b[0m \u001b[32m━━━━━━━━━━━━━━━━━━━━\u001b[0m\u001b[37m\u001b[0m \u001b[1m0s\u001b[0m 2ms/step - accuracy: 0.9465 - loss: 0.1443 - val_accuracy: 0.9520 - val_loss: 0.1171\n",
      "Epoch 49/50\n",
      "\u001b[1m107/107\u001b[0m \u001b[32m━━━━━━━━━━━━━━━━━━━━\u001b[0m\u001b[37m\u001b[0m \u001b[1m0s\u001b[0m 2ms/step - accuracy: 0.9434 - loss: 0.1535 - val_accuracy: 0.9590 - val_loss: 0.1161\n",
      "Epoch 50/50\n",
      "\u001b[1m107/107\u001b[0m \u001b[32m━━━━━━━━━━━━━━━━━━━━\u001b[0m\u001b[37m\u001b[0m \u001b[1m0s\u001b[0m 2ms/step - accuracy: 0.9458 - loss: 0.1351 - val_accuracy: 0.9578 - val_loss: 0.1138\n"
     ]
    }
   ],
   "source": [
    "#Training the model\n",
    "model_history = model.fit(x_train,y_train,validation_data=(x_test,y_test), epochs = 50)"
   ]
  },
  {
   "cell_type": "markdown",
   "id": "e5ff5df0",
   "metadata": {
    "papermill": {
     "duration": 0.028869,
     "end_time": "2024-09-20T14:53:37.164291",
     "exception": false,
     "start_time": "2024-09-20T14:53:37.135422",
     "status": "completed"
    },
    "tags": []
   },
   "source": [
    "# Visualize Model Performance"
   ]
  },
  {
   "cell_type": "code",
   "execution_count": 36,
   "id": "bf1cd846",
   "metadata": {
    "execution": {
     "iopub.execute_input": "2024-09-20T14:53:37.223774Z",
     "iopub.status.busy": "2024-09-20T14:53:37.223364Z",
     "iopub.status.idle": "2024-09-20T14:53:37.508517Z",
     "shell.execute_reply": "2024-09-20T14:53:37.505491Z"
    },
    "papermill": {
     "duration": 0.318544,
     "end_time": "2024-09-20T14:53:37.511608",
     "exception": false,
     "start_time": "2024-09-20T14:53:37.193064",
     "status": "completed"
    },
    "tags": []
   },
   "outputs": [
    {
     "data": {
      "image/png": "[encoded data removed]",
      "text/plain": [
       "<Figure size 640x480 with 1 Axes>"
      ]
     },
     "metadata": {},
     "output_type": "display_data"
    }
   ],
   "source": [
    "plt.plot(model_history.history['loss'])\n",
    "plt.plot(model_history.history['val_loss'])\n",
    "plt.title('model loss')\n",
    "plt.ylabel('loss')\n",
    "plt.xlabel('epoch')\n",
    "plt.legend(['train','validation'],loc = 'upper left')\n",
    "plt.show()"
   ]
  },
  {
   "cell_type": "code",
   "execution_count": 37,
   "id": "46d28521",
   "metadata": {
    "execution": {
     "iopub.execute_input": "2024-09-20T14:53:37.581845Z",
     "iopub.status.busy": "2024-09-20T14:53:37.581440Z",
     "iopub.status.idle": "2024-09-20T14:53:37.839404Z",
     "shell.execute_reply": "2024-09-20T14:53:37.838314Z"
    },
    "papermill": {
     "duration": 0.290977,
     "end_time": "2024-09-20T14:53:37.841736",
     "exception": false,
     "start_time": "2024-09-20T14:53:37.550759",
     "status": "completed"
    },
    "tags": []
   },
   "outputs": [
    {
     "data": {
      "image/png": "[encoded data removed]",
      "text/plain": [
       "<Figure size 640x480 with 1 Axes>"
      ]
     },
     "metadata": {},
     "output_type": "display_data"
    }
   ],
   "source": [
    "plt.plot(model_history.history['accuracy'])\n",
    "plt.plot(model_history.history['val_accuracy'])\n",
    "plt.title('model accuracy')\n",
    "plt.ylabel('accuracy')\n",
    "plt.xlabel('epoch')\n",
    "plt.legend(['train','validation'],loc = 'upper left')\n",
    "plt.show()"
   ]
  },
  {
   "cell_type": "code",
   "execution_count": null,
   "id": "81b2df44",
   "metadata": {
    "papermill": {
     "duration": 0.02977,
     "end_time": "2024-09-20T14:53:37.901709",
     "exception": false,
     "start_time": "2024-09-20T14:53:37.871939",
     "status": "completed"
    },
    "tags": []
   },
   "outputs": [],
   "source": []
  }
 ],
 "metadata": {
  "kaggle": {
   "accelerator": "none",
   "dataSources": [
    {
     "datasetId": 3523739,
     "sourceId": 6144787,
     "sourceType": "datasetVersion"
    }
   ],
   "dockerImageVersionId": 30761,
   "isGpuEnabled": false,
   "isInternetEnabled": true,
   "language": "python",
   "sourceType": "notebook"
  },
  "kernelspec": {
   "display_name": "Python 3",
   "language": "python",
   "name": "python3"
  },
  "language_info": {
   "codemirror_mode": {
    "name": "ipython",
    "version": 3
   },
   "file_extension": ".py",
   "mimetype": "text/x-python",
   "name": "python",
   "nbconvert_exporter": "python",
   "pygments_lexer": "ipython3",
   "version": "3.10.14"
  },
  "papermill": {
   "default_parameters": {},
   "duration": 32.17679,
   "end_time": "2024-09-20T14:53:39.455689",
   "environment_variables": {},
   "exception": null,
   "input_path": "__notebook__.ipynb",
   "output_path": "__notebook__.ipynb",
   "parameters": {},
   "start_time": "2024-09-20T14:53:07.278899",
   "version": "2.6.0"
  }
 },
 "nbformat": 4,
 "nbformat_minor": 5
}

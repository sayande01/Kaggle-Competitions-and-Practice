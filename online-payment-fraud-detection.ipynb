{
 "cells": [
  {
   "cell_type": "code",
   "execution_count": 1,
   "id": "048553fd",
   "metadata": {
    "_cell_guid": "b1076dfc-b9ad-4769-8c92-a6c4dae69d19",
    "_uuid": "8f2839f25d086af736a60e9eeb907d3b93b6e0e5",
    "execution": {
     "iopub.execute_input": "2024-09-05T13:32:28.951366Z",
     "iopub.status.busy": "2024-09-05T13:32:28.950959Z",
     "iopub.status.idle": "2024-09-05T13:32:31.046952Z",
     "shell.execute_reply": "2024-09-05T13:32:31.045262Z"
    },
    "papermill": {
     "duration": 2.115087,
     "end_time": "2024-09-05T13:32:31.050182",
     "exception": false,
     "start_time": "2024-09-05T13:32:28.935095",
     "status": "completed"
    },
    "tags": []
   },
   "outputs": [
    {
     "name": "stdout",
     "output_type": "stream",
     "text": [
      "/kaggle/input/online-payment-fraud-detection/onlinefraud.csv\n"
     ]
    }
   ],
   "source": [
    "# This Python 3 environment comes with many helpful analytics libraries installed\n",
    "# It is defined by the kaggle/python Docker image: https://github.com/kaggle/docker-python\n",
    "# For example, here's several helpful packages to load\n",
    "\n",
    "import numpy as np # linear algebra\n",
    "import pandas as pd # data processing, CSV file I/O (e.g. pd.read_csv)\n",
    "import matplotlib.pyplot as plt\n",
    "import seaborn as sns\n",
    "import warnings\n",
    "warnings.filterwarnings('ignore')\n",
    "\n",
    "# Input data files are available in the read-only \"../input/\" directory\n",
    "# For example, running this (by clicking run or pressing Shift+Enter) will list all files under the input directory\n",
    "\n",
    "import os\n",
    "for dirname, _, filenames in os.walk('/kaggle/input'):\n",
    "    for filename in filenames:\n",
    "        print(os.path.join(dirname, filename))\n",
    "\n",
    "# You can write up to 20GB to the current directory (/kaggle/working/) that gets preserved as output when you create a version using \"Save & Run All\" \n",
    "# You can also write temporary files to /kaggle/temp/, but they won't be saved outside of the current session"
   ]
  },
  {
   "cell_type": "code",
   "execution_count": 2,
   "id": "f9289cfe",
   "metadata": {
    "execution": {
     "iopub.execute_input": "2024-09-05T13:32:31.079905Z",
     "iopub.status.busy": "2024-09-05T13:32:31.079357Z",
     "iopub.status.idle": "2024-09-05T13:32:50.532394Z",
     "shell.execute_reply": "2024-09-05T13:32:50.531254Z"
    },
    "papermill": {
     "duration": 19.470422,
     "end_time": "2024-09-05T13:32:50.534861",
     "exception": false,
     "start_time": "2024-09-05T13:32:31.064439",
     "status": "completed"
    },
    "tags": []
   },
   "outputs": [],
   "source": [
    "df = pd.read_csv('/kaggle/input/online-payment-fraud-detection/onlinefraud.csv')"
   ]
  },
  {
   "cell_type": "markdown",
   "id": "76a6e80b",
   "metadata": {
    "papermill": {
     "duration": 0.012857,
     "end_time": "2024-09-05T13:32:50.561322",
     "exception": false,
     "start_time": "2024-09-05T13:32:50.548465",
     "status": "completed"
    },
    "tags": []
   },
   "source": [
    "# Data Overview"
   ]
  },
  {
   "cell_type": "code",
   "execution_count": 3,
   "id": "b84b54eb",
   "metadata": {
    "execution": {
     "iopub.execute_input": "2024-09-05T13:32:50.589242Z",
     "iopub.status.busy": "2024-09-05T13:32:50.588800Z",
     "iopub.status.idle": "2024-09-05T13:32:50.616320Z",
     "shell.execute_reply": "2024-09-05T13:32:50.615214Z"
    },
    "papermill": {
     "duration": 0.044276,
     "end_time": "2024-09-05T13:32:50.618666",
     "exception": false,
     "start_time": "2024-09-05T13:32:50.574390",
     "status": "completed"
    },
    "tags": []
   },
   "outputs": [
    {
     "data": {
      "text/html": [
       "<div>\n",
       "<style scoped>\n",
       "    .dataframe tbody tr th:only-of-type {\n",
       "        vertical-align: middle;\n",
       "    }\n",
       "\n",
       "    .dataframe tbody tr th {\n",
       "        vertical-align: top;\n",
       "    }\n",
       "\n",
       "    .dataframe thead th {\n",
       "        text-align: right;\n",
       "    }\n",
       "</style>\n",
       "<table border=\"1\" class=\"dataframe\">\n",
       "  <thead>\n",
       "    <tr style=\"text-align: right;\">\n",
       "      <th></th>\n",
       "      <th>step</th>\n",
       "      <th>type</th>\n",
       "      <th>amount</th>\n",
       "      <th>nameOrig</th>\n",
       "      <th>oldbalanceOrg</th>\n",
       "      <th>newbalanceOrig</th>\n",
       "      <th>nameDest</th>\n",
       "      <th>oldbalanceDest</th>\n",
       "      <th>newbalanceDest</th>\n",
       "      <th>isFraud</th>\n",
       "      <th>isFlaggedFraud</th>\n",
       "    </tr>\n",
       "  </thead>\n",
       "  <tbody>\n",
       "    <tr>\n",
       "      <th>0</th>\n",
       "      <td>1</td>\n",
       "      <td>PAYMENT</td>\n",
       "      <td>9839.64</td>\n",
       "      <td>C1231006815</td>\n",
       "      <td>170136.0</td>\n",
       "      <td>160296.36</td>\n",
       "      <td>M1979787155</td>\n",
       "      <td>0.0</td>\n",
       "      <td>0.0</td>\n",
       "      <td>0</td>\n",
       "      <td>0</td>\n",
       "    </tr>\n",
       "    <tr>\n",
       "      <th>1</th>\n",
       "      <td>1</td>\n",
       "      <td>PAYMENT</td>\n",
       "      <td>1864.28</td>\n",
       "      <td>C1666544295</td>\n",
       "      <td>21249.0</td>\n",
       "      <td>19384.72</td>\n",
       "      <td>M2044282225</td>\n",
       "      <td>0.0</td>\n",
       "      <td>0.0</td>\n",
       "      <td>0</td>\n",
       "      <td>0</td>\n",
       "    </tr>\n",
       "    <tr>\n",
       "      <th>2</th>\n",
       "      <td>1</td>\n",
       "      <td>TRANSFER</td>\n",
       "      <td>181.00</td>\n",
       "      <td>C1305486145</td>\n",
       "      <td>181.0</td>\n",
       "      <td>0.00</td>\n",
       "      <td>C553264065</td>\n",
       "      <td>0.0</td>\n",
       "      <td>0.0</td>\n",
       "      <td>1</td>\n",
       "      <td>0</td>\n",
       "    </tr>\n",
       "    <tr>\n",
       "      <th>3</th>\n",
       "      <td>1</td>\n",
       "      <td>CASH_OUT</td>\n",
       "      <td>181.00</td>\n",
       "      <td>C840083671</td>\n",
       "      <td>181.0</td>\n",
       "      <td>0.00</td>\n",
       "      <td>C38997010</td>\n",
       "      <td>21182.0</td>\n",
       "      <td>0.0</td>\n",
       "      <td>1</td>\n",
       "      <td>0</td>\n",
       "    </tr>\n",
       "    <tr>\n",
       "      <th>4</th>\n",
       "      <td>1</td>\n",
       "      <td>PAYMENT</td>\n",
       "      <td>11668.14</td>\n",
       "      <td>C2048537720</td>\n",
       "      <td>41554.0</td>\n",
       "      <td>29885.86</td>\n",
       "      <td>M1230701703</td>\n",
       "      <td>0.0</td>\n",
       "      <td>0.0</td>\n",
       "      <td>0</td>\n",
       "      <td>0</td>\n",
       "    </tr>\n",
       "  </tbody>\n",
       "</table>\n",
       "</div>"
      ],
      "text/plain": [
       "   step      type    amount     nameOrig  oldbalanceOrg  newbalanceOrig  \\\n",
       "0     1   PAYMENT   9839.64  C1231006815       170136.0       160296.36   \n",
       "1     1   PAYMENT   1864.28  C1666544295        21249.0        19384.72   \n",
       "2     1  TRANSFER    181.00  C1305486145          181.0            0.00   \n",
       "3     1  CASH_OUT    181.00   C840083671          181.0            0.00   \n",
       "4     1   PAYMENT  11668.14  C2048537720        41554.0        29885.86   \n",
       "\n",
       "      nameDest  oldbalanceDest  newbalanceDest  isFraud  isFlaggedFraud  \n",
       "0  M1979787155             0.0             0.0        0               0  \n",
       "1  M2044282225             0.0             0.0        0               0  \n",
       "2   C553264065             0.0             0.0        1               0  \n",
       "3    C38997010         21182.0             0.0        1               0  \n",
       "4  M1230701703             0.0             0.0        0               0  "
      ]
     },
     "execution_count": 3,
     "metadata": {},
     "output_type": "execute_result"
    }
   ],
   "source": [
    "df.head()"
   ]
  },
  {
   "cell_type": "code",
   "execution_count": 4,
   "id": "3f2311ee",
   "metadata": {
    "execution": {
     "iopub.execute_input": "2024-09-05T13:32:50.647744Z",
     "iopub.status.busy": "2024-09-05T13:32:50.647363Z",
     "iopub.status.idle": "2024-09-05T13:32:50.654126Z",
     "shell.execute_reply": "2024-09-05T13:32:50.653030Z"
    },
    "papermill": {
     "duration": 0.023678,
     "end_time": "2024-09-05T13:32:50.656293",
     "exception": false,
     "start_time": "2024-09-05T13:32:50.632615",
     "status": "completed"
    },
    "tags": []
   },
   "outputs": [
    {
     "data": {
      "text/plain": [
       "(6362620, 11)"
      ]
     },
     "execution_count": 4,
     "metadata": {},
     "output_type": "execute_result"
    }
   ],
   "source": [
    "df.shape"
   ]
  },
  {
   "cell_type": "code",
   "execution_count": 5,
   "id": "c374c9c4",
   "metadata": {
    "execution": {
     "iopub.execute_input": "2024-09-05T13:32:50.685936Z",
     "iopub.status.busy": "2024-09-05T13:32:50.685520Z",
     "iopub.status.idle": "2024-09-05T13:32:50.708899Z",
     "shell.execute_reply": "2024-09-05T13:32:50.707705Z"
    },
    "papermill": {
     "duration": 0.04121,
     "end_time": "2024-09-05T13:32:50.711322",
     "exception": false,
     "start_time": "2024-09-05T13:32:50.670112",
     "status": "completed"
    },
    "tags": []
   },
   "outputs": [
    {
     "name": "stdout",
     "output_type": "stream",
     "text": [
      "<class 'pandas.core.frame.DataFrame'>\n",
      "RangeIndex: 6362620 entries, 0 to 6362619\n",
      "Data columns (total 11 columns):\n",
      " #   Column          Dtype  \n",
      "---  ------          -----  \n",
      " 0   step            int64  \n",
      " 1   type            object \n",
      " 2   amount          float64\n",
      " 3   nameOrig        object \n",
      " 4   oldbalanceOrg   float64\n",
      " 5   newbalanceOrig  float64\n",
      " 6   nameDest        object \n",
      " 7   oldbalanceDest  float64\n",
      " 8   newbalanceDest  float64\n",
      " 9   isFraud         int64  \n",
      " 10  isFlaggedFraud  int64  \n",
      "dtypes: float64(5), int64(3), object(3)\n",
      "memory usage: 534.0+ MB\n"
     ]
    }
   ],
   "source": [
    "df.info()"
   ]
  },
  {
   "cell_type": "markdown",
   "id": "11af7da6",
   "metadata": {
    "papermill": {
     "duration": 0.013543,
     "end_time": "2024-09-05T13:32:50.738717",
     "exception": false,
     "start_time": "2024-09-05T13:32:50.725174",
     "status": "completed"
    },
    "tags": []
   },
   "source": [
    "# Column details\n",
    "To identify online payment fraud with machine learning, we need to train a machine learning model for classifying fraudulent and non-fraudulent payments. For this, we need a dataset containing information about online payment fraud, so that we can understand what type of transactions lead to fraud.\n",
    "\n",
    "Below are all the columns from the dataset we are using here:\n",
    "\n",
    "step: represents a unit of time where 1 step equals 1 hour\n",
    "\n",
    "type: type of online transaction\n",
    "\n",
    "amount: the amount of the transaction\n",
    "\n",
    "nameOrig: customer starting the transaction\n",
    "\n",
    "oldbalanceOrg: balance before the transaction\n",
    "\n",
    "newbalanceOrig: balance after the transaction\n",
    "\n",
    "nameDest: recipient of the transaction\n",
    "\n",
    "oldbalanceDest: initial balance of recipient before the transaction\n",
    "\n",
    "newbalanceDest: the new balance of recipient after the transaction\n",
    "\n",
    "isFraud: fraud transaction"
   ]
  },
  {
   "cell_type": "code",
   "execution_count": 6,
   "id": "6cbd7878",
   "metadata": {
    "execution": {
     "iopub.execute_input": "2024-09-05T13:32:50.768229Z",
     "iopub.status.busy": "2024-09-05T13:32:50.767810Z",
     "iopub.status.idle": "2024-09-05T13:32:50.778690Z",
     "shell.execute_reply": "2024-09-05T13:32:50.777182Z"
    },
    "papermill": {
     "duration": 0.02812,
     "end_time": "2024-09-05T13:32:50.780985",
     "exception": false,
     "start_time": "2024-09-05T13:32:50.752865",
     "status": "completed"
    },
    "tags": []
   },
   "outputs": [
    {
     "name": "stdout",
     "output_type": "stream",
     "text": [
      "<class 'pandas.core.frame.DataFrame'>\n",
      "RangeIndex: 6362620 entries, 0 to 6362619\n",
      "Data columns (total 11 columns):\n",
      " #   Column          Dtype  \n",
      "---  ------          -----  \n",
      " 0   step            int64  \n",
      " 1   type            object \n",
      " 2   amount          float64\n",
      " 3   nameOrig        object \n",
      " 4   oldbalanceOrg   float64\n",
      " 5   newbalanceOrig  float64\n",
      " 6   nameDest        object \n",
      " 7   oldbalanceDest  float64\n",
      " 8   newbalanceDest  float64\n",
      " 9   isFraud         int64  \n",
      " 10  isFlaggedFraud  int64  \n",
      "dtypes: float64(5), int64(3), object(3)\n",
      "memory usage: 534.0+ MB\n"
     ]
    }
   ],
   "source": [
    "df.info()"
   ]
  },
  {
   "cell_type": "code",
   "execution_count": 7,
   "id": "1bf95637",
   "metadata": {
    "execution": {
     "iopub.execute_input": "2024-09-05T13:32:50.810593Z",
     "iopub.status.busy": "2024-09-05T13:32:50.810192Z",
     "iopub.status.idle": "2024-09-05T13:32:51.770956Z",
     "shell.execute_reply": "2024-09-05T13:32:51.769880Z"
    },
    "papermill": {
     "duration": 0.97823,
     "end_time": "2024-09-05T13:32:51.773256",
     "exception": false,
     "start_time": "2024-09-05T13:32:50.795026",
     "status": "completed"
    },
    "tags": []
   },
   "outputs": [
    {
     "data": {
      "text/plain": [
       "step              0\n",
       "type              0\n",
       "amount            0\n",
       "nameOrig          0\n",
       "oldbalanceOrg     0\n",
       "newbalanceOrig    0\n",
       "nameDest          0\n",
       "oldbalanceDest    0\n",
       "newbalanceDest    0\n",
       "isFraud           0\n",
       "isFlaggedFraud    0\n",
       "dtype: int64"
      ]
     },
     "execution_count": 7,
     "metadata": {},
     "output_type": "execute_result"
    }
   ],
   "source": [
    "df.isnull().sum()"
   ]
  },
  {
   "cell_type": "code",
   "execution_count": 8,
   "id": "5104c514",
   "metadata": {
    "execution": {
     "iopub.execute_input": "2024-09-05T13:32:51.803357Z",
     "iopub.status.busy": "2024-09-05T13:32:51.802241Z",
     "iopub.status.idle": "2024-09-05T13:33:05.755462Z",
     "shell.execute_reply": "2024-09-05T13:33:05.754223Z"
    },
    "papermill": {
     "duration": 13.970716,
     "end_time": "2024-09-05T13:33:05.757949",
     "exception": false,
     "start_time": "2024-09-05T13:32:51.787233",
     "status": "completed"
    },
    "tags": []
   },
   "outputs": [
    {
     "data": {
      "text/html": [
       "<div>\n",
       "<style scoped>\n",
       "    .dataframe tbody tr th:only-of-type {\n",
       "        vertical-align: middle;\n",
       "    }\n",
       "\n",
       "    .dataframe tbody tr th {\n",
       "        vertical-align: top;\n",
       "    }\n",
       "\n",
       "    .dataframe thead th {\n",
       "        text-align: right;\n",
       "    }\n",
       "</style>\n",
       "<table border=\"1\" class=\"dataframe\">\n",
       "  <thead>\n",
       "    <tr style=\"text-align: right;\">\n",
       "      <th></th>\n",
       "      <th>step</th>\n",
       "      <th>type</th>\n",
       "      <th>amount</th>\n",
       "      <th>nameOrig</th>\n",
       "      <th>oldbalanceOrg</th>\n",
       "      <th>newbalanceOrig</th>\n",
       "      <th>nameDest</th>\n",
       "      <th>oldbalanceDest</th>\n",
       "      <th>newbalanceDest</th>\n",
       "      <th>isFraud</th>\n",
       "      <th>isFlaggedFraud</th>\n",
       "    </tr>\n",
       "  </thead>\n",
       "  <tbody>\n",
       "  </tbody>\n",
       "</table>\n",
       "</div>"
      ],
      "text/plain": [
       "Empty DataFrame\n",
       "Columns: [step, type, amount, nameOrig, oldbalanceOrg, newbalanceOrig, nameDest, oldbalanceDest, newbalanceDest, isFraud, isFlaggedFraud]\n",
       "Index: []"
      ]
     },
     "execution_count": 8,
     "metadata": {},
     "output_type": "execute_result"
    }
   ],
   "source": [
    "df[df.duplicated()]"
   ]
  },
  {
   "cell_type": "code",
   "execution_count": 9,
   "id": "6c497670",
   "metadata": {
    "execution": {
     "iopub.execute_input": "2024-09-05T13:33:05.787976Z",
     "iopub.status.busy": "2024-09-05T13:33:05.787560Z",
     "iopub.status.idle": "2024-09-05T13:33:06.156609Z",
     "shell.execute_reply": "2024-09-05T13:33:06.155476Z"
    },
    "papermill": {
     "duration": 0.386834,
     "end_time": "2024-09-05T13:33:06.159285",
     "exception": false,
     "start_time": "2024-09-05T13:33:05.772451",
     "status": "completed"
    },
    "tags": []
   },
   "outputs": [],
   "source": [
    "# dropping columns for simplicity\n",
    "df.drop(columns=['step','isFlaggedFraud'], axis = 1,inplace = True)"
   ]
  },
  {
   "cell_type": "markdown",
   "id": "74d24e7d",
   "metadata": {
    "papermill": {
     "duration": 0.014032,
     "end_time": "2024-09-05T13:33:06.188385",
     "exception": false,
     "start_time": "2024-09-05T13:33:06.174353",
     "status": "completed"
    },
    "tags": []
   },
   "source": [
    "# Descriptive Statistics"
   ]
  },
  {
   "cell_type": "code",
   "execution_count": 10,
   "id": "c4481253",
   "metadata": {
    "execution": {
     "iopub.execute_input": "2024-09-05T13:33:06.218545Z",
     "iopub.status.busy": "2024-09-05T13:33:06.218152Z",
     "iopub.status.idle": "2024-09-05T13:33:07.859773Z",
     "shell.execute_reply": "2024-09-05T13:33:07.858602Z"
    },
    "papermill": {
     "duration": 1.659759,
     "end_time": "2024-09-05T13:33:07.862112",
     "exception": false,
     "start_time": "2024-09-05T13:33:06.202353",
     "status": "completed"
    },
    "tags": []
   },
   "outputs": [
    {
     "data": {
      "text/html": [
       "<div>\n",
       "<style scoped>\n",
       "    .dataframe tbody tr th:only-of-type {\n",
       "        vertical-align: middle;\n",
       "    }\n",
       "\n",
       "    .dataframe tbody tr th {\n",
       "        vertical-align: top;\n",
       "    }\n",
       "\n",
       "    .dataframe thead th {\n",
       "        text-align: right;\n",
       "    }\n",
       "</style>\n",
       "<table border=\"1\" class=\"dataframe\">\n",
       "  <thead>\n",
       "    <tr style=\"text-align: right;\">\n",
       "      <th></th>\n",
       "      <th>amount</th>\n",
       "      <th>oldbalanceOrg</th>\n",
       "      <th>newbalanceOrig</th>\n",
       "      <th>oldbalanceDest</th>\n",
       "      <th>newbalanceDest</th>\n",
       "      <th>isFraud</th>\n",
       "    </tr>\n",
       "  </thead>\n",
       "  <tbody>\n",
       "    <tr>\n",
       "      <th>count</th>\n",
       "      <td>6.362620e+06</td>\n",
       "      <td>6.362620e+06</td>\n",
       "      <td>6.362620e+06</td>\n",
       "      <td>6.362620e+06</td>\n",
       "      <td>6.362620e+06</td>\n",
       "      <td>6.362620e+06</td>\n",
       "    </tr>\n",
       "    <tr>\n",
       "      <th>mean</th>\n",
       "      <td>1.798619e+05</td>\n",
       "      <td>8.338831e+05</td>\n",
       "      <td>8.551137e+05</td>\n",
       "      <td>1.100702e+06</td>\n",
       "      <td>1.224996e+06</td>\n",
       "      <td>1.290820e-03</td>\n",
       "    </tr>\n",
       "    <tr>\n",
       "      <th>std</th>\n",
       "      <td>6.038582e+05</td>\n",
       "      <td>2.888243e+06</td>\n",
       "      <td>2.924049e+06</td>\n",
       "      <td>3.399180e+06</td>\n",
       "      <td>3.674129e+06</td>\n",
       "      <td>3.590480e-02</td>\n",
       "    </tr>\n",
       "    <tr>\n",
       "      <th>min</th>\n",
       "      <td>0.000000e+00</td>\n",
       "      <td>0.000000e+00</td>\n",
       "      <td>0.000000e+00</td>\n",
       "      <td>0.000000e+00</td>\n",
       "      <td>0.000000e+00</td>\n",
       "      <td>0.000000e+00</td>\n",
       "    </tr>\n",
       "    <tr>\n",
       "      <th>25%</th>\n",
       "      <td>1.338957e+04</td>\n",
       "      <td>0.000000e+00</td>\n",
       "      <td>0.000000e+00</td>\n",
       "      <td>0.000000e+00</td>\n",
       "      <td>0.000000e+00</td>\n",
       "      <td>0.000000e+00</td>\n",
       "    </tr>\n",
       "    <tr>\n",
       "      <th>50%</th>\n",
       "      <td>7.487194e+04</td>\n",
       "      <td>1.420800e+04</td>\n",
       "      <td>0.000000e+00</td>\n",
       "      <td>1.327057e+05</td>\n",
       "      <td>2.146614e+05</td>\n",
       "      <td>0.000000e+00</td>\n",
       "    </tr>\n",
       "    <tr>\n",
       "      <th>75%</th>\n",
       "      <td>2.087215e+05</td>\n",
       "      <td>1.073152e+05</td>\n",
       "      <td>1.442584e+05</td>\n",
       "      <td>9.430367e+05</td>\n",
       "      <td>1.111909e+06</td>\n",
       "      <td>0.000000e+00</td>\n",
       "    </tr>\n",
       "    <tr>\n",
       "      <th>max</th>\n",
       "      <td>9.244552e+07</td>\n",
       "      <td>5.958504e+07</td>\n",
       "      <td>4.958504e+07</td>\n",
       "      <td>3.560159e+08</td>\n",
       "      <td>3.561793e+08</td>\n",
       "      <td>1.000000e+00</td>\n",
       "    </tr>\n",
       "  </tbody>\n",
       "</table>\n",
       "</div>"
      ],
      "text/plain": [
       "             amount  oldbalanceOrg  newbalanceOrig  oldbalanceDest  \\\n",
       "count  6.362620e+06   6.362620e+06    6.362620e+06    6.362620e+06   \n",
       "mean   1.798619e+05   8.338831e+05    8.551137e+05    1.100702e+06   \n",
       "std    6.038582e+05   2.888243e+06    2.924049e+06    3.399180e+06   \n",
       "min    0.000000e+00   0.000000e+00    0.000000e+00    0.000000e+00   \n",
       "25%    1.338957e+04   0.000000e+00    0.000000e+00    0.000000e+00   \n",
       "50%    7.487194e+04   1.420800e+04    0.000000e+00    1.327057e+05   \n",
       "75%    2.087215e+05   1.073152e+05    1.442584e+05    9.430367e+05   \n",
       "max    9.244552e+07   5.958504e+07    4.958504e+07    3.560159e+08   \n",
       "\n",
       "       newbalanceDest       isFraud  \n",
       "count    6.362620e+06  6.362620e+06  \n",
       "mean     1.224996e+06  1.290820e-03  \n",
       "std      3.674129e+06  3.590480e-02  \n",
       "min      0.000000e+00  0.000000e+00  \n",
       "25%      0.000000e+00  0.000000e+00  \n",
       "50%      2.146614e+05  0.000000e+00  \n",
       "75%      1.111909e+06  0.000000e+00  \n",
       "max      3.561793e+08  1.000000e+00  "
      ]
     },
     "execution_count": 10,
     "metadata": {},
     "output_type": "execute_result"
    }
   ],
   "source": [
    "df.describe()"
   ]
  },
  {
   "cell_type": "markdown",
   "id": "e0aa0317",
   "metadata": {
    "papermill": {
     "duration": 0.013925,
     "end_time": "2024-09-05T13:33:07.890466",
     "exception": false,
     "start_time": "2024-09-05T13:33:07.876541",
     "status": "completed"
    },
    "tags": []
   },
   "source": [
    "#  Correlation"
   ]
  },
  {
   "cell_type": "code",
   "execution_count": 11,
   "id": "c750ebc4",
   "metadata": {
    "execution": {
     "iopub.execute_input": "2024-09-05T13:33:07.921522Z",
     "iopub.status.busy": "2024-09-05T13:33:07.921143Z",
     "iopub.status.idle": "2024-09-05T13:33:08.044144Z",
     "shell.execute_reply": "2024-09-05T13:33:08.042977Z"
    },
    "papermill": {
     "duration": 0.141597,
     "end_time": "2024-09-05T13:33:08.047022",
     "exception": false,
     "start_time": "2024-09-05T13:33:07.905425",
     "status": "completed"
    },
    "tags": []
   },
   "outputs": [],
   "source": [
    "df_num = df.select_dtypes(exclude = ['object'])"
   ]
  },
  {
   "cell_type": "code",
   "execution_count": 12,
   "id": "10162a69",
   "metadata": {
    "execution": {
     "iopub.execute_input": "2024-09-05T13:33:08.077876Z",
     "iopub.status.busy": "2024-09-05T13:33:08.077475Z",
     "iopub.status.idle": "2024-09-05T13:33:09.405790Z",
     "shell.execute_reply": "2024-09-05T13:33:09.403095Z"
    },
    "papermill": {
     "duration": 1.347021,
     "end_time": "2024-09-05T13:33:09.408449",
     "exception": false,
     "start_time": "2024-09-05T13:33:08.061428",
     "status": "completed"
    },
    "tags": []
   },
   "outputs": [
    {
     "data": {
      "text/plain": [
       "<Axes: >"
      ]
     },
     "execution_count": 12,
     "metadata": {},
     "output_type": "execute_result"
    },
    {
     "data": {
      "image/png": "[encoded data removed]",
      "text/plain": [
       "<Figure size 640x480 with 2 Axes>"
      ]
     },
     "metadata": {},
     "output_type": "display_data"
    }
   ],
   "source": [
    "sns.heatmap(df_num.corr(), annot = True, cmap = 'viridis', fmt = '.2f')"
   ]
  },
  {
   "cell_type": "markdown",
   "id": "cc0695a5",
   "metadata": {
    "papermill": {
     "duration": 0.015094,
     "end_time": "2024-09-05T13:33:09.439201",
     "exception": false,
     "start_time": "2024-09-05T13:33:09.424107",
     "status": "completed"
    },
    "tags": []
   },
   "source": [
    "new balance and old balance are highly positively correlated as it should be"
   ]
  },
  {
   "cell_type": "markdown",
   "id": "b6c1e748",
   "metadata": {
    "papermill": {
     "duration": 0.01595,
     "end_time": "2024-09-05T13:33:09.471434",
     "exception": false,
     "start_time": "2024-09-05T13:33:09.455484",
     "status": "completed"
    },
    "tags": []
   },
   "source": [
    "# Visualization"
   ]
  },
  {
   "cell_type": "code",
   "execution_count": 13,
   "id": "99823c13",
   "metadata": {
    "execution": {
     "iopub.execute_input": "2024-09-05T13:33:09.503882Z",
     "iopub.status.busy": "2024-09-05T13:33:09.503437Z",
     "iopub.status.idle": "2024-09-05T13:33:09.511023Z",
     "shell.execute_reply": "2024-09-05T13:33:09.509656Z"
    },
    "papermill": {
     "duration": 0.026516,
     "end_time": "2024-09-05T13:33:09.513326",
     "exception": false,
     "start_time": "2024-09-05T13:33:09.486810",
     "status": "completed"
    },
    "tags": []
   },
   "outputs": [
    {
     "data": {
      "text/plain": [
       "Index(['type', 'amount', 'nameOrig', 'oldbalanceOrg', 'newbalanceOrig',\n",
       "       'nameDest', 'oldbalanceDest', 'newbalanceDest', 'isFraud'],\n",
       "      dtype='object')"
      ]
     },
     "execution_count": 13,
     "metadata": {},
     "output_type": "execute_result"
    }
   ],
   "source": [
    "df.columns"
   ]
  },
  {
   "cell_type": "markdown",
   "id": "819a4c8e",
   "metadata": {
    "papermill": {
     "duration": 0.015142,
     "end_time": "2024-09-05T13:33:09.544001",
     "exception": false,
     "start_time": "2024-09-05T13:33:09.528859",
     "status": "completed"
    },
    "tags": []
   },
   "source": [
    "**Transaction Type**"
   ]
  },
  {
   "cell_type": "code",
   "execution_count": 14,
   "id": "ddec7908",
   "metadata": {
    "execution": {
     "iopub.execute_input": "2024-09-05T13:33:09.577198Z",
     "iopub.status.busy": "2024-09-05T13:33:09.576749Z",
     "iopub.status.idle": "2024-09-05T13:33:10.247684Z",
     "shell.execute_reply": "2024-09-05T13:33:10.246173Z"
    },
    "papermill": {
     "duration": 0.693408,
     "end_time": "2024-09-05T13:33:10.252791",
     "exception": false,
     "start_time": "2024-09-05T13:33:09.559383",
     "status": "completed"
    },
    "tags": []
   },
   "outputs": [
    {
     "data": {
      "image/png": "[encoded data removed]",
      "text/plain": [
       "<Figure size 640x480 with 1 Axes>"
      ]
     },
     "metadata": {},
     "output_type": "display_data"
    }
   ],
   "source": [
    "df['type'].value_counts().plot(kind = 'pie', autopct = '%.2f')\n",
    "plt.ylabel(None)\n",
    "plt.show()"
   ]
  },
  {
   "cell_type": "markdown",
   "id": "fd8c7a47",
   "metadata": {
    "papermill": {
     "duration": 0.027599,
     "end_time": "2024-09-05T13:33:10.307356",
     "exception": false,
     "start_time": "2024-09-05T13:33:10.279757",
     "status": "completed"
    },
    "tags": []
   },
   "source": [
    "**Fraud and Non-Fraudulent dist**"
   ]
  },
  {
   "cell_type": "code",
   "execution_count": 15,
   "id": "c860d5e0",
   "metadata": {
    "execution": {
     "iopub.execute_input": "2024-09-05T13:33:10.344245Z",
     "iopub.status.busy": "2024-09-05T13:33:10.343807Z",
     "iopub.status.idle": "2024-09-05T13:33:10.418186Z",
     "shell.execute_reply": "2024-09-05T13:33:10.417119Z"
    },
    "papermill": {
     "duration": 0.094449,
     "end_time": "2024-09-05T13:33:10.420379",
     "exception": false,
     "start_time": "2024-09-05T13:33:10.325930",
     "status": "completed"
    },
    "tags": []
   },
   "outputs": [
    {
     "data": {
      "text/html": [
       "<div>\n",
       "<style scoped>\n",
       "    .dataframe tbody tr th:only-of-type {\n",
       "        vertical-align: middle;\n",
       "    }\n",
       "\n",
       "    .dataframe tbody tr th {\n",
       "        vertical-align: top;\n",
       "    }\n",
       "\n",
       "    .dataframe thead th {\n",
       "        text-align: right;\n",
       "    }\n",
       "</style>\n",
       "<table border=\"1\" class=\"dataframe\">\n",
       "  <thead>\n",
       "    <tr style=\"text-align: right;\">\n",
       "      <th></th>\n",
       "      <th>isFraud</th>\n",
       "      <th>count</th>\n",
       "    </tr>\n",
       "  </thead>\n",
       "  <tbody>\n",
       "    <tr>\n",
       "      <th>0</th>\n",
       "      <td>0</td>\n",
       "      <td>6354407</td>\n",
       "    </tr>\n",
       "    <tr>\n",
       "      <th>1</th>\n",
       "      <td>1</td>\n",
       "      <td>8213</td>\n",
       "    </tr>\n",
       "  </tbody>\n",
       "</table>\n",
       "</div>"
      ],
      "text/plain": [
       "   isFraud    count\n",
       "0        0  6354407\n",
       "1        1     8213"
      ]
     },
     "execution_count": 15,
     "metadata": {},
     "output_type": "execute_result"
    }
   ],
   "source": [
    "df['isFraud'].value_counts().reset_index()"
   ]
  },
  {
   "cell_type": "code",
   "execution_count": 16,
   "id": "d4400314",
   "metadata": {
    "execution": {
     "iopub.execute_input": "2024-09-05T13:33:10.456332Z",
     "iopub.status.busy": "2024-09-05T13:33:10.455923Z",
     "iopub.status.idle": "2024-09-05T13:33:11.149168Z",
     "shell.execute_reply": "2024-09-05T13:33:11.148065Z"
    },
    "papermill": {
     "duration": 0.715202,
     "end_time": "2024-09-05T13:33:11.151645",
     "exception": false,
     "start_time": "2024-09-05T13:33:10.436443",
     "status": "completed"
    },
    "tags": []
   },
   "outputs": [
    {
     "data": {
      "text/plain": [
       "<Axes: xlabel='isFraud', ylabel='count'>"
      ]
     },
     "execution_count": 16,
     "metadata": {},
     "output_type": "execute_result"
    },
    {
     "data": {
      "image/png": "[encoded data removed]",
      "text/plain": [
       "<Figure size 640x480 with 1 Axes>"
      ]
     },
     "metadata": {},
     "output_type": "display_data"
    }
   ],
   "source": [
    "sns.countplot(x = df['isFraud'])"
   ]
  },
  {
   "cell_type": "markdown",
   "id": "74f32091",
   "metadata": {
    "papermill": {
     "duration": 0.016519,
     "end_time": "2024-09-05T13:33:11.185255",
     "exception": false,
     "start_time": "2024-09-05T13:33:11.168736",
     "status": "completed"
    },
    "tags": []
   },
   "source": [
    "# Model Training"
   ]
  },
  {
   "cell_type": "code",
   "execution_count": 17,
   "id": "6dce9cd1",
   "metadata": {
    "execution": {
     "iopub.execute_input": "2024-09-05T13:33:11.219426Z",
     "iopub.status.busy": "2024-09-05T13:33:11.219027Z",
     "iopub.status.idle": "2024-09-05T13:33:11.414180Z",
     "shell.execute_reply": "2024-09-05T13:33:11.413169Z"
    },
    "papermill": {
     "duration": 0.215235,
     "end_time": "2024-09-05T13:33:11.416649",
     "exception": false,
     "start_time": "2024-09-05T13:33:11.201414",
     "status": "completed"
    },
    "tags": []
   },
   "outputs": [],
   "source": [
    "df_new = df.drop(columns=['nameOrig','nameDest'], axis = 1)"
   ]
  },
  {
   "cell_type": "code",
   "execution_count": 18,
   "id": "2fd2386f",
   "metadata": {
    "execution": {
     "iopub.execute_input": "2024-09-05T13:33:11.451089Z",
     "iopub.status.busy": "2024-09-05T13:33:11.450660Z",
     "iopub.status.idle": "2024-09-05T13:33:11.466563Z",
     "shell.execute_reply": "2024-09-05T13:33:11.465436Z"
    },
    "papermill": {
     "duration": 0.035788,
     "end_time": "2024-09-05T13:33:11.468807",
     "exception": false,
     "start_time": "2024-09-05T13:33:11.433019",
     "status": "completed"
    },
    "tags": []
   },
   "outputs": [
    {
     "data": {
      "text/html": [
       "<div>\n",
       "<style scoped>\n",
       "    .dataframe tbody tr th:only-of-type {\n",
       "        vertical-align: middle;\n",
       "    }\n",
       "\n",
       "    .dataframe tbody tr th {\n",
       "        vertical-align: top;\n",
       "    }\n",
       "\n",
       "    .dataframe thead th {\n",
       "        text-align: right;\n",
       "    }\n",
       "</style>\n",
       "<table border=\"1\" class=\"dataframe\">\n",
       "  <thead>\n",
       "    <tr style=\"text-align: right;\">\n",
       "      <th></th>\n",
       "      <th>type</th>\n",
       "      <th>amount</th>\n",
       "      <th>oldbalanceOrg</th>\n",
       "      <th>newbalanceOrig</th>\n",
       "      <th>oldbalanceDest</th>\n",
       "      <th>newbalanceDest</th>\n",
       "      <th>isFraud</th>\n",
       "    </tr>\n",
       "  </thead>\n",
       "  <tbody>\n",
       "    <tr>\n",
       "      <th>0</th>\n",
       "      <td>PAYMENT</td>\n",
       "      <td>9839.64</td>\n",
       "      <td>170136.0</td>\n",
       "      <td>160296.36</td>\n",
       "      <td>0.0</td>\n",
       "      <td>0.0</td>\n",
       "      <td>0</td>\n",
       "    </tr>\n",
       "    <tr>\n",
       "      <th>1</th>\n",
       "      <td>PAYMENT</td>\n",
       "      <td>1864.28</td>\n",
       "      <td>21249.0</td>\n",
       "      <td>19384.72</td>\n",
       "      <td>0.0</td>\n",
       "      <td>0.0</td>\n",
       "      <td>0</td>\n",
       "    </tr>\n",
       "    <tr>\n",
       "      <th>2</th>\n",
       "      <td>TRANSFER</td>\n",
       "      <td>181.00</td>\n",
       "      <td>181.0</td>\n",
       "      <td>0.00</td>\n",
       "      <td>0.0</td>\n",
       "      <td>0.0</td>\n",
       "      <td>1</td>\n",
       "    </tr>\n",
       "    <tr>\n",
       "      <th>3</th>\n",
       "      <td>CASH_OUT</td>\n",
       "      <td>181.00</td>\n",
       "      <td>181.0</td>\n",
       "      <td>0.00</td>\n",
       "      <td>21182.0</td>\n",
       "      <td>0.0</td>\n",
       "      <td>1</td>\n",
       "    </tr>\n",
       "    <tr>\n",
       "      <th>4</th>\n",
       "      <td>PAYMENT</td>\n",
       "      <td>11668.14</td>\n",
       "      <td>41554.0</td>\n",
       "      <td>29885.86</td>\n",
       "      <td>0.0</td>\n",
       "      <td>0.0</td>\n",
       "      <td>0</td>\n",
       "    </tr>\n",
       "  </tbody>\n",
       "</table>\n",
       "</div>"
      ],
      "text/plain": [
       "       type    amount  oldbalanceOrg  newbalanceOrig  oldbalanceDest  \\\n",
       "0   PAYMENT   9839.64       170136.0       160296.36             0.0   \n",
       "1   PAYMENT   1864.28        21249.0        19384.72             0.0   \n",
       "2  TRANSFER    181.00          181.0            0.00             0.0   \n",
       "3  CASH_OUT    181.00          181.0            0.00         21182.0   \n",
       "4   PAYMENT  11668.14        41554.0        29885.86             0.0   \n",
       "\n",
       "   newbalanceDest  isFraud  \n",
       "0             0.0        0  \n",
       "1             0.0        0  \n",
       "2             0.0        1  \n",
       "3             0.0        1  \n",
       "4             0.0        0  "
      ]
     },
     "execution_count": 18,
     "metadata": {},
     "output_type": "execute_result"
    }
   ],
   "source": [
    "df_new.head()"
   ]
  },
  {
   "cell_type": "code",
   "execution_count": 19,
   "id": "b74879ee",
   "metadata": {
    "execution": {
     "iopub.execute_input": "2024-09-05T13:33:11.504504Z",
     "iopub.status.busy": "2024-09-05T13:33:11.504116Z",
     "iopub.status.idle": "2024-09-05T13:33:11.711492Z",
     "shell.execute_reply": "2024-09-05T13:33:11.710390Z"
    },
    "papermill": {
     "duration": 0.228752,
     "end_time": "2024-09-05T13:33:11.714260",
     "exception": false,
     "start_time": "2024-09-05T13:33:11.485508",
     "status": "completed"
    },
    "tags": []
   },
   "outputs": [],
   "source": [
    "# feature target selection\n",
    "\n",
    "x = df_new.drop('isFraud', axis = 1)\n",
    "y = df_new['isFraud']"
   ]
  },
  {
   "cell_type": "markdown",
   "id": "40ceabfb",
   "metadata": {
    "papermill": {
     "duration": 0.017271,
     "end_time": "2024-09-05T13:33:11.749121",
     "exception": false,
     "start_time": "2024-09-05T13:33:11.731850",
     "status": "completed"
    },
    "tags": []
   },
   "source": [
    "# **Data Preprocessing**"
   ]
  },
  {
   "cell_type": "code",
   "execution_count": 20,
   "id": "c8fb025e",
   "metadata": {
    "execution": {
     "iopub.execute_input": "2024-09-05T13:33:11.784831Z",
     "iopub.status.busy": "2024-09-05T13:33:11.783960Z",
     "iopub.status.idle": "2024-09-05T13:33:11.934994Z",
     "shell.execute_reply": "2024-09-05T13:33:11.933890Z"
    },
    "papermill": {
     "duration": 0.171655,
     "end_time": "2024-09-05T13:33:11.937724",
     "exception": false,
     "start_time": "2024-09-05T13:33:11.766069",
     "status": "completed"
    },
    "tags": []
   },
   "outputs": [],
   "source": [
    "from sklearn.preprocessing import LabelEncoder, StandardScaler\n",
    "le = LabelEncoder()\n",
    "scaler = StandardScaler()"
   ]
  },
  {
   "cell_type": "code",
   "execution_count": 21,
   "id": "7038eb92",
   "metadata": {
    "execution": {
     "iopub.execute_input": "2024-09-05T13:33:11.973302Z",
     "iopub.status.busy": "2024-09-05T13:33:11.972850Z",
     "iopub.status.idle": "2024-09-05T13:33:13.332521Z",
     "shell.execute_reply": "2024-09-05T13:33:13.331328Z"
    },
    "papermill": {
     "duration": 1.380598,
     "end_time": "2024-09-05T13:33:13.335126",
     "exception": false,
     "start_time": "2024-09-05T13:33:11.954528",
     "status": "completed"
    },
    "tags": []
   },
   "outputs": [],
   "source": [
    "x['type'] = le.fit_transform(x['type'])"
   ]
  },
  {
   "cell_type": "code",
   "execution_count": 22,
   "id": "7ee39db6",
   "metadata": {
    "execution": {
     "iopub.execute_input": "2024-09-05T13:33:13.371223Z",
     "iopub.status.busy": "2024-09-05T13:33:13.370268Z",
     "iopub.status.idle": "2024-09-05T13:33:14.441905Z",
     "shell.execute_reply": "2024-09-05T13:33:14.440779Z"
    },
    "papermill": {
     "duration": 1.092183,
     "end_time": "2024-09-05T13:33:14.444556",
     "exception": false,
     "start_time": "2024-09-05T13:33:13.352373",
     "status": "completed"
    },
    "tags": []
   },
   "outputs": [],
   "source": [
    "x[x.columns] = scaler.fit_transform(x[x.columns])"
   ]
  },
  {
   "cell_type": "code",
   "execution_count": 23,
   "id": "525b3276",
   "metadata": {
    "execution": {
     "iopub.execute_input": "2024-09-05T13:33:14.480925Z",
     "iopub.status.busy": "2024-09-05T13:33:14.480474Z",
     "iopub.status.idle": "2024-09-05T13:33:14.494519Z",
     "shell.execute_reply": "2024-09-05T13:33:14.493370Z"
    },
    "papermill": {
     "duration": 0.035137,
     "end_time": "2024-09-05T13:33:14.496748",
     "exception": false,
     "start_time": "2024-09-05T13:33:14.461611",
     "status": "completed"
    },
    "tags": []
   },
   "outputs": [
    {
     "data": {
      "text/html": [
       "<div>\n",
       "<style scoped>\n",
       "    .dataframe tbody tr th:only-of-type {\n",
       "        vertical-align: middle;\n",
       "    }\n",
       "\n",
       "    .dataframe tbody tr th {\n",
       "        vertical-align: top;\n",
       "    }\n",
       "\n",
       "    .dataframe thead th {\n",
       "        text-align: right;\n",
       "    }\n",
       "</style>\n",
       "<table border=\"1\" class=\"dataframe\">\n",
       "  <thead>\n",
       "    <tr style=\"text-align: right;\">\n",
       "      <th></th>\n",
       "      <th>type</th>\n",
       "      <th>amount</th>\n",
       "      <th>oldbalanceOrg</th>\n",
       "      <th>newbalanceOrig</th>\n",
       "      <th>oldbalanceDest</th>\n",
       "      <th>newbalanceDest</th>\n",
       "    </tr>\n",
       "  </thead>\n",
       "  <tbody>\n",
       "    <tr>\n",
       "      <th>0</th>\n",
       "      <td>0.952399</td>\n",
       "      <td>-0.281560</td>\n",
       "      <td>-0.229810</td>\n",
       "      <td>-0.237622</td>\n",
       "      <td>-0.323814</td>\n",
       "      <td>-0.333411</td>\n",
       "    </tr>\n",
       "    <tr>\n",
       "      <th>1</th>\n",
       "      <td>0.952399</td>\n",
       "      <td>-0.294767</td>\n",
       "      <td>-0.281359</td>\n",
       "      <td>-0.285812</td>\n",
       "      <td>-0.323814</td>\n",
       "      <td>-0.333411</td>\n",
       "    </tr>\n",
       "    <tr>\n",
       "      <th>2</th>\n",
       "      <td>1.693076</td>\n",
       "      <td>-0.297555</td>\n",
       "      <td>-0.288654</td>\n",
       "      <td>-0.292442</td>\n",
       "      <td>-0.323814</td>\n",
       "      <td>-0.333411</td>\n",
       "    </tr>\n",
       "    <tr>\n",
       "      <th>3</th>\n",
       "      <td>-0.528954</td>\n",
       "      <td>-0.297555</td>\n",
       "      <td>-0.288654</td>\n",
       "      <td>-0.292442</td>\n",
       "      <td>-0.317582</td>\n",
       "      <td>-0.333411</td>\n",
       "    </tr>\n",
       "    <tr>\n",
       "      <th>4</th>\n",
       "      <td>0.952399</td>\n",
       "      <td>-0.278532</td>\n",
       "      <td>-0.274329</td>\n",
       "      <td>-0.282221</td>\n",
       "      <td>-0.323814</td>\n",
       "      <td>-0.333411</td>\n",
       "    </tr>\n",
       "  </tbody>\n",
       "</table>\n",
       "</div>"
      ],
      "text/plain": [
       "       type    amount  oldbalanceOrg  newbalanceOrig  oldbalanceDest  \\\n",
       "0  0.952399 -0.281560      -0.229810       -0.237622       -0.323814   \n",
       "1  0.952399 -0.294767      -0.281359       -0.285812       -0.323814   \n",
       "2  1.693076 -0.297555      -0.288654       -0.292442       -0.323814   \n",
       "3 -0.528954 -0.297555      -0.288654       -0.292442       -0.317582   \n",
       "4  0.952399 -0.278532      -0.274329       -0.282221       -0.323814   \n",
       "\n",
       "   newbalanceDest  \n",
       "0       -0.333411  \n",
       "1       -0.333411  \n",
       "2       -0.333411  \n",
       "3       -0.333411  \n",
       "4       -0.333411  "
      ]
     },
     "execution_count": 23,
     "metadata": {},
     "output_type": "execute_result"
    }
   ],
   "source": [
    "x.head()"
   ]
  },
  {
   "cell_type": "markdown",
   "id": "186d88c8",
   "metadata": {
    "papermill": {
     "duration": 0.016249,
     "end_time": "2024-09-05T13:33:14.530250",
     "exception": false,
     "start_time": "2024-09-05T13:33:14.514001",
     "status": "completed"
    },
    "tags": []
   },
   "source": [
    "# Training and Testing data"
   ]
  },
  {
   "cell_type": "code",
   "execution_count": 24,
   "id": "83f27232",
   "metadata": {
    "execution": {
     "iopub.execute_input": "2024-09-05T13:33:14.617406Z",
     "iopub.status.busy": "2024-09-05T13:33:14.616973Z",
     "iopub.status.idle": "2024-09-05T13:33:14.726109Z",
     "shell.execute_reply": "2024-09-05T13:33:14.724910Z"
    },
    "papermill": {
     "duration": 0.182309,
     "end_time": "2024-09-05T13:33:14.729098",
     "exception": false,
     "start_time": "2024-09-05T13:33:14.546789",
     "status": "completed"
    },
    "tags": []
   },
   "outputs": [],
   "source": [
    "from sklearn.model_selection import train_test_split"
   ]
  },
  {
   "cell_type": "code",
   "execution_count": 25,
   "id": "3aa6b02b",
   "metadata": {
    "execution": {
     "iopub.execute_input": "2024-09-05T13:33:14.766171Z",
     "iopub.status.busy": "2024-09-05T13:33:14.765725Z",
     "iopub.status.idle": "2024-09-05T13:33:16.096966Z",
     "shell.execute_reply": "2024-09-05T13:33:16.095523Z"
    },
    "papermill": {
     "duration": 1.352465,
     "end_time": "2024-09-05T13:33:16.099645",
     "exception": false,
     "start_time": "2024-09-05T13:33:14.747180",
     "status": "completed"
    },
    "tags": []
   },
   "outputs": [],
   "source": [
    "# 70-30 train test split\n",
    "x_train,x_test,y_train,y_test = train_test_split(x,y,test_size=0.3,random_state=42)"
   ]
  },
  {
   "cell_type": "code",
   "execution_count": 26,
   "id": "17672bd4",
   "metadata": {
    "execution": {
     "iopub.execute_input": "2024-09-05T13:33:16.140095Z",
     "iopub.status.busy": "2024-09-05T13:33:16.138590Z",
     "iopub.status.idle": "2024-09-05T13:33:16.147042Z",
     "shell.execute_reply": "2024-09-05T13:33:16.145900Z"
    },
    "papermill": {
     "duration": 0.032345,
     "end_time": "2024-09-05T13:33:16.149412",
     "exception": false,
     "start_time": "2024-09-05T13:33:16.117067",
     "status": "completed"
    },
    "tags": []
   },
   "outputs": [
    {
     "data": {
      "text/plain": [
       "((4453834, 6), (1908786, 6))"
      ]
     },
     "execution_count": 26,
     "metadata": {},
     "output_type": "execute_result"
    }
   ],
   "source": [
    "x_train.shape,x_test.shape"
   ]
  },
  {
   "cell_type": "code",
   "execution_count": 27,
   "id": "d682c0e7",
   "metadata": {
    "execution": {
     "iopub.execute_input": "2024-09-05T13:33:16.186239Z",
     "iopub.status.busy": "2024-09-05T13:33:16.185804Z",
     "iopub.status.idle": "2024-09-05T13:33:16.466698Z",
     "shell.execute_reply": "2024-09-05T13:33:16.465568Z"
    },
    "papermill": {
     "duration": 0.302754,
     "end_time": "2024-09-05T13:33:16.469375",
     "exception": false,
     "start_time": "2024-09-05T13:33:16.166621",
     "status": "completed"
    },
    "tags": []
   },
   "outputs": [],
   "source": [
    "from sklearn.ensemble import RandomForestClassifier\n",
    "from sklearn.linear_model import LogisticRegression"
   ]
  },
  {
   "cell_type": "code",
   "execution_count": 28,
   "id": "ab81b7ac",
   "metadata": {
    "execution": {
     "iopub.execute_input": "2024-09-05T13:33:16.505301Z",
     "iopub.status.busy": "2024-09-05T13:33:16.504886Z",
     "iopub.status.idle": "2024-09-05T13:33:16.510098Z",
     "shell.execute_reply": "2024-09-05T13:33:16.509094Z"
    },
    "papermill": {
     "duration": 0.025657,
     "end_time": "2024-09-05T13:33:16.512196",
     "exception": false,
     "start_time": "2024-09-05T13:33:16.486539",
     "status": "completed"
    },
    "tags": []
   },
   "outputs": [],
   "source": [
    "rfc = RandomForestClassifier(random_state=42)\n",
    "lr = LogisticRegression(random_state=42)"
   ]
  },
  {
   "cell_type": "code",
   "execution_count": 29,
   "id": "72d9aaab",
   "metadata": {
    "execution": {
     "iopub.execute_input": "2024-09-05T13:33:16.547666Z",
     "iopub.status.busy": "2024-09-05T13:33:16.547279Z",
     "iopub.status.idle": "2024-09-05T13:54:24.067122Z",
     "shell.execute_reply": "2024-09-05T13:54:24.066028Z"
    },
    "papermill": {
     "duration": 1267.558057,
     "end_time": "2024-09-05T13:54:24.087223",
     "exception": false,
     "start_time": "2024-09-05T13:33:16.529166",
     "status": "completed"
    },
    "tags": []
   },
   "outputs": [
    {
     "data": {
      "text/html": [
       "<style>#sk-container-id-1 {color: black;background-color: white;}#sk-container-id-1 pre{padding: 0;}#sk-container-id-1 div.sk-toggleable {background-color: white;}#sk-container-id-1 label.sk-toggleable__label {cursor: pointer;display: block;width: 100%;margin-bottom: 0;padding: 0.3em;box-sizing: border-box;text-align: center;}#sk-container-id-1 label.sk-toggleable__label-arrow:before {content: \"▸\";float: left;margin-right: 0.25em;color: #696969;}#sk-container-id-1 label.sk-toggleable__label-arrow:hover:before {color: black;}#sk-container-id-1 div.sk-estimator:hover label.sk-toggleable__label-arrow:before {color: black;}#sk-container-id-1 div.sk-toggleable__content {max-height: 0;max-width: 0;overflow: hidden;text-align: left;background-color: #f0f8ff;}#sk-container-id-1 div.sk-toggleable__content pre {margin: 0.2em;color: black;border-radius: 0.25em;background-color: #f0f8ff;}#sk-container-id-1 input.sk-toggleable__control:checked~div.sk-toggleable__content {max-height: 200px;max-width: 100%;overflow: auto;}#sk-container-id-1 input.sk-toggleable__control:checked~label.sk-toggleable__label-arrow:before {content: \"▾\";}#sk-container-id-1 div.sk-estimator input.sk-toggleable__control:checked~label.sk-toggleable__label {background-color: #d4ebff;}#sk-container-id-1 div.sk-label input.sk-toggleable__control:checked~label.sk-toggleable__label {background-color: #d4ebff;}#sk-container-id-1 input.sk-hidden--visually {border: 0;clip: rect(1px 1px 1px 1px);clip: rect(1px, 1px, 1px, 1px);height: 1px;margin: -1px;overflow: hidden;padding: 0;position: absolute;width: 1px;}#sk-container-id-1 div.sk-estimator {font-family: monospace;background-color: #f0f8ff;border: 1px dotted black;border-radius: 0.25em;box-sizing: border-box;margin-bottom: 0.5em;}#sk-container-id-1 div.sk-estimator:hover {background-color: #d4ebff;}#sk-container-id-1 div.sk-parallel-item::after {content: \"\";width: 100%;border-bottom: 1px solid gray;flex-grow: 1;}#sk-container-id-1 div.sk-label:hover label.sk-toggleable__label {background-color: #d4ebff;}#sk-container-id-1 div.sk-serial::before {content: \"\";position: absolute;border-left: 1px solid gray;box-sizing: border-box;top: 0;bottom: 0;left: 50%;z-index: 0;}#sk-container-id-1 div.sk-serial {display: flex;flex-direction: column;align-items: center;background-color: white;padding-right: 0.2em;padding-left: 0.2em;position: relative;}#sk-container-id-1 div.sk-item {position: relative;z-index: 1;}#sk-container-id-1 div.sk-parallel {display: flex;align-items: stretch;justify-content: center;background-color: white;position: relative;}#sk-container-id-1 div.sk-item::before, #sk-container-id-1 div.sk-parallel-item::before {content: \"\";position: absolute;border-left: 1px solid gray;box-sizing: border-box;top: 0;bottom: 0;left: 50%;z-index: -1;}#sk-container-id-1 div.sk-parallel-item {display: flex;flex-direction: column;z-index: 1;position: relative;background-color: white;}#sk-container-id-1 div.sk-parallel-item:first-child::after {align-self: flex-end;width: 50%;}#sk-container-id-1 div.sk-parallel-item:last-child::after {align-self: flex-start;width: 50%;}#sk-container-id-1 div.sk-parallel-item:only-child::after {width: 0;}#sk-container-id-1 div.sk-dashed-wrapped {border: 1px dashed gray;margin: 0 0.4em 0.5em 0.4em;box-sizing: border-box;padding-bottom: 0.4em;background-color: white;}#sk-container-id-1 div.sk-label label {font-family: monospace;font-weight: bold;display: inline-block;line-height: 1.2em;}#sk-container-id-1 div.sk-label-container {text-align: center;}#sk-container-id-1 div.sk-container {/* jupyter's `normalize.less` sets `[hidden] { display: none; }` but bootstrap.min.css set `[hidden] { display: none !important; }` so we also need the `!important` here to be able to override the default hidden behavior on the sphinx rendered scikit-learn.org. See: https://github.com/scikit-learn/scikit-learn/issues/21755 */display: inline-block !important;position: relative;}#sk-container-id-1 div.sk-text-repr-fallback {display: none;}</style><div id=\"sk-container-id-1\" class=\"sk-top-container\"><div class=\"sk-text-repr-fallback\"><pre>RandomForestClassifier(random_state=42)</pre><b>In a Jupyter environment, please rerun this cell to show the HTML representation or trust the notebook. <br />On GitHub, the HTML representation is unable to render, please try loading this page with nbviewer.org.</b></div><div class=\"sk-container\" hidden><div class=\"sk-item\"><div class=\"sk-estimator sk-toggleable\"><input class=\"sk-toggleable__control sk-hidden--visually\" id=\"sk-estimator-id-1\" type=\"checkbox\" checked><label for=\"sk-estimator-id-1\" class=\"sk-toggleable__label sk-toggleable__label-arrow\">RandomForestClassifier</label><div class=\"sk-toggleable__content\"><pre>RandomForestClassifier(random_state=42)</pre></div></div></div></div></div>"
      ],
      "text/plain": [
       "RandomForestClassifier(random_state=42)"
      ]
     },
     "execution_count": 29,
     "metadata": {},
     "output_type": "execute_result"
    }
   ],
   "source": [
    "rfc.fit(x_train,y_train)"
   ]
  },
  {
   "cell_type": "code",
   "execution_count": 30,
   "id": "75aedcd4",
   "metadata": {
    "execution": {
     "iopub.execute_input": "2024-09-05T13:54:24.123252Z",
     "iopub.status.busy": "2024-09-05T13:54:24.122809Z",
     "iopub.status.idle": "2024-09-05T13:54:40.542785Z",
     "shell.execute_reply": "2024-09-05T13:54:40.541652Z"
    },
    "papermill": {
     "duration": 16.441279,
     "end_time": "2024-09-05T13:54:40.545460",
     "exception": false,
     "start_time": "2024-09-05T13:54:24.104181",
     "status": "completed"
    },
    "tags": []
   },
   "outputs": [],
   "source": [
    "y_pred = rfc.predict(x_test)"
   ]
  },
  {
   "cell_type": "markdown",
   "id": "4afd6491",
   "metadata": {
    "execution": {
     "iopub.execute_input": "2024-09-05T13:01:26.518913Z",
     "iopub.status.busy": "2024-09-05T13:01:26.518452Z",
     "iopub.status.idle": "2024-09-05T13:01:26.527564Z",
     "shell.execute_reply": "2024-09-05T13:01:26.526190Z",
     "shell.execute_reply.started": "2024-09-05T13:01:26.518868Z"
    },
    "papermill": {
     "duration": 0.0171,
     "end_time": "2024-09-05T13:54:40.580176",
     "exception": false,
     "start_time": "2024-09-05T13:54:40.563076",
     "status": "completed"
    },
    "tags": []
   },
   "source": [
    "# Evaluaing Accuracy"
   ]
  },
  {
   "cell_type": "code",
   "execution_count": 31,
   "id": "92f93361",
   "metadata": {
    "execution": {
     "iopub.execute_input": "2024-09-05T13:54:40.616662Z",
     "iopub.status.busy": "2024-09-05T13:54:40.616259Z",
     "iopub.status.idle": "2024-09-05T13:54:40.621245Z",
     "shell.execute_reply": "2024-09-05T13:54:40.620158Z"
    },
    "papermill": {
     "duration": 0.025947,
     "end_time": "2024-09-05T13:54:40.623349",
     "exception": false,
     "start_time": "2024-09-05T13:54:40.597402",
     "status": "completed"
    },
    "tags": []
   },
   "outputs": [],
   "source": [
    "from sklearn.metrics import accuracy_score, confusion_matrix,roc_curve, roc_auc_score, classification_report, auc"
   ]
  },
  {
   "cell_type": "code",
   "execution_count": 32,
   "id": "eb8aee55",
   "metadata": {
    "execution": {
     "iopub.execute_input": "2024-09-05T13:54:40.659680Z",
     "iopub.status.busy": "2024-09-05T13:54:40.659288Z",
     "iopub.status.idle": "2024-09-05T13:54:40.832051Z",
     "shell.execute_reply": "2024-09-05T13:54:40.830848Z"
    },
    "papermill": {
     "duration": 0.193889,
     "end_time": "2024-09-05T13:54:40.834630",
     "exception": false,
     "start_time": "2024-09-05T13:54:40.640741",
     "status": "completed"
    },
    "tags": []
   },
   "outputs": [
    {
     "data": {
      "text/plain": [
       "99.9676234004231"
      ]
     },
     "execution_count": 32,
     "metadata": {},
     "output_type": "execute_result"
    }
   ],
   "source": [
    "accuracy_score(y_test,y_pred)*100"
   ]
  },
  {
   "cell_type": "markdown",
   "id": "61efb233",
   "metadata": {
    "papermill": {
     "duration": 0.017646,
     "end_time": "2024-09-05T13:54:40.870283",
     "exception": false,
     "start_time": "2024-09-05T13:54:40.852637",
     "status": "completed"
    },
    "tags": []
   },
   "source": [
    "99.67% accuracy but this due to maybe highly imbalanced dataset :/"
   ]
  },
  {
   "cell_type": "markdown",
   "id": "f30e76fe",
   "metadata": {
    "papermill": {
     "duration": 0.017117,
     "end_time": "2024-09-05T13:54:40.905449",
     "exception": false,
     "start_time": "2024-09-05T13:54:40.888332",
     "status": "completed"
    },
    "tags": []
   },
   "source": [
    "**Confusion Matrix**"
   ]
  },
  {
   "cell_type": "code",
   "execution_count": 33,
   "id": "54c87d7a",
   "metadata": {
    "execution": {
     "iopub.execute_input": "2024-09-05T13:54:40.943096Z",
     "iopub.status.busy": "2024-09-05T13:54:40.942656Z",
     "iopub.status.idle": "2024-09-05T13:54:41.516978Z",
     "shell.execute_reply": "2024-09-05T13:54:41.515919Z"
    },
    "papermill": {
     "duration": 0.595834,
     "end_time": "2024-09-05T13:54:41.519345",
     "exception": false,
     "start_time": "2024-09-05T13:54:40.923511",
     "status": "completed"
    },
    "tags": []
   },
   "outputs": [
    {
     "data": {
      "text/plain": [
       "<Axes: >"
      ]
     },
     "execution_count": 33,
     "metadata": {},
     "output_type": "execute_result"
    },
    {
     "data": {
      "image/png": "[encoded data removed]",
      "text/plain": [
       "<Figure size 640x480 with 2 Axes>"
      ]
     },
     "metadata": {},
     "output_type": "display_data"
    }
   ],
   "source": [
    "sns.heatmap(confusion_matrix(y_test,y_pred),annot = True, cmap = 'viridis', fmt = '.2f')"
   ]
  },
  {
   "cell_type": "code",
   "execution_count": 34,
   "id": "fd2221cd",
   "metadata": {
    "execution": {
     "iopub.execute_input": "2024-09-05T13:54:41.558456Z",
     "iopub.status.busy": "2024-09-05T13:54:41.557308Z",
     "iopub.status.idle": "2024-09-05T13:54:44.809005Z",
     "shell.execute_reply": "2024-09-05T13:54:44.807298Z"
    },
    "papermill": {
     "duration": 3.274446,
     "end_time": "2024-09-05T13:54:44.811956",
     "exception": false,
     "start_time": "2024-09-05T13:54:41.537510",
     "status": "completed"
    },
    "tags": []
   },
   "outputs": [
    {
     "name": "stdout",
     "output_type": "stream",
     "text": [
      "              precision    recall  f1-score   support\n",
      "\n",
      "           0       1.00      1.00      1.00   1906351\n",
      "           1       0.96      0.78      0.86      2435\n",
      "\n",
      "    accuracy                           1.00   1908786\n",
      "   macro avg       0.98      0.89      0.93   1908786\n",
      "weighted avg       1.00      1.00      1.00   1908786\n",
      "\n"
     ]
    }
   ],
   "source": [
    "# Precision recall and F1 score\n",
    "print(classification_report(y_test,y_pred))"
   ]
  },
  {
   "cell_type": "code",
   "execution_count": 35,
   "id": "35d3efbf",
   "metadata": {
    "execution": {
     "iopub.execute_input": "2024-09-05T13:54:44.858092Z",
     "iopub.status.busy": "2024-09-05T13:54:44.857184Z",
     "iopub.status.idle": "2024-09-05T13:54:45.280725Z",
     "shell.execute_reply": "2024-09-05T13:54:45.279677Z"
    },
    "papermill": {
     "duration": 0.445959,
     "end_time": "2024-09-05T13:54:45.283151",
     "exception": false,
     "start_time": "2024-09-05T13:54:44.837192",
     "status": "completed"
    },
    "tags": []
   },
   "outputs": [
    {
     "data": {
      "text/plain": [
       "89.09422739393375"
      ]
     },
     "execution_count": 35,
     "metadata": {},
     "output_type": "execute_result"
    }
   ],
   "source": [
    "# ROC AUC Score\n",
    "roc_auc_score(y_test,y_pred)*100"
   ]
  },
  {
   "cell_type": "markdown",
   "id": "902ce6f5",
   "metadata": {
    "papermill": {
     "duration": 0.017823,
     "end_time": "2024-09-05T13:54:45.319407",
     "exception": false,
     "start_time": "2024-09-05T13:54:45.301584",
     "status": "completed"
    },
    "tags": []
   },
   "source": [
    "# Balancing target variable in the master Dataset"
   ]
  },
  {
   "cell_type": "markdown",
   "id": "5021e093",
   "metadata": {
    "papermill": {
     "duration": 0.018625,
     "end_time": "2024-09-05T13:54:45.356974",
     "exception": false,
     "start_time": "2024-09-05T13:54:45.338349",
     "status": "completed"
    },
    "tags": []
   },
   "source": [
    "**Now Lets fix the master dataset and try to balance it**"
   ]
  },
  {
   "cell_type": "code",
   "execution_count": 36,
   "id": "083541db",
   "metadata": {
    "execution": {
     "iopub.execute_input": "2024-09-05T13:54:45.396188Z",
     "iopub.status.busy": "2024-09-05T13:54:45.395710Z",
     "iopub.status.idle": "2024-09-05T13:54:46.287190Z",
     "shell.execute_reply": "2024-09-05T13:54:46.286004Z"
    },
    "papermill": {
     "duration": 0.914355,
     "end_time": "2024-09-05T13:54:46.290539",
     "exception": false,
     "start_time": "2024-09-05T13:54:45.376184",
     "status": "completed"
    },
    "tags": []
   },
   "outputs": [],
   "source": [
    "import pandas as pd\n",
    "\n",
    "df_majority = df[df['isFraud'] == 0]\n",
    "df_minority = df[df['isFraud'] == 1]\n",
    "\n",
    "# Taking a random sample of 8500 from the majority class\n",
    "df_majority_sampled = df_majority.sample(n=8500, random_state=42)\n",
    "\n",
    "# Combine the sampled majority class with the minority class\n",
    "df_balanced = pd.concat([df_majority_sampled, df_minority])\n",
    "\n",
    "# Optionally, shuffle the dataframe\n",
    "df_balanced = df_balanced.sample(frac=1, random_state=42).reset_index(drop=True)"
   ]
  },
  {
   "cell_type": "code",
   "execution_count": 37,
   "id": "11de1057",
   "metadata": {
    "execution": {
     "iopub.execute_input": "2024-09-05T13:54:46.334925Z",
     "iopub.status.busy": "2024-09-05T13:54:46.334494Z",
     "iopub.status.idle": "2024-09-05T13:54:46.351022Z",
     "shell.execute_reply": "2024-09-05T13:54:46.349920Z"
    },
    "papermill": {
     "duration": 0.039001,
     "end_time": "2024-09-05T13:54:46.353178",
     "exception": false,
     "start_time": "2024-09-05T13:54:46.314177",
     "status": "completed"
    },
    "tags": []
   },
   "outputs": [
    {
     "data": {
      "text/html": [
       "<div>\n",
       "<style scoped>\n",
       "    .dataframe tbody tr th:only-of-type {\n",
       "        vertical-align: middle;\n",
       "    }\n",
       "\n",
       "    .dataframe tbody tr th {\n",
       "        vertical-align: top;\n",
       "    }\n",
       "\n",
       "    .dataframe thead th {\n",
       "        text-align: right;\n",
       "    }\n",
       "</style>\n",
       "<table border=\"1\" class=\"dataframe\">\n",
       "  <thead>\n",
       "    <tr style=\"text-align: right;\">\n",
       "      <th></th>\n",
       "      <th>type</th>\n",
       "      <th>amount</th>\n",
       "      <th>nameOrig</th>\n",
       "      <th>oldbalanceOrg</th>\n",
       "      <th>newbalanceOrig</th>\n",
       "      <th>nameDest</th>\n",
       "      <th>oldbalanceDest</th>\n",
       "      <th>newbalanceDest</th>\n",
       "      <th>isFraud</th>\n",
       "    </tr>\n",
       "  </thead>\n",
       "  <tbody>\n",
       "    <tr>\n",
       "      <th>0</th>\n",
       "      <td>CASH_OUT</td>\n",
       "      <td>38370.82</td>\n",
       "      <td>C544623420</td>\n",
       "      <td>2946.00</td>\n",
       "      <td>0.0</td>\n",
       "      <td>C1413280399</td>\n",
       "      <td>264667.45</td>\n",
       "      <td>303038.27</td>\n",
       "      <td>0</td>\n",
       "    </tr>\n",
       "    <tr>\n",
       "      <th>1</th>\n",
       "      <td>CASH_OUT</td>\n",
       "      <td>231137.31</td>\n",
       "      <td>C1077290418</td>\n",
       "      <td>0.00</td>\n",
       "      <td>0.0</td>\n",
       "      <td>C803793969</td>\n",
       "      <td>690622.65</td>\n",
       "      <td>921759.96</td>\n",
       "      <td>0</td>\n",
       "    </tr>\n",
       "    <tr>\n",
       "      <th>2</th>\n",
       "      <td>TRANSFER</td>\n",
       "      <td>850002.52</td>\n",
       "      <td>C1685995037</td>\n",
       "      <td>850002.52</td>\n",
       "      <td>0.0</td>\n",
       "      <td>C2080388513</td>\n",
       "      <td>0.00</td>\n",
       "      <td>0.00</td>\n",
       "      <td>1</td>\n",
       "    </tr>\n",
       "    <tr>\n",
       "      <th>3</th>\n",
       "      <td>CASH_OUT</td>\n",
       "      <td>45077.10</td>\n",
       "      <td>C978467011</td>\n",
       "      <td>45077.10</td>\n",
       "      <td>0.0</td>\n",
       "      <td>C809689507</td>\n",
       "      <td>126262.18</td>\n",
       "      <td>171339.29</td>\n",
       "      <td>1</td>\n",
       "    </tr>\n",
       "    <tr>\n",
       "      <th>4</th>\n",
       "      <td>CASH_OUT</td>\n",
       "      <td>56888.23</td>\n",
       "      <td>C385055273</td>\n",
       "      <td>56888.23</td>\n",
       "      <td>0.0</td>\n",
       "      <td>C1678539826</td>\n",
       "      <td>0.00</td>\n",
       "      <td>56888.23</td>\n",
       "      <td>1</td>\n",
       "    </tr>\n",
       "  </tbody>\n",
       "</table>\n",
       "</div>"
      ],
      "text/plain": [
       "       type     amount     nameOrig  oldbalanceOrg  newbalanceOrig  \\\n",
       "0  CASH_OUT   38370.82   C544623420        2946.00             0.0   \n",
       "1  CASH_OUT  231137.31  C1077290418           0.00             0.0   \n",
       "2  TRANSFER  850002.52  C1685995037      850002.52             0.0   \n",
       "3  CASH_OUT   45077.10   C978467011       45077.10             0.0   \n",
       "4  CASH_OUT   56888.23   C385055273       56888.23             0.0   \n",
       "\n",
       "      nameDest  oldbalanceDest  newbalanceDest  isFraud  \n",
       "0  C1413280399       264667.45       303038.27        0  \n",
       "1   C803793969       690622.65       921759.96        0  \n",
       "2  C2080388513            0.00            0.00        1  \n",
       "3   C809689507       126262.18       171339.29        1  \n",
       "4  C1678539826            0.00        56888.23        1  "
      ]
     },
     "execution_count": 37,
     "metadata": {},
     "output_type": "execute_result"
    }
   ],
   "source": [
    "df_balanced.head()"
   ]
  },
  {
   "cell_type": "code",
   "execution_count": 38,
   "id": "8efa46ac",
   "metadata": {
    "execution": {
     "iopub.execute_input": "2024-09-05T13:54:46.392151Z",
     "iopub.status.busy": "2024-09-05T13:54:46.391128Z",
     "iopub.status.idle": "2024-09-05T13:54:46.400083Z",
     "shell.execute_reply": "2024-09-05T13:54:46.398891Z"
    },
    "papermill": {
     "duration": 0.030568,
     "end_time": "2024-09-05T13:54:46.402152",
     "exception": false,
     "start_time": "2024-09-05T13:54:46.371584",
     "status": "completed"
    },
    "tags": []
   },
   "outputs": [
    {
     "data": {
      "text/plain": [
       "isFraud\n",
       "0    8500\n",
       "1    8213\n",
       "Name: count, dtype: int64"
      ]
     },
     "execution_count": 38,
     "metadata": {},
     "output_type": "execute_result"
    }
   ],
   "source": [
    "df_balanced['isFraud'].value_counts()"
   ]
  },
  {
   "cell_type": "markdown",
   "id": "7497b28e",
   "metadata": {
    "papermill": {
     "duration": 0.017987,
     "end_time": "2024-09-05T13:54:46.438555",
     "exception": false,
     "start_time": "2024-09-05T13:54:46.420568",
     "status": "completed"
    },
    "tags": []
   },
   "source": [
    "Now the distribution of fraud and non fraud trabnsactions is somewhat even :)"
   ]
  },
  {
   "cell_type": "markdown",
   "id": "6e4a644b",
   "metadata": {
    "papermill": {
     "duration": 0.018852,
     "end_time": "2024-09-05T13:54:46.475986",
     "exception": false,
     "start_time": "2024-09-05T13:54:46.457134",
     "status": "completed"
    },
    "tags": []
   },
   "source": [
    "Lets train the Model with this new data and see if we can get a more realistic test set accuracy "
   ]
  },
  {
   "cell_type": "code",
   "execution_count": 39,
   "id": "0fba13a4",
   "metadata": {
    "execution": {
     "iopub.execute_input": "2024-09-05T13:54:46.515108Z",
     "iopub.status.busy": "2024-09-05T13:54:46.514664Z",
     "iopub.status.idle": "2024-09-05T13:54:46.521468Z",
     "shell.execute_reply": "2024-09-05T13:54:46.520260Z"
    },
    "papermill": {
     "duration": 0.028862,
     "end_time": "2024-09-05T13:54:46.523717",
     "exception": false,
     "start_time": "2024-09-05T13:54:46.494855",
     "status": "completed"
    },
    "tags": []
   },
   "outputs": [],
   "source": [
    "df_balanced = df_balanced.drop(columns=['nameOrig','nameDest'], axis = 1)"
   ]
  },
  {
   "cell_type": "code",
   "execution_count": 40,
   "id": "420caa62",
   "metadata": {
    "execution": {
     "iopub.execute_input": "2024-09-05T13:54:46.563387Z",
     "iopub.status.busy": "2024-09-05T13:54:46.562960Z",
     "iopub.status.idle": "2024-09-05T13:54:46.569526Z",
     "shell.execute_reply": "2024-09-05T13:54:46.568620Z"
    },
    "papermill": {
     "duration": 0.028963,
     "end_time": "2024-09-05T13:54:46.572038",
     "exception": false,
     "start_time": "2024-09-05T13:54:46.543075",
     "status": "completed"
    },
    "tags": []
   },
   "outputs": [],
   "source": [
    "# feature target selection\n",
    "\n",
    "x = df_balanced.drop('isFraud', axis = 1)\n",
    "y = df_balanced['isFraud']"
   ]
  },
  {
   "cell_type": "code",
   "execution_count": 41,
   "id": "b7dac4bb",
   "metadata": {
    "execution": {
     "iopub.execute_input": "2024-09-05T13:54:46.610637Z",
     "iopub.status.busy": "2024-09-05T13:54:46.610228Z",
     "iopub.status.idle": "2024-09-05T13:54:46.620413Z",
     "shell.execute_reply": "2024-09-05T13:54:46.619083Z"
    },
    "papermill": {
     "duration": 0.032189,
     "end_time": "2024-09-05T13:54:46.622765",
     "exception": false,
     "start_time": "2024-09-05T13:54:46.590576",
     "status": "completed"
    },
    "tags": []
   },
   "outputs": [],
   "source": [
    "x['type'] = le.fit_transform(x['type'])"
   ]
  },
  {
   "cell_type": "code",
   "execution_count": 42,
   "id": "f8d26c95",
   "metadata": {
    "execution": {
     "iopub.execute_input": "2024-09-05T13:54:46.661917Z",
     "iopub.status.busy": "2024-09-05T13:54:46.661004Z",
     "iopub.status.idle": "2024-09-05T13:54:46.672932Z",
     "shell.execute_reply": "2024-09-05T13:54:46.671553Z"
    },
    "papermill": {
     "duration": 0.034074,
     "end_time": "2024-09-05T13:54:46.675398",
     "exception": false,
     "start_time": "2024-09-05T13:54:46.641324",
     "status": "completed"
    },
    "tags": []
   },
   "outputs": [],
   "source": [
    "x[x.columns] = scaler.fit_transform(x[x.columns])"
   ]
  },
  {
   "cell_type": "code",
   "execution_count": 43,
   "id": "e928c065",
   "metadata": {
    "execution": {
     "iopub.execute_input": "2024-09-05T13:54:46.714311Z",
     "iopub.status.busy": "2024-09-05T13:54:46.713915Z",
     "iopub.status.idle": "2024-09-05T13:54:46.726679Z",
     "shell.execute_reply": "2024-09-05T13:54:46.725363Z"
    },
    "papermill": {
     "duration": 0.035432,
     "end_time": "2024-09-05T13:54:46.729322",
     "exception": false,
     "start_time": "2024-09-05T13:54:46.693890",
     "status": "completed"
    },
    "tags": []
   },
   "outputs": [],
   "source": [
    "# 70-30 train test split\n",
    "x_train,x_test,y_train,y_test = train_test_split(x,y,test_size=0.2,random_state=42)"
   ]
  },
  {
   "cell_type": "code",
   "execution_count": 44,
   "id": "c51c8745",
   "metadata": {
    "execution": {
     "iopub.execute_input": "2024-09-05T13:54:46.768386Z",
     "iopub.status.busy": "2024-09-05T13:54:46.767976Z",
     "iopub.status.idle": "2024-09-05T13:54:46.772758Z",
     "shell.execute_reply": "2024-09-05T13:54:46.771897Z"
    },
    "papermill": {
     "duration": 0.02663,
     "end_time": "2024-09-05T13:54:46.774923",
     "exception": false,
     "start_time": "2024-09-05T13:54:46.748293",
     "status": "completed"
    },
    "tags": []
   },
   "outputs": [],
   "source": [
    "rfc = RandomForestClassifier(random_state=1)"
   ]
  },
  {
   "cell_type": "code",
   "execution_count": 45,
   "id": "8c310bb7",
   "metadata": {
    "execution": {
     "iopub.execute_input": "2024-09-05T13:54:46.813648Z",
     "iopub.status.busy": "2024-09-05T13:54:46.812713Z",
     "iopub.status.idle": "2024-09-05T13:54:48.140859Z",
     "shell.execute_reply": "2024-09-05T13:54:48.139615Z"
    },
    "papermill": {
     "duration": 1.350118,
     "end_time": "2024-09-05T13:54:48.143318",
     "exception": false,
     "start_time": "2024-09-05T13:54:46.793200",
     "status": "completed"
    },
    "tags": []
   },
   "outputs": [
    {
     "data": {
      "text/html": [
       "<style>#sk-container-id-2 {color: black;background-color: white;}#sk-container-id-2 pre{padding: 0;}#sk-container-id-2 div.sk-toggleable {background-color: white;}#sk-container-id-2 label.sk-toggleable__label {cursor: pointer;display: block;width: 100%;margin-bottom: 0;padding: 0.3em;box-sizing: border-box;text-align: center;}#sk-container-id-2 label.sk-toggleable__label-arrow:before {content: \"▸\";float: left;margin-right: 0.25em;color: #696969;}#sk-container-id-2 label.sk-toggleable__label-arrow:hover:before {color: black;}#sk-container-id-2 div.sk-estimator:hover label.sk-toggleable__label-arrow:before {color: black;}#sk-container-id-2 div.sk-toggleable__content {max-height: 0;max-width: 0;overflow: hidden;text-align: left;background-color: #f0f8ff;}#sk-container-id-2 div.sk-toggleable__content pre {margin: 0.2em;color: black;border-radius: 0.25em;background-color: #f0f8ff;}#sk-container-id-2 input.sk-toggleable__control:checked~div.sk-toggleable__content {max-height: 200px;max-width: 100%;overflow: auto;}#sk-container-id-2 input.sk-toggleable__control:checked~label.sk-toggleable__label-arrow:before {content: \"▾\";}#sk-container-id-2 div.sk-estimator input.sk-toggleable__control:checked~label.sk-toggleable__label {background-color: #d4ebff;}#sk-container-id-2 div.sk-label input.sk-toggleable__control:checked~label.sk-toggleable__label {background-color: #d4ebff;}#sk-container-id-2 input.sk-hidden--visually {border: 0;clip: rect(1px 1px 1px 1px);clip: rect(1px, 1px, 1px, 1px);height: 1px;margin: -1px;overflow: hidden;padding: 0;position: absolute;width: 1px;}#sk-container-id-2 div.sk-estimator {font-family: monospace;background-color: #f0f8ff;border: 1px dotted black;border-radius: 0.25em;box-sizing: border-box;margin-bottom: 0.5em;}#sk-container-id-2 div.sk-estimator:hover {background-color: #d4ebff;}#sk-container-id-2 div.sk-parallel-item::after {content: \"\";width: 100%;border-bottom: 1px solid gray;flex-grow: 1;}#sk-container-id-2 div.sk-label:hover label.sk-toggleable__label {background-color: #d4ebff;}#sk-container-id-2 div.sk-serial::before {content: \"\";position: absolute;border-left: 1px solid gray;box-sizing: border-box;top: 0;bottom: 0;left: 50%;z-index: 0;}#sk-container-id-2 div.sk-serial {display: flex;flex-direction: column;align-items: center;background-color: white;padding-right: 0.2em;padding-left: 0.2em;position: relative;}#sk-container-id-2 div.sk-item {position: relative;z-index: 1;}#sk-container-id-2 div.sk-parallel {display: flex;align-items: stretch;justify-content: center;background-color: white;position: relative;}#sk-container-id-2 div.sk-item::before, #sk-container-id-2 div.sk-parallel-item::before {content: \"\";position: absolute;border-left: 1px solid gray;box-sizing: border-box;top: 0;bottom: 0;left: 50%;z-index: -1;}#sk-container-id-2 div.sk-parallel-item {display: flex;flex-direction: column;z-index: 1;position: relative;background-color: white;}#sk-container-id-2 div.sk-parallel-item:first-child::after {align-self: flex-end;width: 50%;}#sk-container-id-2 div.sk-parallel-item:last-child::after {align-self: flex-start;width: 50%;}#sk-container-id-2 div.sk-parallel-item:only-child::after {width: 0;}#sk-container-id-2 div.sk-dashed-wrapped {border: 1px dashed gray;margin: 0 0.4em 0.5em 0.4em;box-sizing: border-box;padding-bottom: 0.4em;background-color: white;}#sk-container-id-2 div.sk-label label {font-family: monospace;font-weight: bold;display: inline-block;line-height: 1.2em;}#sk-container-id-2 div.sk-label-container {text-align: center;}#sk-container-id-2 div.sk-container {/* jupyter's `normalize.less` sets `[hidden] { display: none; }` but bootstrap.min.css set `[hidden] { display: none !important; }` so we also need the `!important` here to be able to override the default hidden behavior on the sphinx rendered scikit-learn.org. See: https://github.com/scikit-learn/scikit-learn/issues/21755 */display: inline-block !important;position: relative;}#sk-container-id-2 div.sk-text-repr-fallback {display: none;}</style><div id=\"sk-container-id-2\" class=\"sk-top-container\"><div class=\"sk-text-repr-fallback\"><pre>RandomForestClassifier(random_state=1)</pre><b>In a Jupyter environment, please rerun this cell to show the HTML representation or trust the notebook. <br />On GitHub, the HTML representation is unable to render, please try loading this page with nbviewer.org.</b></div><div class=\"sk-container\" hidden><div class=\"sk-item\"><div class=\"sk-estimator sk-toggleable\"><input class=\"sk-toggleable__control sk-hidden--visually\" id=\"sk-estimator-id-2\" type=\"checkbox\" checked><label for=\"sk-estimator-id-2\" class=\"sk-toggleable__label sk-toggleable__label-arrow\">RandomForestClassifier</label><div class=\"sk-toggleable__content\"><pre>RandomForestClassifier(random_state=1)</pre></div></div></div></div></div>"
      ],
      "text/plain": [
       "RandomForestClassifier(random_state=1)"
      ]
     },
     "execution_count": 45,
     "metadata": {},
     "output_type": "execute_result"
    }
   ],
   "source": [
    "rfc.fit(x_train,y_train)"
   ]
  },
  {
   "cell_type": "code",
   "execution_count": 46,
   "id": "5b1c78a3",
   "metadata": {
    "execution": {
     "iopub.execute_input": "2024-09-05T13:54:48.182846Z",
     "iopub.status.busy": "2024-09-05T13:54:48.181791Z",
     "iopub.status.idle": "2024-09-05T13:54:48.225200Z",
     "shell.execute_reply": "2024-09-05T13:54:48.224009Z"
    },
    "papermill": {
     "duration": 0.066035,
     "end_time": "2024-09-05T13:54:48.228002",
     "exception": false,
     "start_time": "2024-09-05T13:54:48.161967",
     "status": "completed"
    },
    "tags": []
   },
   "outputs": [],
   "source": [
    "y_pred2 = rfc.predict(x_test)"
   ]
  },
  {
   "cell_type": "code",
   "execution_count": 47,
   "id": "15b83157",
   "metadata": {
    "execution": {
     "iopub.execute_input": "2024-09-05T13:54:48.267377Z",
     "iopub.status.busy": "2024-09-05T13:54:48.266631Z",
     "iopub.status.idle": "2024-09-05T13:54:48.274601Z",
     "shell.execute_reply": "2024-09-05T13:54:48.273624Z"
    },
    "papermill": {
     "duration": 0.029905,
     "end_time": "2024-09-05T13:54:48.276760",
     "exception": false,
     "start_time": "2024-09-05T13:54:48.246855",
     "status": "completed"
    },
    "tags": []
   },
   "outputs": [
    {
     "data": {
      "text/plain": [
       "99.40173496859109"
      ]
     },
     "execution_count": 47,
     "metadata": {},
     "output_type": "execute_result"
    }
   ],
   "source": [
    "accuracy_score(y_test,y_pred2)*100"
   ]
  },
  {
   "cell_type": "markdown",
   "id": "dcacae55",
   "metadata": {
    "papermill": {
     "duration": 0.018513,
     "end_time": "2024-09-05T13:54:48.314174",
     "exception": false,
     "start_time": "2024-09-05T13:54:48.295661",
     "status": "completed"
    },
    "tags": []
   },
   "source": [
    "We still got 99.4 % accuracy with balanced dataset on our test set :)"
   ]
  },
  {
   "cell_type": "code",
   "execution_count": 48,
   "id": "4f1fef10",
   "metadata": {
    "execution": {
     "iopub.execute_input": "2024-09-05T13:54:48.353967Z",
     "iopub.status.busy": "2024-09-05T13:54:48.353137Z",
     "iopub.status.idle": "2024-09-05T13:54:48.592277Z",
     "shell.execute_reply": "2024-09-05T13:54:48.591092Z"
    },
    "papermill": {
     "duration": 0.26208,
     "end_time": "2024-09-05T13:54:48.594707",
     "exception": false,
     "start_time": "2024-09-05T13:54:48.332627",
     "status": "completed"
    },
    "tags": []
   },
   "outputs": [
    {
     "data": {
      "text/plain": [
       "<Axes: >"
      ]
     },
     "execution_count": 48,
     "metadata": {},
     "output_type": "execute_result"
    },
    {
     "data": {
      "image/png": "[encoded data removed]",
      "text/plain": [
       "<Figure size 640x480 with 2 Axes>"
      ]
     },
     "metadata": {},
     "output_type": "display_data"
    }
   ],
   "source": [
    "sns.heatmap(confusion_matrix(y_test,y_pred2),annot = True, cmap = 'coolwarm', fmt = '.1f')"
   ]
  },
  {
   "cell_type": "code",
   "execution_count": 49,
   "id": "596469e9",
   "metadata": {
    "execution": {
     "iopub.execute_input": "2024-09-05T13:54:48.634733Z",
     "iopub.status.busy": "2024-09-05T13:54:48.634336Z",
     "iopub.status.idle": "2024-09-05T13:54:48.654069Z",
     "shell.execute_reply": "2024-09-05T13:54:48.652552Z"
    },
    "papermill": {
     "duration": 0.042554,
     "end_time": "2024-09-05T13:54:48.656370",
     "exception": false,
     "start_time": "2024-09-05T13:54:48.613816",
     "status": "completed"
    },
    "tags": []
   },
   "outputs": [
    {
     "name": "stdout",
     "output_type": "stream",
     "text": [
      "              precision    recall  f1-score   support\n",
      "\n",
      "           0       1.00      0.99      0.99      1685\n",
      "           1       0.99      1.00      0.99      1658\n",
      "\n",
      "    accuracy                           0.99      3343\n",
      "   macro avg       0.99      0.99      0.99      3343\n",
      "weighted avg       0.99      0.99      0.99      3343\n",
      "\n"
     ]
    }
   ],
   "source": [
    "print(classification_report(y_test,y_pred2))"
   ]
  },
  {
   "cell_type": "markdown",
   "id": "c5eeb1fe",
   "metadata": {
    "papermill": {
     "duration": 0.018727,
     "end_time": "2024-09-05T13:54:48.694108",
     "exception": false,
     "start_time": "2024-09-05T13:54:48.675381",
     "status": "completed"
    },
    "tags": []
   },
   "source": [
    "# ROC Curve"
   ]
  },
  {
   "cell_type": "code",
   "execution_count": 50,
   "id": "81deee9e",
   "metadata": {
    "execution": {
     "iopub.execute_input": "2024-09-05T13:54:48.734552Z",
     "iopub.status.busy": "2024-09-05T13:54:48.733554Z",
     "iopub.status.idle": "2024-09-05T13:54:48.945744Z",
     "shell.execute_reply": "2024-09-05T13:54:48.944452Z"
    },
    "papermill": {
     "duration": 0.235027,
     "end_time": "2024-09-05T13:54:48.948263",
     "exception": false,
     "start_time": "2024-09-05T13:54:48.713236",
     "status": "completed"
    },
    "tags": []
   },
   "outputs": [
    {
     "data": {
      "image/png": "[encoded data removed]",
      "text/plain": [
       "<Figure size 640x480 with 1 Axes>"
      ]
     },
     "metadata": {},
     "output_type": "display_data"
    }
   ],
   "source": [
    "# Calculate ROC curve\n",
    "fpr, tpr, _ = roc_curve(y_test, y_pred2)\n",
    "roc_auc = auc(fpr, tpr)\n",
    "\n",
    "# Plot ROC curve\n",
    "plt.figure()\n",
    "plt.plot(fpr, tpr, color='darkorange', lw=2, label='ROC curve (area = %0.2f)' % roc_auc)\n",
    "plt.plot([0, 1], [0, 1], color='navy', lw=2, linestyle='--')\n",
    "plt.xlim([0.0, 1.0])\n",
    "plt.ylim([0.0, 1.05])\n",
    "plt.xlabel('False Positive Rate')\n",
    "plt.ylabel('True Positive Rate')\n",
    "plt.title('Receiver Operating Characteristic')\n",
    "plt.legend(loc='lower right')\n",
    "plt.show()"
   ]
  },
  {
   "cell_type": "code",
   "execution_count": null,
   "id": "b68942ac",
   "metadata": {
    "papermill": {
     "duration": 0.019593,
     "end_time": "2024-09-05T13:54:48.987864",
     "exception": false,
     "start_time": "2024-09-05T13:54:48.968271",
     "status": "completed"
    },
    "tags": []
   },
   "outputs": [],
   "source": []
  }
 ],
 "metadata": {
  "kaggle": {
   "accelerator": "none",
   "dataSources": [
    {
     "datasetId": 2580326,
     "sourceId": 4398600,
     "sourceType": "datasetVersion"
    }
   ],
   "dockerImageVersionId": 30761,
   "isGpuEnabled": false,
   "isInternetEnabled": true,
   "language": "python",
   "sourceType": "notebook"
  },
  "kernelspec": {
   "display_name": "Python 3",
   "language": "python",
   "name": "python3"
  },
  "language_info": {
   "codemirror_mode": {
    "name": "ipython",
    "version": 3
   },
   "file_extension": ".py",
   "mimetype": "text/x-python",
   "name": "python",
   "nbconvert_exporter": "python",
   "pygments_lexer": "ipython3",
   "version": "3.10.14"
  },
  "papermill": {
   "default_parameters": {},
   "duration": 1344.020151,
   "end_time": "2024-09-05T13:54:50.233124",
   "environment_variables": {},
   "exception": null,
   "input_path": "__notebook__.ipynb",
   "output_path": "__notebook__.ipynb",
   "parameters": {},
   "start_time": "2024-09-05T13:32:26.212973",
   "version": "2.6.0"
  }
 },
 "nbformat": 4,
 "nbformat_minor": 5
}
